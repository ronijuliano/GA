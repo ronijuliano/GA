{
 "cells": [
  {
   "cell_type": "markdown",
   "metadata": {},
   "source": [
    "<a name='top'></a>    \n",
    "<div style=\"width:900px;background:#fdf0db;border:1px solid black;text-align:left;padding:8px;\">\n",
    "    <p>\n",
    "        <span style=\"font-size:14pt\">\n",
    "            <b>Data Modelling and Analysis</b>\n",
    "        </span>\n",
    "    </p>\n",
    "</div>\n",
    "\n",
    "<div style=\"width:900px;background:#f2f2f2;border:1px solid black;text-align:left;padding:8px;\">\n",
    "Here, we will now use different models \n",
    " \n",
    "\n",
    "   \n",
    "\n",
    "## Notebook Outline ##    \n",
    "1. [Question 1 (Factors that impact salary)](#q1)    \n",
    "1.1   [Modelling](#q1mod0)    \n",
    "1.1.1 [Logistic Regression](#q1mod1)     \n",
    "1.1.2 [RandomForest Classifier (RFC)](#q1mod2)     \n",
    "1.1.3 [Decision Tree Classifier](#q1mod3)    \n",
    "1.1.4 [SVM](#q1mod4)    \n",
    "1.1.5 [Regression models](#q1mod5)    \n",
    "1.2   [Summary](#q1mod6)    \n",
    "<br>\n",
    "2. [Question 2 (Factors that distinguish Job Category)](#q2)    \n",
    "2.1   [EDA Data Analysis](#eda)    \n",
    "2.2   [Modelling](#q2mod0)    \n",
    "2.2.1 [Logistic Regression](#q2mod1)     \n",
    "2.2.2 [RandomForest Classifier (RFC)](#q2mod2)     \n",
    "2.2.3 [Decision Tree Classifier](#q2mod3)    \n",
    "2.3   [Summary](#q2mod5)        \n",
    "\n",
    "\n",
    "</div>"
   ]
  },
  {
   "cell_type": "code",
   "execution_count": 1,
   "metadata": {},
   "outputs": [],
   "source": [
    "import os\n",
    "from selenium import webdriver\n",
    "from time import sleep\n",
    "from bs4 import BeautifulSoup\n",
    "\n",
    "import pandas as pd\n",
    "import numpy as np\n",
    "import re\n",
    "\n",
    "import seaborn as sns\n",
    "import matplotlib.patches as mpatches\n",
    "import matplotlib.pyplot as plt\n",
    "import warnings\n",
    "\n",
    "sns.set_style(\"whitegrid\")\n",
    "warnings.filterwarnings('ignore')\n",
    "\n",
    "%matplotlib inline\n",
    "%config InlineBackend.figure_format = 'retina'"
   ]
  },
  {
   "cell_type": "markdown",
   "metadata": {},
   "source": [
    "<div style=\"width:610px;background:#fdf0db;border:1px solid black;\n",
    "  text-align:left;padding:8px;\"><b>\n",
    "<h7><a name='open'><font color=black>Open final_webscrape.csv    \n",
    "    </a></h7></b>    \n",
    "\n",
    "</div>"
   ]
  },
  {
   "cell_type": "code",
   "execution_count": 2,
   "metadata": {},
   "outputs": [],
   "source": [
    "file='final_webscrape.csv'\n",
    "path='data\\\\'\n",
    "df = pd.read_csv('{}{}'.format(path,file), encoding='latin1')"
   ]
  },
  {
   "cell_type": "code",
   "execution_count": 3,
   "metadata": {},
   "outputs": [
    {
     "data": {
      "text/html": [
       "<div>\n",
       "<style scoped>\n",
       "    .dataframe tbody tr th:only-of-type {\n",
       "        vertical-align: middle;\n",
       "    }\n",
       "\n",
       "    .dataframe tbody tr th {\n",
       "        vertical-align: top;\n",
       "    }\n",
       "\n",
       "    .dataframe thead th {\n",
       "        text-align: right;\n",
       "    }\n",
       "</style>\n",
       "<table border=\"1\" class=\"dataframe\">\n",
       "  <thead>\n",
       "    <tr style=\"text-align: right;\">\n",
       "      <th></th>\n",
       "      <th>job_titles</th>\n",
       "      <th>companys</th>\n",
       "      <th>employment_type</th>\n",
       "      <th>seniority</th>\n",
       "      <th>industrys</th>\n",
       "      <th>salary</th>\n",
       "      <th>salary_terms</th>\n",
       "      <th>job_descriptions</th>\n",
       "      <th>job_requirements</th>\n",
       "      <th>links</th>\n",
       "      <th>location</th>\n",
       "      <th>gov_support</th>\n",
       "      <th>min_salary</th>\n",
       "      <th>max_salary</th>\n",
       "      <th>average_salary</th>\n",
       "      <th>salary_med</th>\n",
       "      <th>job_titles_topics</th>\n",
       "      <th>job_description_topic</th>\n",
       "      <th>job_req_topics</th>\n",
       "    </tr>\n",
       "  </thead>\n",
       "  <tbody>\n",
       "    <tr>\n",
       "      <th>0</th>\n",
       "      <td>Applied Data Science Associate</td>\n",
       "      <td>DATAROBOT SINGAPORE PTE. LTD.</td>\n",
       "      <td>Permanent</td>\n",
       "      <td>Professional</td>\n",
       "      <td>Information Technology</td>\n",
       "      <td>90000to150000</td>\n",
       "      <td>Monthly</td>\n",
       "      <td>Looking to move into Data Science? Want to lea...</td>\n",
       "      <td>RequirementsMain Requirements  Experience/Trai...</td>\n",
       "      <td>https://www.mycareersfuture.sg/job/applied-dat...</td>\n",
       "      <td>Central</td>\n",
       "      <td>yes</td>\n",
       "      <td>7500.0</td>\n",
       "      <td>12500.0</td>\n",
       "      <td>10000.0</td>\n",
       "      <td>1</td>\n",
       "      <td>5</td>\n",
       "      <td>6</td>\n",
       "      <td>4</td>\n",
       "    </tr>\n",
       "    <tr>\n",
       "      <th>1</th>\n",
       "      <td>Senior / Data Engineer (Data Science Team)</td>\n",
       "      <td>M1 LIMITED</td>\n",
       "      <td>Full Time</td>\n",
       "      <td>Fresh/entry level</td>\n",
       "      <td>Engineering</td>\n",
       "      <td>3500to5800</td>\n",
       "      <td>Monthly</td>\n",
       "      <td>Design, optimise/tune performance, maintain, ...</td>\n",
       "      <td>Requirements BachelorÃ¢ÂÂs degree in Compute...</td>\n",
       "      <td>https://www.mycareersfuture.sg/job/senior-data...</td>\n",
       "      <td>West</td>\n",
       "      <td>yes</td>\n",
       "      <td>3500.0</td>\n",
       "      <td>5800.0</td>\n",
       "      <td>4650.0</td>\n",
       "      <td>0</td>\n",
       "      <td>7</td>\n",
       "      <td>6</td>\n",
       "      <td>5</td>\n",
       "    </tr>\n",
       "    <tr>\n",
       "      <th>2</th>\n",
       "      <td>Data Science Engineer</td>\n",
       "      <td>DATAROBOT SINGAPORE PTE. LTD.</td>\n",
       "      <td>Permanent</td>\n",
       "      <td>Professional</td>\n",
       "      <td>Information Technology</td>\n",
       "      <td>90000to150000</td>\n",
       "      <td>Monthly</td>\n",
       "      <td>As a Data Science Engineer in DataRobot, you w...</td>\n",
       "      <td>Requirements 5+ years of combined python Engin...</td>\n",
       "      <td>https://www.mycareersfuture.sg/job/data-scienc...</td>\n",
       "      <td>Central</td>\n",
       "      <td>yes</td>\n",
       "      <td>7500.0</td>\n",
       "      <td>12500.0</td>\n",
       "      <td>10000.0</td>\n",
       "      <td>1</td>\n",
       "      <td>0</td>\n",
       "      <td>6</td>\n",
       "      <td>5</td>\n",
       "    </tr>\n",
       "  </tbody>\n",
       "</table>\n",
       "</div>"
      ],
      "text/plain": [
       "                                   job_titles                       companys  \\\n",
       "0              Applied Data Science Associate  DATAROBOT SINGAPORE PTE. LTD.   \n",
       "1  Senior / Data Engineer (Data Science Team)                     M1 LIMITED   \n",
       "2                       Data Science Engineer  DATAROBOT SINGAPORE PTE. LTD.   \n",
       "\n",
       "  employment_type          seniority               industrys         salary  \\\n",
       "0       Permanent       Professional  Information Technology  90000to150000   \n",
       "1       Full Time  Fresh/entry level             Engineering     3500to5800   \n",
       "2       Permanent       Professional  Information Technology  90000to150000   \n",
       "\n",
       "  salary_terms                                   job_descriptions  \\\n",
       "0      Monthly  Looking to move into Data Science? Want to lea...   \n",
       "1      Monthly   Design, optimise/tune performance, maintain, ...   \n",
       "2      Monthly  As a Data Science Engineer in DataRobot, you w...   \n",
       "\n",
       "                                    job_requirements  \\\n",
       "0  RequirementsMain Requirements  Experience/Trai...   \n",
       "1  Requirements BachelorÃ¢ÂÂs degree in Compute...   \n",
       "2  Requirements 5+ years of combined python Engin...   \n",
       "\n",
       "                                               links location gov_support  \\\n",
       "0  https://www.mycareersfuture.sg/job/applied-dat...  Central         yes   \n",
       "1  https://www.mycareersfuture.sg/job/senior-data...     West         yes   \n",
       "2  https://www.mycareersfuture.sg/job/data-scienc...  Central         yes   \n",
       "\n",
       "   min_salary  max_salary  average_salary  salary_med  job_titles_topics  \\\n",
       "0      7500.0     12500.0         10000.0           1                  5   \n",
       "1      3500.0      5800.0          4650.0           0                  7   \n",
       "2      7500.0     12500.0         10000.0           1                  0   \n",
       "\n",
       "   job_description_topic  job_req_topics  \n",
       "0                      6               4  \n",
       "1                      6               5  \n",
       "2                      6               5  "
      ]
     },
     "execution_count": 3,
     "metadata": {},
     "output_type": "execute_result"
    }
   ],
   "source": [
    "## drop unnamed field\n",
    "df.drop('Unnamed: 0', axis=1, inplace=True)\n",
    "df.head(3)"
   ]
  },
  {
   "cell_type": "code",
   "execution_count": 4,
   "metadata": {},
   "outputs": [
    {
     "data": {
      "text/plain": [
       "['job_titles',\n",
       " 'companys',\n",
       " 'employment_type',\n",
       " 'seniority',\n",
       " 'industrys',\n",
       " 'salary',\n",
       " 'salary_terms',\n",
       " 'job_descriptions',\n",
       " 'job_requirements',\n",
       " 'links',\n",
       " 'location',\n",
       " 'gov_support',\n",
       " 'min_salary',\n",
       " 'max_salary',\n",
       " 'average_salary',\n",
       " 'salary_med',\n",
       " 'job_titles_topics',\n",
       " 'job_description_topic',\n",
       " 'job_req_topics']"
      ]
     },
     "execution_count": 4,
     "metadata": {},
     "output_type": "execute_result"
    }
   ],
   "source": [
    "[x for x in df.columns]"
   ]
  },
  {
   "cell_type": "code",
   "execution_count": 5,
   "metadata": {
    "scrolled": true
   },
   "outputs": [
    {
     "data": {
      "text/html": [
       "<div>\n",
       "<style scoped>\n",
       "    .dataframe tbody tr th:only-of-type {\n",
       "        vertical-align: middle;\n",
       "    }\n",
       "\n",
       "    .dataframe tbody tr th {\n",
       "        vertical-align: top;\n",
       "    }\n",
       "\n",
       "    .dataframe thead th {\n",
       "        text-align: right;\n",
       "    }\n",
       "</style>\n",
       "<table border=\"1\" class=\"dataframe\">\n",
       "  <thead>\n",
       "    <tr style=\"text-align: right;\">\n",
       "      <th></th>\n",
       "      <th>employment_type</th>\n",
       "      <th>seniority</th>\n",
       "      <th>industrys</th>\n",
       "      <th>location</th>\n",
       "      <th>gov_support</th>\n",
       "      <th>salary_med</th>\n",
       "      <th>job_titles_topics</th>\n",
       "      <th>job_description_topic</th>\n",
       "      <th>job_req_topics</th>\n",
       "    </tr>\n",
       "  </thead>\n",
       "  <tbody>\n",
       "    <tr>\n",
       "      <th>0</th>\n",
       "      <td>Permanent</td>\n",
       "      <td>Professional</td>\n",
       "      <td>Information Technology</td>\n",
       "      <td>Central</td>\n",
       "      <td>yes</td>\n",
       "      <td>1</td>\n",
       "      <td>5</td>\n",
       "      <td>6</td>\n",
       "      <td>4</td>\n",
       "    </tr>\n",
       "    <tr>\n",
       "      <th>1</th>\n",
       "      <td>Full Time</td>\n",
       "      <td>Fresh/entry level</td>\n",
       "      <td>Engineering</td>\n",
       "      <td>West</td>\n",
       "      <td>yes</td>\n",
       "      <td>0</td>\n",
       "      <td>7</td>\n",
       "      <td>6</td>\n",
       "      <td>5</td>\n",
       "    </tr>\n",
       "    <tr>\n",
       "      <th>2</th>\n",
       "      <td>Permanent</td>\n",
       "      <td>Professional</td>\n",
       "      <td>Information Technology</td>\n",
       "      <td>Central</td>\n",
       "      <td>yes</td>\n",
       "      <td>1</td>\n",
       "      <td>0</td>\n",
       "      <td>6</td>\n",
       "      <td>5</td>\n",
       "    </tr>\n",
       "  </tbody>\n",
       "</table>\n",
       "</div>"
      ],
      "text/plain": [
       "  employment_type          seniority               industrys location  \\\n",
       "0       Permanent       Professional  Information Technology  Central   \n",
       "1       Full Time  Fresh/entry level             Engineering     West   \n",
       "2       Permanent       Professional  Information Technology  Central   \n",
       "\n",
       "  gov_support  salary_med  job_titles_topics  job_description_topic  \\\n",
       "0         yes           1                  5                      6   \n",
       "1         yes           0                  7                      6   \n",
       "2         yes           1                  0                      6   \n",
       "\n",
       "   job_req_topics  \n",
       "0               4  \n",
       "1               5  \n",
       "2               5  "
      ]
     },
     "execution_count": 5,
     "metadata": {},
     "output_type": "execute_result"
    }
   ],
   "source": [
    "## We will only use the relevant columns\n",
    "cols=[\n",
    " 'employment_type',\n",
    " 'seniority',\n",
    " 'industrys',\n",
    " 'location',\n",
    " 'gov_support',\n",
    " 'salary_med',\n",
    " 'job_titles_topics',\n",
    " 'job_description_topic',\n",
    " 'job_req_topics']\n",
    "\n",
    "df1=df[cols]\n",
    "df1.head(3)"
   ]
  },
  {
   "cell_type": "code",
   "execution_count": 6,
   "metadata": {},
   "outputs": [],
   "source": [
    "dummy_cols=['employment_type','seniority','industrys','location','gov_support', \n",
    "            'job_description_topic', 'job_req_topics', 'job_titles_topics']"
   ]
  },
  {
   "cell_type": "code",
   "execution_count": 7,
   "metadata": {},
   "outputs": [
    {
     "name": "stdout",
     "output_type": "stream",
     "text": [
      "(598, 45)\n"
     ]
    }
   ],
   "source": [
    "df1_dummy= pd.get_dummies(df1,columns=dummy_cols,drop_first=True)\n",
    "print(df1_dummy.shape)"
   ]
  },
  {
   "cell_type": "code",
   "execution_count": 8,
   "metadata": {},
   "outputs": [],
   "source": [
    "X=df1_dummy.drop('salary_med', axis=1)"
   ]
  },
  {
   "cell_type": "code",
   "execution_count": 9,
   "metadata": {},
   "outputs": [],
   "source": [
    "y=df1.salary_med"
   ]
  },
  {
   "cell_type": "markdown",
   "metadata": {},
   "source": [
    "## <a name='q1'><font color=black> Question 1 (Factors that impact salary)"
   ]
  },
  {
   "cell_type": "markdown",
   "metadata": {},
   "source": [
    "<div style=\"width:610px;background:#fdf0db;border:1px solid black;\n",
    "  text-align:left;padding:8px;\"><b>\n",
    "<h7><a name='q1mod0'><font color=black>Modelling  \n",
    "    </a></h7></b>    \n",
    "</div>"
   ]
  },
  {
   "cell_type": "markdown",
   "metadata": {},
   "source": [
    "<div style=\"width:610px;background:#fdf0db;border:1px solid black;\n",
    "  text-align:left;padding:8px;\"><b>\n",
    "<h7><a name='q1mod1'><font color=black>Logistic Regression  \n",
    "    </a></h7></b>    \n",
    "</div>"
   ]
  },
  {
   "cell_type": "code",
   "execution_count": 10,
   "metadata": {},
   "outputs": [
    {
     "name": "stdout",
     "output_type": "stream",
     "text": [
      "[0.86432519 0.78213585 0.72206148 0.8505425 ] 0.8047662557624227\n"
     ]
    }
   ],
   "source": [
    "from sklearn.model_selection import cross_val_score\n",
    "from sklearn.linear_model import LogisticRegression\n",
    "\n",
    "# cross val Log Reg with 4 folds\n",
    "cls_scores = cross_val_score(LogisticRegression(), X, y, cv=4, scoring='roc_auc')\n",
    "\n",
    "#get scores\n",
    "print(cls_scores, np.mean(cls_scores))\n",
    "\n",
    "# fit models\n",
    "logreg = LogisticRegression().fit(X, y) #AUC"
   ]
  },
  {
   "cell_type": "code",
   "execution_count": 11,
   "metadata": {},
   "outputs": [],
   "source": [
    "# the score looks ok. now lets check the score of the other models"
   ]
  },
  {
   "cell_type": "markdown",
   "metadata": {},
   "source": [
    "<div style=\"width:610px;background:#fdf0db;border:1px solid black;\n",
    "  text-align:left;padding:8px;\"><b>\n",
    "<h7><a name='q1mod2'><font color=black>RandomForest Classifier (RFC) \n",
    "    </a></h7></b>    \n",
    "</div>"
   ]
  },
  {
   "cell_type": "code",
   "execution_count": 12,
   "metadata": {},
   "outputs": [],
   "source": [
    "#train test split\n",
    "from sklearn.model_selection import train_test_split\n",
    "X_train, X_test, y_train, y_test = train_test_split(X, y, test_size=0.30)"
   ]
  },
  {
   "cell_type": "code",
   "execution_count": 13,
   "metadata": {},
   "outputs": [
    {
     "data": {
      "text/plain": [
       "RandomForestClassifier(bootstrap=True, class_weight=None, criterion='gini',\n",
       "            max_depth=None, max_features='auto', max_leaf_nodes=None,\n",
       "            min_impurity_decrease=0.0, min_impurity_split=None,\n",
       "            min_samples_leaf=1, min_samples_split=2,\n",
       "            min_weight_fraction_leaf=0.0, n_estimators=200, n_jobs=None,\n",
       "            oob_score=False, random_state=None, verbose=0,\n",
       "            warm_start=False)"
      ]
     },
     "execution_count": 13,
     "metadata": {},
     "output_type": "execute_result"
    }
   ],
   "source": [
    "from sklearn.ensemble import RandomForestClassifier\n",
    "from sklearn.metrics import classification_report,confusion_matrix\n",
    "rfc = RandomForestClassifier(n_estimators=200)\n",
    "rfc.fit(X_train, y_train)"
   ]
  },
  {
   "cell_type": "code",
   "execution_count": 14,
   "metadata": {},
   "outputs": [],
   "source": [
    "rfc_pred = rfc.predict(X_test)"
   ]
  },
  {
   "cell_type": "code",
   "execution_count": 15,
   "metadata": {},
   "outputs": [
    {
     "name": "stdout",
     "output_type": "stream",
     "text": [
      "[[69 26]\n",
      " [15 70]]\n"
     ]
    }
   ],
   "source": [
    "print(confusion_matrix(y_test,rfc_pred))"
   ]
  },
  {
   "cell_type": "code",
   "execution_count": 16,
   "metadata": {},
   "outputs": [
    {
     "name": "stdout",
     "output_type": "stream",
     "text": [
      "              precision    recall  f1-score   support\n",
      "\n",
      "           0       0.82      0.73      0.77        95\n",
      "           1       0.73      0.82      0.77        85\n",
      "\n",
      "   micro avg       0.77      0.77      0.77       180\n",
      "   macro avg       0.78      0.77      0.77       180\n",
      "weighted avg       0.78      0.77      0.77       180\n",
      "\n"
     ]
    }
   ],
   "source": [
    "print(classification_report(y_test,rfc_pred))"
   ]
  },
  {
   "cell_type": "code",
   "execution_count": 17,
   "metadata": {},
   "outputs": [],
   "source": [
    "## FINDINGS:\n",
    "\n",
    "# RFC works better for both category when compared to \n",
    "#     logistic classification"
   ]
  },
  {
   "cell_type": "markdown",
   "metadata": {},
   "source": [
    "<div style=\"width:610px;background:#fdf0db;border:1px solid black;\n",
    "  text-align:left;padding:8px;\"><b>\n",
    "<h7><a name='q1mod3'><font color=black>Decision Tree Classifier  \n",
    "    </a></h7></b>    \n",
    "</div>"
   ]
  },
  {
   "cell_type": "code",
   "execution_count": 18,
   "metadata": {},
   "outputs": [],
   "source": [
    "from sklearn.tree import DecisionTreeClassifier\n",
    "\n",
    "# gridsearch params\n",
    "dtc_params = {\n",
    "    'max_depth':[None,1,2,3,4],\n",
    "    'max_features':[None,'log2','sqrt',2,3,4,5],\n",
    "    'min_samples_split':[2,3,4,5,10,15,20,25,30,40,50]\n",
    "}\n",
    "\n",
    "from sklearn.model_selection import GridSearchCV\n",
    "# set the gridsearch\n",
    "dtc_gs = GridSearchCV(DecisionTreeClassifier(), \n",
    "                      dtc_params, \n",
    "                      cv=5, \n",
    "                      verbose=1, \n",
    "                      scoring='roc_auc', \n",
    "                      n_jobs=-1)"
   ]
  },
  {
   "cell_type": "code",
   "execution_count": 19,
   "metadata": {},
   "outputs": [
    {
     "name": "stdout",
     "output_type": "stream",
     "text": [
      "Fitting 5 folds for each of 385 candidates, totalling 1925 fits\n"
     ]
    },
    {
     "name": "stderr",
     "output_type": "stream",
     "text": [
      "[Parallel(n_jobs=-1)]: Using backend LokyBackend with 4 concurrent workers.\n",
      "[Parallel(n_jobs=-1)]: Done 112 tasks      | elapsed:    7.4s\n",
      "[Parallel(n_jobs=-1)]: Done 1925 out of 1925 | elapsed:   12.1s finished\n",
      "C:\\ProgramData\\Anaconda3\\lib\\site-packages\\sklearn\\model_selection\\_search.py:841: DeprecationWarning: The default of the `iid` parameter will change from True to False in version 0.22 and will be removed in 0.24. This will change numeric results when test-set sizes are unequal.\n",
      "  DeprecationWarning)\n"
     ]
    },
    {
     "data": {
      "text/plain": [
       "GridSearchCV(cv=5, error_score='raise-deprecating',\n",
       "       estimator=DecisionTreeClassifier(class_weight=None, criterion='gini', max_depth=None,\n",
       "            max_features=None, max_leaf_nodes=None,\n",
       "            min_impurity_decrease=0.0, min_impurity_split=None,\n",
       "            min_samples_leaf=1, min_samples_split=2,\n",
       "            min_weight_fraction_leaf=0.0, presort=False, random_state=None,\n",
       "            splitter='best'),\n",
       "       fit_params=None, iid='warn', n_jobs=-1,\n",
       "       param_grid={'max_depth': [None, 1, 2, 3, 4], 'max_features': [None, 'log2', 'sqrt', 2, 3, 4, 5], 'min_samples_split': [2, 3, 4, 5, 10, 15, 20, 25, 30, 40, 50]},\n",
       "       pre_dispatch='2*n_jobs', refit=True, return_train_score='warn',\n",
       "       scoring='roc_auc', verbose=1)"
      ]
     },
     "execution_count": 19,
     "metadata": {},
     "output_type": "execute_result"
    }
   ],
   "source": [
    "# use the gridearc C model to fit the data\n",
    "dtc_gs.fit(X, y)"
   ]
  },
  {
   "cell_type": "code",
   "execution_count": 20,
   "metadata": {},
   "outputs": [
    {
     "name": "stdout",
     "output_type": "stream",
     "text": [
      "{'max_depth': None, 'max_features': 'sqrt', 'min_samples_split': 40}\n",
      "0.7760705676538057\n"
     ]
    }
   ],
   "source": [
    "dtc_best = dtc_gs.best_estimator_\n",
    "print(dtc_gs.best_params_)\n",
    "print(dtc_gs.best_score_)"
   ]
  },
  {
   "cell_type": "code",
   "execution_count": 21,
   "metadata": {},
   "outputs": [
    {
     "data": {
      "text/html": [
       "<div>\n",
       "<style scoped>\n",
       "    .dataframe tbody tr th:only-of-type {\n",
       "        vertical-align: middle;\n",
       "    }\n",
       "\n",
       "    .dataframe tbody tr th {\n",
       "        vertical-align: top;\n",
       "    }\n",
       "\n",
       "    .dataframe thead th {\n",
       "        text-align: right;\n",
       "    }\n",
       "</style>\n",
       "<table border=\"1\" class=\"dataframe\">\n",
       "  <thead>\n",
       "    <tr style=\"text-align: right;\">\n",
       "      <th></th>\n",
       "      <th>feature</th>\n",
       "      <th>importance</th>\n",
       "    </tr>\n",
       "  </thead>\n",
       "  <tbody>\n",
       "    <tr>\n",
       "      <th>28</th>\n",
       "      <td>job_req_topics_3</td>\n",
       "      <td>0.107398</td>\n",
       "    </tr>\n",
       "    <tr>\n",
       "      <th>5</th>\n",
       "      <td>seniority_Middle Management</td>\n",
       "      <td>0.106254</td>\n",
       "    </tr>\n",
       "    <tr>\n",
       "      <th>23</th>\n",
       "      <td>job_description_topic_7</td>\n",
       "      <td>0.098562</td>\n",
       "    </tr>\n",
       "    <tr>\n",
       "      <th>21</th>\n",
       "      <td>job_description_topic_5</td>\n",
       "      <td>0.075648</td>\n",
       "    </tr>\n",
       "    <tr>\n",
       "      <th>7</th>\n",
       "      <td>seniority_Professional</td>\n",
       "      <td>0.067620</td>\n",
       "    </tr>\n",
       "    <tr>\n",
       "      <th>15</th>\n",
       "      <td>location_West</td>\n",
       "      <td>0.064749</td>\n",
       "    </tr>\n",
       "    <tr>\n",
       "      <th>3</th>\n",
       "      <td>seniority_Junior Executive</td>\n",
       "      <td>0.057586</td>\n",
       "    </tr>\n",
       "    <tr>\n",
       "      <th>2</th>\n",
       "      <td>seniority_Fresh/entry level</td>\n",
       "      <td>0.046052</td>\n",
       "    </tr>\n",
       "    <tr>\n",
       "      <th>9</th>\n",
       "      <td>seniority_Senior Management</td>\n",
       "      <td>0.036959</td>\n",
       "    </tr>\n",
       "    <tr>\n",
       "      <th>42</th>\n",
       "      <td>job_titles_topics_8</td>\n",
       "      <td>0.035990</td>\n",
       "    </tr>\n",
       "    <tr>\n",
       "      <th>43</th>\n",
       "      <td>job_titles_topics_9</td>\n",
       "      <td>0.031756</td>\n",
       "    </tr>\n",
       "    <tr>\n",
       "      <th>24</th>\n",
       "      <td>job_description_topic_8</td>\n",
       "      <td>0.029805</td>\n",
       "    </tr>\n",
       "    <tr>\n",
       "      <th>26</th>\n",
       "      <td>job_req_topics_1</td>\n",
       "      <td>0.028646</td>\n",
       "    </tr>\n",
       "    <tr>\n",
       "      <th>41</th>\n",
       "      <td>job_titles_topics_7</td>\n",
       "      <td>0.024945</td>\n",
       "    </tr>\n",
       "    <tr>\n",
       "      <th>4</th>\n",
       "      <td>seniority_Manager</td>\n",
       "      <td>0.023602</td>\n",
       "    </tr>\n",
       "    <tr>\n",
       "      <th>31</th>\n",
       "      <td>job_req_topics_6</td>\n",
       "      <td>0.022433</td>\n",
       "    </tr>\n",
       "    <tr>\n",
       "      <th>17</th>\n",
       "      <td>job_description_topic_1</td>\n",
       "      <td>0.021938</td>\n",
       "    </tr>\n",
       "    <tr>\n",
       "      <th>37</th>\n",
       "      <td>job_titles_topics_3</td>\n",
       "      <td>0.021256</td>\n",
       "    </tr>\n",
       "    <tr>\n",
       "      <th>8</th>\n",
       "      <td>seniority_Senior Executive</td>\n",
       "      <td>0.020701</td>\n",
       "    </tr>\n",
       "    <tr>\n",
       "      <th>39</th>\n",
       "      <td>job_titles_topics_5</td>\n",
       "      <td>0.018838</td>\n",
       "    </tr>\n",
       "    <tr>\n",
       "      <th>13</th>\n",
       "      <td>location_North</td>\n",
       "      <td>0.011188</td>\n",
       "    </tr>\n",
       "    <tr>\n",
       "      <th>22</th>\n",
       "      <td>job_description_topic_6</td>\n",
       "      <td>0.009124</td>\n",
       "    </tr>\n",
       "    <tr>\n",
       "      <th>0</th>\n",
       "      <td>employment_type_Full Time</td>\n",
       "      <td>0.008214</td>\n",
       "    </tr>\n",
       "    <tr>\n",
       "      <th>29</th>\n",
       "      <td>job_req_topics_4</td>\n",
       "      <td>0.007427</td>\n",
       "    </tr>\n",
       "    <tr>\n",
       "      <th>10</th>\n",
       "      <td>industrys_Information Technology</td>\n",
       "      <td>0.006390</td>\n",
       "    </tr>\n",
       "    <tr>\n",
       "      <th>35</th>\n",
       "      <td>job_titles_topics_1</td>\n",
       "      <td>0.005611</td>\n",
       "    </tr>\n",
       "    <tr>\n",
       "      <th>32</th>\n",
       "      <td>job_req_topics_7</td>\n",
       "      <td>0.004156</td>\n",
       "    </tr>\n",
       "    <tr>\n",
       "      <th>27</th>\n",
       "      <td>job_req_topics_2</td>\n",
       "      <td>0.003993</td>\n",
       "    </tr>\n",
       "    <tr>\n",
       "      <th>33</th>\n",
       "      <td>job_req_topics_8</td>\n",
       "      <td>0.002720</td>\n",
       "    </tr>\n",
       "    <tr>\n",
       "      <th>30</th>\n",
       "      <td>job_req_topics_5</td>\n",
       "      <td>0.000440</td>\n",
       "    </tr>\n",
       "    <tr>\n",
       "      <th>16</th>\n",
       "      <td>gov_support_yes</td>\n",
       "      <td>0.000000</td>\n",
       "    </tr>\n",
       "    <tr>\n",
       "      <th>14</th>\n",
       "      <td>location_South</td>\n",
       "      <td>0.000000</td>\n",
       "    </tr>\n",
       "    <tr>\n",
       "      <th>18</th>\n",
       "      <td>job_description_topic_2</td>\n",
       "      <td>0.000000</td>\n",
       "    </tr>\n",
       "    <tr>\n",
       "      <th>20</th>\n",
       "      <td>job_description_topic_4</td>\n",
       "      <td>0.000000</td>\n",
       "    </tr>\n",
       "    <tr>\n",
       "      <th>34</th>\n",
       "      <td>job_req_topics_9</td>\n",
       "      <td>0.000000</td>\n",
       "    </tr>\n",
       "    <tr>\n",
       "      <th>25</th>\n",
       "      <td>job_description_topic_9</td>\n",
       "      <td>0.000000</td>\n",
       "    </tr>\n",
       "    <tr>\n",
       "      <th>36</th>\n",
       "      <td>job_titles_topics_2</td>\n",
       "      <td>0.000000</td>\n",
       "    </tr>\n",
       "    <tr>\n",
       "      <th>12</th>\n",
       "      <td>location_Islandwide</td>\n",
       "      <td>0.000000</td>\n",
       "    </tr>\n",
       "    <tr>\n",
       "      <th>38</th>\n",
       "      <td>job_titles_topics_4</td>\n",
       "      <td>0.000000</td>\n",
       "    </tr>\n",
       "    <tr>\n",
       "      <th>11</th>\n",
       "      <td>location_East</td>\n",
       "      <td>0.000000</td>\n",
       "    </tr>\n",
       "    <tr>\n",
       "      <th>40</th>\n",
       "      <td>job_titles_topics_6</td>\n",
       "      <td>0.000000</td>\n",
       "    </tr>\n",
       "    <tr>\n",
       "      <th>19</th>\n",
       "      <td>job_description_topic_3</td>\n",
       "      <td>0.000000</td>\n",
       "    </tr>\n",
       "    <tr>\n",
       "      <th>6</th>\n",
       "      <td>seniority_Non-executive</td>\n",
       "      <td>0.000000</td>\n",
       "    </tr>\n",
       "    <tr>\n",
       "      <th>1</th>\n",
       "      <td>employment_type_Permanent</td>\n",
       "      <td>0.000000</td>\n",
       "    </tr>\n",
       "  </tbody>\n",
       "</table>\n",
       "</div>"
      ],
      "text/plain": [
       "                             feature  importance\n",
       "28                  job_req_topics_3    0.107398\n",
       "5        seniority_Middle Management    0.106254\n",
       "23           job_description_topic_7    0.098562\n",
       "21           job_description_topic_5    0.075648\n",
       "7             seniority_Professional    0.067620\n",
       "15                     location_West    0.064749\n",
       "3         seniority_Junior Executive    0.057586\n",
       "2        seniority_Fresh/entry level    0.046052\n",
       "9        seniority_Senior Management    0.036959\n",
       "42               job_titles_topics_8    0.035990\n",
       "43               job_titles_topics_9    0.031756\n",
       "24           job_description_topic_8    0.029805\n",
       "26                  job_req_topics_1    0.028646\n",
       "41               job_titles_topics_7    0.024945\n",
       "4                  seniority_Manager    0.023602\n",
       "31                  job_req_topics_6    0.022433\n",
       "17           job_description_topic_1    0.021938\n",
       "37               job_titles_topics_3    0.021256\n",
       "8         seniority_Senior Executive    0.020701\n",
       "39               job_titles_topics_5    0.018838\n",
       "13                    location_North    0.011188\n",
       "22           job_description_topic_6    0.009124\n",
       "0          employment_type_Full Time    0.008214\n",
       "29                  job_req_topics_4    0.007427\n",
       "10  industrys_Information Technology    0.006390\n",
       "35               job_titles_topics_1    0.005611\n",
       "32                  job_req_topics_7    0.004156\n",
       "27                  job_req_topics_2    0.003993\n",
       "33                  job_req_topics_8    0.002720\n",
       "30                  job_req_topics_5    0.000440\n",
       "16                   gov_support_yes    0.000000\n",
       "14                    location_South    0.000000\n",
       "18           job_description_topic_2    0.000000\n",
       "20           job_description_topic_4    0.000000\n",
       "34                  job_req_topics_9    0.000000\n",
       "25           job_description_topic_9    0.000000\n",
       "36               job_titles_topics_2    0.000000\n",
       "12               location_Islandwide    0.000000\n",
       "38               job_titles_topics_4    0.000000\n",
       "11                     location_East    0.000000\n",
       "40               job_titles_topics_6    0.000000\n",
       "19           job_description_topic_3    0.000000\n",
       "6            seniority_Non-executive    0.000000\n",
       "1          employment_type_Permanent    0.000000"
      ]
     },
     "execution_count": 21,
     "metadata": {},
     "output_type": "execute_result"
    }
   ],
   "source": [
    "# print out important features\n",
    "\n",
    "fi = pd.DataFrame({\n",
    "        'feature':X.columns,\n",
    "        'importance':dtc_best.feature_importances_\n",
    "    })\n",
    "\n",
    "fi.sort_values('importance', ascending=False, inplace=True)\n",
    "fi"
   ]
  },
  {
   "cell_type": "code",
   "execution_count": 22,
   "metadata": {},
   "outputs": [],
   "source": [
    "## Findings:\n",
    "\n",
    "# Decision tree performs slightly lower than the logistic regression.\n",
    "# However, RFC works better than this model...\n",
    "\n",
    "#RAJ Some of the important features were noted which will be summarised at the end."
   ]
  },
  {
   "cell_type": "markdown",
   "metadata": {},
   "source": [
    "<div style=\"width:610px;background:#fdf0db;border:1px solid black;\n",
    "  text-align:left;padding:8px;\"><b>\n",
    "<h7><a name='q1mod4'><font color=black>SVM  \n",
    "    </a></h7></b>    \n",
    "</div>"
   ]
  },
  {
   "cell_type": "code",
   "execution_count": 23,
   "metadata": {},
   "outputs": [],
   "source": [
    "from sklearn.preprocessing import StandardScaler\n",
    "\n",
    "ss = StandardScaler()\n",
    "Xn = ss.fit_transform(X)"
   ]
  },
  {
   "cell_type": "code",
   "execution_count": 24,
   "metadata": {},
   "outputs": [
    {
     "name": "stdout",
     "output_type": "stream",
     "text": [
      "linear - Average score: 0.803 +/- 0.0593\n",
      "poly - Average score: 0.82 +/- 0.0709\n",
      "rbf - Average score: 0.833 +/- 0.0605\n",
      "sigmoid - Average score: 0.799 +/- 0.0565\n"
     ]
    }
   ],
   "source": [
    "from sklearn.svm import SVC\n",
    "from sklearn.model_selection import cross_val_score\n",
    "\n",
    "for kernel in ['linear', 'poly', 'rbf', 'sigmoid']:\n",
    "    svm = SVC(kernel=kernel, degree=3)\n",
    "    scores = cross_val_score(svm, Xn, y, cv=5, scoring='roc_auc')\n",
    "    sm = scores.mean()\n",
    "    ss = scores.std()\n",
    "    print(\"{} - Average score: {:0.3} +/- {:0.3}\".format(kernel,sm, ss))"
   ]
  },
  {
   "cell_type": "code",
   "execution_count": 25,
   "metadata": {},
   "outputs": [],
   "source": [
    "from sklearn.metrics import classification_report\n",
    "\n",
    "def print_cm_cr(y_true, y_pred):\n",
    "    \"\"\"prints the confusion matrix and the classification report\"\"\"\n",
    "    confusion = pd.crosstab(y_true, \n",
    "                            y_pred, \n",
    "                            rownames=['Actual'], \n",
    "                            colnames=['Predicted'], \n",
    "                            margins=True)\n",
    "    print(confusion)\n",
    "    print('')\n",
    "    print(classification_report(y_true, y_pred))"
   ]
  },
  {
   "cell_type": "code",
   "execution_count": 26,
   "metadata": {},
   "outputs": [],
   "source": [
    "# cross val on linear kernel resulted in better scores so \n",
    "#used the linear kernal to build/test our final model below."
   ]
  },
  {
   "cell_type": "code",
   "execution_count": 27,
   "metadata": {},
   "outputs": [
    {
     "name": "stdout",
     "output_type": "stream",
     "text": [
      "Predicted   0    1  All\n",
      "Actual                 \n",
      "0          62   31   93\n",
      "1          16   89  105\n",
      "All        78  120  198\n",
      "\n",
      "              precision    recall  f1-score   support\n",
      "\n",
      "           0       0.79      0.67      0.73        93\n",
      "           1       0.74      0.85      0.79       105\n",
      "\n",
      "   micro avg       0.76      0.76      0.76       198\n",
      "   macro avg       0.77      0.76      0.76       198\n",
      "weighted avg       0.77      0.76      0.76       198\n",
      "\n"
     ]
    }
   ],
   "source": [
    "from sklearn.model_selection import train_test_split\n",
    "\n",
    "lin_model = SVC(kernel='linear')\n",
    "X_train, X_test, y_train, y_test = train_test_split(Xn, y, stratify=y, test_size=0.33)\n",
    "lin_model.fit(X_train, y_train)\n",
    "y_pred = lin_model.predict(X_test)\n",
    "print_cm_cr(y_test, y_pred)"
   ]
  },
  {
   "cell_type": "code",
   "execution_count": 28,
   "metadata": {},
   "outputs": [],
   "source": [
    "# SVM performance is lower than RFC"
   ]
  },
  {
   "cell_type": "markdown",
   "metadata": {},
   "source": [
    "<div style=\"width:610px;background:#fdf0db;border:1px solid black;\n",
    "  text-align:left;padding:8px;\"><b>\n",
    "<h7><a name='q1mod5'><font color=black>Regression Models  \n",
    "    </a></h7></b><br>    \n",
    "* We will Apply Regression models to compare the results with the classification models    \n",
    "</div>"
   ]
  },
  {
   "cell_type": "code",
   "execution_count": 29,
   "metadata": {},
   "outputs": [
    {
     "data": {
      "text/html": [
       "<div>\n",
       "<style scoped>\n",
       "    .dataframe tbody tr th:only-of-type {\n",
       "        vertical-align: middle;\n",
       "    }\n",
       "\n",
       "    .dataframe tbody tr th {\n",
       "        vertical-align: top;\n",
       "    }\n",
       "\n",
       "    .dataframe thead th {\n",
       "        text-align: right;\n",
       "    }\n",
       "</style>\n",
       "<table border=\"1\" class=\"dataframe\">\n",
       "  <thead>\n",
       "    <tr style=\"text-align: right;\">\n",
       "      <th></th>\n",
       "      <th>employment_type</th>\n",
       "      <th>seniority</th>\n",
       "      <th>industrys</th>\n",
       "      <th>location</th>\n",
       "      <th>gov_support</th>\n",
       "      <th>average_salary</th>\n",
       "      <th>job_titles_topics</th>\n",
       "      <th>job_description_topic</th>\n",
       "      <th>job_req_topics</th>\n",
       "    </tr>\n",
       "  </thead>\n",
       "  <tbody>\n",
       "    <tr>\n",
       "      <th>0</th>\n",
       "      <td>Permanent</td>\n",
       "      <td>Professional</td>\n",
       "      <td>Information Technology</td>\n",
       "      <td>Central</td>\n",
       "      <td>yes</td>\n",
       "      <td>10000.0</td>\n",
       "      <td>5</td>\n",
       "      <td>6</td>\n",
       "      <td>4</td>\n",
       "    </tr>\n",
       "    <tr>\n",
       "      <th>1</th>\n",
       "      <td>Full Time</td>\n",
       "      <td>Fresh/entry level</td>\n",
       "      <td>Engineering</td>\n",
       "      <td>West</td>\n",
       "      <td>yes</td>\n",
       "      <td>4650.0</td>\n",
       "      <td>7</td>\n",
       "      <td>6</td>\n",
       "      <td>5</td>\n",
       "    </tr>\n",
       "    <tr>\n",
       "      <th>2</th>\n",
       "      <td>Permanent</td>\n",
       "      <td>Professional</td>\n",
       "      <td>Information Technology</td>\n",
       "      <td>Central</td>\n",
       "      <td>yes</td>\n",
       "      <td>10000.0</td>\n",
       "      <td>0</td>\n",
       "      <td>6</td>\n",
       "      <td>5</td>\n",
       "    </tr>\n",
       "  </tbody>\n",
       "</table>\n",
       "</div>"
      ],
      "text/plain": [
       "  employment_type          seniority               industrys location  \\\n",
       "0       Permanent       Professional  Information Technology  Central   \n",
       "1       Full Time  Fresh/entry level             Engineering     West   \n",
       "2       Permanent       Professional  Information Technology  Central   \n",
       "\n",
       "  gov_support  average_salary  job_titles_topics  job_description_topic  \\\n",
       "0         yes         10000.0                  5                      6   \n",
       "1         yes          4650.0                  7                      6   \n",
       "2         yes         10000.0                  0                      6   \n",
       "\n",
       "   job_req_topics  \n",
       "0               4  \n",
       "1               5  \n",
       "2               5  "
      ]
     },
     "execution_count": 29,
     "metadata": {},
     "output_type": "execute_result"
    }
   ],
   "source": [
    "to_drop=['job_titles','companys','salary','salary_terms','job_descriptions', 'job_requirements', 'links', \n",
    "         'min_salary', 'max_salary', 'salary_med']\n",
    "\n",
    "df2=df.drop(columns=to_drop, axis=1)\n",
    "df2.head(3)"
   ]
  },
  {
   "cell_type": "code",
   "execution_count": 30,
   "metadata": {},
   "outputs": [
    {
     "name": "stdout",
     "output_type": "stream",
     "text": [
      "(598, 45)\n"
     ]
    }
   ],
   "source": [
    "dummy_cols=['employment_type','seniority','industrys','location','gov_support', \n",
    "            'job_description_topic', 'job_req_topics', 'job_titles_topics']\n",
    "\n",
    "df2_dummy= pd.get_dummies(df2,columns=dummy_cols,drop_first=True)\n",
    "print(df2_dummy.shape)"
   ]
  },
  {
   "cell_type": "code",
   "execution_count": 31,
   "metadata": {},
   "outputs": [],
   "source": [
    "X2=df2_dummy.drop('average_salary', axis=1)"
   ]
  },
  {
   "cell_type": "code",
   "execution_count": 32,
   "metadata": {},
   "outputs": [],
   "source": [
    "y2=df.average_salary"
   ]
  },
  {
   "cell_type": "code",
   "execution_count": 33,
   "metadata": {},
   "outputs": [],
   "source": [
    "#train test split\n",
    "from sklearn.model_selection import train_test_split\n",
    "X2_train, X2_test, y2_train, y2_test = train_test_split(X2, y2, test_size=0.30)"
   ]
  },
  {
   "cell_type": "code",
   "execution_count": 34,
   "metadata": {},
   "outputs": [],
   "source": [
    "## Standard Scaler\n",
    "from sklearn.preprocessing import StandardScaler\n",
    "from sklearn.linear_model import Ridge, Lasso, LinearRegression, RidgeCV, LassoCV, ElasticNetCV\n",
    "from sklearn.model_selection import cross_val_score\n",
    "\n",
    "ss = StandardScaler()\n",
    "X2s_train= ss.fit_transform(X2_train)\n",
    "X2s_test=ss.transform(X2_test)"
   ]
  },
  {
   "cell_type": "code",
   "execution_count": 35,
   "metadata": {},
   "outputs": [
    {
     "name": "stdout",
     "output_type": "stream",
     "text": [
      "47.14866363457394\n"
     ]
    },
    {
     "name": "stderr",
     "output_type": "stream",
     "text": [
      "C:\\ProgramData\\Anaconda3\\lib\\site-packages\\sklearn\\model_selection\\_search.py:841: DeprecationWarning: The default of the `iid` parameter will change from True to False in version 0.22 and will be removed in 0.24. This will change numeric results when test-set sizes are unequal.\n",
      "  DeprecationWarning)\n"
     ]
    }
   ],
   "source": [
    "ridge_alphas = np.logspace(-2, 7, 50)\n",
    "\n",
    "optimal_ridge = RidgeCV(alphas=ridge_alphas, cv=10)\n",
    "optimal_ridge.fit(X2s_train, y2_train)\n",
    "\n",
    "print(optimal_ridge.alpha_)"
   ]
  },
  {
   "cell_type": "code",
   "execution_count": 36,
   "metadata": {},
   "outputs": [
    {
     "name": "stderr",
     "output_type": "stream",
     "text": [
      "[Parallel(n_jobs=1)]: Using backend SequentialBackend with 1 concurrent workers.\n",
      ".................................................................................................................................................................................................................................................................................................................................................................................................................................................................................................................................................................................................................................................................................................................................................................................................................................................................................................................................................................................................................................................................................................................................................................................................................................................................................................................................................................................................................................................................................................................................................................................................................................................................................................................................................................................................................................................................................................................................................................................................................................................................................................................................................................................................................................................................................................................................................................................................................................................................................................................................................................................................................................................................................................................................................................................................................................................................................................................................................................................................................................................................................................................................................................................................................................................................................................................................................................................................................................................................................................................................................................................................................................................................................................................................................................................................................................................................................................................................................................................................................................................................................................................................................................................................................................................................................................................................................................................................................................................................................................................................................................................................................................................................................................................................................................................................................................................................................................................................................................................................................................................................."
     ]
    },
    {
     "name": "stdout",
     "output_type": "stream",
     "text": [
      "17.44623483648864\n"
     ]
    },
    {
     "name": "stderr",
     "output_type": "stream",
     "text": [
      "......................................................................................................................................[Parallel(n_jobs=1)]: Done  10 out of  10 | elapsed:    1.6s finished\n"
     ]
    }
   ],
   "source": [
    "optimal_lasso = LassoCV(n_alphas=500, cv=10, verbose=1)\n",
    "optimal_lasso.fit(X2s_train, y2_train)\n",
    "\n",
    "print(optimal_lasso.alpha_)"
   ]
  },
  {
   "cell_type": "code",
   "execution_count": 37,
   "metadata": {},
   "outputs": [
    {
     "name": "stdout",
     "output_type": "stream",
     "text": [
      "------------------------------------\n",
      "\n",
      "5-Fold Cross Validated Results for Model: Linear Regression\n",
      "Cross-validated scores: [0.27637794 0.43249563 0.47972793 0.2129906  0.38859206]\n",
      "Mean CV R2: 0.35803683345941506\n",
      "Std CV R2: 0.09898791853768145\n",
      "------------------------------------\n",
      "\n",
      "5-Fold Cross Validated Results for Model: Ridge Regression\n",
      "Cross-validated scores: [0.34578936 0.45241603 0.50140813 0.24039641 0.37874652]\n",
      "Mean CV R2: 0.38375128986987245\n",
      "Std CV R2: 0.09008302585827281\n",
      "------------------------------------\n",
      "\n",
      "5-Fold Cross Validated Results for Model: Lasso Regression\n",
      "Cross-validated scores: [0.31982752 0.43530729 0.48722432 0.22574276 0.38242062]\n",
      "Mean CV R2: 0.370104500136396\n",
      "Std CV R2: 0.09109141598214764\n"
     ]
    }
   ],
   "source": [
    "def print_cross_val_results(model,name,X,y,folds=5):\n",
    "    print( '------------------------------------\\n')\n",
    "    print('{}-Fold Cross Validated Results for Model: '.format(folds)+ name)\n",
    "    scores = cross_val_score(model, X, y, cv=folds)\n",
    "    print(\"Cross-validated scores:\", scores)\n",
    "    print(\"Mean CV R2:\", np.mean(scores))\n",
    "    print('Std CV R2:', np.std(scores))\n",
    "\n",
    "OLS = LinearRegression()\n",
    "ridge = Ridge(alpha=optimal_ridge.alpha_)\n",
    "lasso= Lasso(alpha=optimal_lasso.alpha_)\n",
    "\n",
    "print_cross_val_results(OLS,\"Linear Regression\",X2s_train,y2_train)\n",
    "print_cross_val_results(ridge,\"Ridge Regression\",X2s_train,y2_train)\n",
    "print_cross_val_results(lasso,\"Lasso Regression\",X2s_train,y2_train)"
   ]
  },
  {
   "cell_type": "code",
   "execution_count": 38,
   "metadata": {},
   "outputs": [],
   "source": [
    "# All the Regression models shows terrible results. "
   ]
  },
  {
   "cell_type": "markdown",
   "metadata": {},
   "source": [
    "[Go Top](#top)"
   ]
  },
  {
   "cell_type": "markdown",
   "metadata": {},
   "source": [
    "<div style=\"width:610px;background:#fdf0db;border:1px solid black;\n",
    "  text-align:left;padding:8px;\"><b>\n",
    "<h7><a name='q1mod6'><font color=black>Summary  \n",
    "    </a></h7></b>    \n",
    "</div>"
   ]
  },
  {
   "cell_type": "markdown",
   "metadata": {},
   "source": [
    "## Summary:\n",
    "\n",
    "1. We ran several models (logistic, decision tree classification, SVM and regression models) and the model that had the best result was RFC\n",
    "\n",
    "2. The 5 most important features that contribute the salary are as follows:\n",
    "\n",
    "| Feature | Details (Top Values)  |\n",
    "|------|------|\n",
    "| location | West |\n",
    "| Job Request (Topic 3) | <b>TOP 15 WORDS:</b> ['deadlines', 'skill', 'andâ', 'requirementsjob', 'direct', 'handle', 'tight', 'account', 'negotiation', 'situation', 'selling', 'stressful', 'consultation', 'com', 'thank'] |\n",
    "| seniority\t | Fresh/entry level |\n",
    "| Job Request (Topic 1) | <b>TOP 15 WORDS:</b> ['servers', 'range', 'cissp', '6pm', '9am', 'fridays', 'comptia', 'mondays', 'ceh', 'relevant', 'com', 'salary', 'possess', 'ecsa', 'thank'] |\n",
    "| seniority | Junior Executive |\n",
    "\n",
    "\n"
   ]
  },
  {
   "cell_type": "markdown",
   "metadata": {},
   "source": [
    "## <a name='q2'><font color=black>Question 2 (Factors that distinguish Job Category)\n",
    "    \n",
    "<b>Objective:</b> To understand the features affecting the seniority (ex: professional, executive, fresh/entry etc)\n",
    "    "
   ]
  },
  {
   "cell_type": "markdown",
   "metadata": {},
   "source": [
    "<div style=\"width:610px;background:#fdf0db;border:1px solid black;\n",
    "  text-align:left;padding:8px;\"><b>\n",
    "<h7><a name='eda'><font color=black>EDA Data Analysis  \n",
    "    </a></h7></b>    \n",
    "</div>"
   ]
  },
  {
   "cell_type": "code",
   "execution_count": 39,
   "metadata": {},
   "outputs": [
    {
     "data": {
      "text/html": [
       "<div>\n",
       "<style scoped>\n",
       "    .dataframe tbody tr th:only-of-type {\n",
       "        vertical-align: middle;\n",
       "    }\n",
       "\n",
       "    .dataframe tbody tr th {\n",
       "        vertical-align: top;\n",
       "    }\n",
       "\n",
       "    .dataframe thead th {\n",
       "        text-align: right;\n",
       "    }\n",
       "</style>\n",
       "<table border=\"1\" class=\"dataframe\">\n",
       "  <thead>\n",
       "    <tr style=\"text-align: right;\">\n",
       "      <th></th>\n",
       "      <th>job_titles</th>\n",
       "      <th>companys</th>\n",
       "      <th>employment_type</th>\n",
       "      <th>seniority</th>\n",
       "      <th>industrys</th>\n",
       "      <th>salary</th>\n",
       "      <th>salary_terms</th>\n",
       "      <th>job_descriptions</th>\n",
       "      <th>job_requirements</th>\n",
       "      <th>links</th>\n",
       "      <th>location</th>\n",
       "      <th>gov_support</th>\n",
       "      <th>min_salary</th>\n",
       "      <th>max_salary</th>\n",
       "      <th>average_salary</th>\n",
       "      <th>salary_med</th>\n",
       "      <th>job_titles_topics</th>\n",
       "      <th>job_description_topic</th>\n",
       "      <th>job_req_topics</th>\n",
       "    </tr>\n",
       "  </thead>\n",
       "  <tbody>\n",
       "    <tr>\n",
       "      <th>0</th>\n",
       "      <td>Applied Data Science Associate</td>\n",
       "      <td>DATAROBOT SINGAPORE PTE. LTD.</td>\n",
       "      <td>Permanent</td>\n",
       "      <td>Professional</td>\n",
       "      <td>Information Technology</td>\n",
       "      <td>90000to150000</td>\n",
       "      <td>Monthly</td>\n",
       "      <td>Looking to move into Data Science? Want to lea...</td>\n",
       "      <td>RequirementsMain Requirements  Experience/Trai...</td>\n",
       "      <td>https://www.mycareersfuture.sg/job/applied-dat...</td>\n",
       "      <td>Central</td>\n",
       "      <td>yes</td>\n",
       "      <td>7500.0</td>\n",
       "      <td>12500.0</td>\n",
       "      <td>10000.0</td>\n",
       "      <td>1</td>\n",
       "      <td>5</td>\n",
       "      <td>6</td>\n",
       "      <td>4</td>\n",
       "    </tr>\n",
       "    <tr>\n",
       "      <th>1</th>\n",
       "      <td>Senior / Data Engineer (Data Science Team)</td>\n",
       "      <td>M1 LIMITED</td>\n",
       "      <td>Full Time</td>\n",
       "      <td>Fresh/entry level</td>\n",
       "      <td>Engineering</td>\n",
       "      <td>3500to5800</td>\n",
       "      <td>Monthly</td>\n",
       "      <td>Design, optimise/tune performance, maintain, ...</td>\n",
       "      <td>Requirements BachelorÃ¢ÂÂs degree in Compute...</td>\n",
       "      <td>https://www.mycareersfuture.sg/job/senior-data...</td>\n",
       "      <td>West</td>\n",
       "      <td>yes</td>\n",
       "      <td>3500.0</td>\n",
       "      <td>5800.0</td>\n",
       "      <td>4650.0</td>\n",
       "      <td>0</td>\n",
       "      <td>7</td>\n",
       "      <td>6</td>\n",
       "      <td>5</td>\n",
       "    </tr>\n",
       "    <tr>\n",
       "      <th>2</th>\n",
       "      <td>Data Science Engineer</td>\n",
       "      <td>DATAROBOT SINGAPORE PTE. LTD.</td>\n",
       "      <td>Permanent</td>\n",
       "      <td>Professional</td>\n",
       "      <td>Information Technology</td>\n",
       "      <td>90000to150000</td>\n",
       "      <td>Monthly</td>\n",
       "      <td>As a Data Science Engineer in DataRobot, you w...</td>\n",
       "      <td>Requirements 5+ years of combined python Engin...</td>\n",
       "      <td>https://www.mycareersfuture.sg/job/data-scienc...</td>\n",
       "      <td>Central</td>\n",
       "      <td>yes</td>\n",
       "      <td>7500.0</td>\n",
       "      <td>12500.0</td>\n",
       "      <td>10000.0</td>\n",
       "      <td>1</td>\n",
       "      <td>0</td>\n",
       "      <td>6</td>\n",
       "      <td>5</td>\n",
       "    </tr>\n",
       "  </tbody>\n",
       "</table>\n",
       "</div>"
      ],
      "text/plain": [
       "                                   job_titles                       companys  \\\n",
       "0              Applied Data Science Associate  DATAROBOT SINGAPORE PTE. LTD.   \n",
       "1  Senior / Data Engineer (Data Science Team)                     M1 LIMITED   \n",
       "2                       Data Science Engineer  DATAROBOT SINGAPORE PTE. LTD.   \n",
       "\n",
       "  employment_type          seniority               industrys         salary  \\\n",
       "0       Permanent       Professional  Information Technology  90000to150000   \n",
       "1       Full Time  Fresh/entry level             Engineering     3500to5800   \n",
       "2       Permanent       Professional  Information Technology  90000to150000   \n",
       "\n",
       "  salary_terms                                   job_descriptions  \\\n",
       "0      Monthly  Looking to move into Data Science? Want to lea...   \n",
       "1      Monthly   Design, optimise/tune performance, maintain, ...   \n",
       "2      Monthly  As a Data Science Engineer in DataRobot, you w...   \n",
       "\n",
       "                                    job_requirements  \\\n",
       "0  RequirementsMain Requirements  Experience/Trai...   \n",
       "1  Requirements BachelorÃ¢ÂÂs degree in Compute...   \n",
       "2  Requirements 5+ years of combined python Engin...   \n",
       "\n",
       "                                               links location gov_support  \\\n",
       "0  https://www.mycareersfuture.sg/job/applied-dat...  Central         yes   \n",
       "1  https://www.mycareersfuture.sg/job/senior-data...     West         yes   \n",
       "2  https://www.mycareersfuture.sg/job/data-scienc...  Central         yes   \n",
       "\n",
       "   min_salary  max_salary  average_salary  salary_med  job_titles_topics  \\\n",
       "0      7500.0     12500.0         10000.0           1                  5   \n",
       "1      3500.0      5800.0          4650.0           0                  7   \n",
       "2      7500.0     12500.0         10000.0           1                  0   \n",
       "\n",
       "   job_description_topic  job_req_topics  \n",
       "0                      6               4  \n",
       "1                      6               5  \n",
       "2                      6               5  "
      ]
     },
     "execution_count": 39,
     "metadata": {},
     "output_type": "execute_result"
    }
   ],
   "source": [
    "df.head(3)"
   ]
  },
  {
   "cell_type": "code",
   "execution_count": 40,
   "metadata": {},
   "outputs": [
    {
     "data": {
      "text/plain": [
       "Professional         207\n",
       "Executive            151\n",
       "Senior Executive      60\n",
       "Middle Management     55\n",
       "Manager               38\n",
       "Fresh/entry level     25\n",
       "Junior Executive      22\n",
       "Senior Management     22\n",
       "Non-executive         18\n",
       "Name: seniority, dtype: int64"
      ]
     },
     "execution_count": 40,
     "metadata": {},
     "output_type": "execute_result"
    }
   ],
   "source": [
    "df.seniority.value_counts()"
   ]
  },
  {
   "cell_type": "code",
   "execution_count": 41,
   "metadata": {},
   "outputs": [
    {
     "data": {
      "text/plain": [
       "<matplotlib.axes._subplots.AxesSubplot at 0x243544b0f98>"
      ]
     },
     "execution_count": 41,
     "metadata": {},
     "output_type": "execute_result"
    },
    {
     "data": {
      "image/png": "[encoded data removed]",
      "text/plain": [
       "<Figure size 432x288 with 1 Axes>"
      ]
     },
     "metadata": {
      "image/png": {
       "height": 344,
       "width": 385
      },
      "needs_background": "light"
     },
     "output_type": "display_data"
    }
   ],
   "source": [
    "df.groupby(['seniority'])['average_salary'].median().plot.bar()"
   ]
  },
  {
   "cell_type": "code",
   "execution_count": 42,
   "metadata": {},
   "outputs": [
    {
     "data": {
      "text/plain": [
       "<BarContainer object of 9 artists>"
      ]
     },
     "execution_count": 42,
     "metadata": {},
     "output_type": "execute_result"
    },
    {
     "data": {
      "image/png": "[encoded data removed]",
      "text/plain": [
       "<Figure size 432x288 with 1 Axes>"
      ]
     },
     "metadata": {
      "image/png": {
       "height": 250,
       "width": 455
      },
      "needs_background": "light"
     },
     "output_type": "display_data"
    }
   ],
   "source": [
    "x=df.groupby(['seniority'])['average_salary'].median().index\n",
    "y=df.groupby(['seniority'])['average_salary'].median().values\n",
    "plt.barh(x,y)"
   ]
  },
  {
   "cell_type": "code",
   "execution_count": 43,
   "metadata": {},
   "outputs": [],
   "source": [
    "df['seniority_med']= df.seniority.apply\\\n",
    "(lambda x:2 if x== 'Manager'or x=='Senior Executive' \n",
    "            else 1 \n",
    "                if x=='Middle Management' \n",
    "                or x=='Professional' \n",
    "                or x=='Senior Executive'\n",
    "            else 0)"
   ]
  },
  {
   "cell_type": "code",
   "execution_count": 44,
   "metadata": {},
   "outputs": [
    {
     "data": {
      "text/plain": [
       "1    262\n",
       "0    238\n",
       "2     98\n",
       "Name: seniority_med, dtype: int64"
      ]
     },
     "execution_count": 44,
     "metadata": {},
     "output_type": "execute_result"
    }
   ],
   "source": [
    "#checking for class balance. it shows that its a balance class\n",
    "\n",
    "df['seniority_med'].value_counts()"
   ]
  },
  {
   "cell_type": "code",
   "execution_count": null,
   "metadata": {},
   "outputs": [],
   "source": []
  },
  {
   "cell_type": "code",
   "execution_count": 45,
   "metadata": {},
   "outputs": [
    {
     "data": {
      "text/html": [
       "<div>\n",
       "<style scoped>\n",
       "    .dataframe tbody tr th:only-of-type {\n",
       "        vertical-align: middle;\n",
       "    }\n",
       "\n",
       "    .dataframe tbody tr th {\n",
       "        vertical-align: top;\n",
       "    }\n",
       "\n",
       "    .dataframe thead th {\n",
       "        text-align: right;\n",
       "    }\n",
       "</style>\n",
       "<table border=\"1\" class=\"dataframe\">\n",
       "  <thead>\n",
       "    <tr style=\"text-align: right;\">\n",
       "      <th></th>\n",
       "      <th>employment_type</th>\n",
       "      <th>seniority</th>\n",
       "      <th>industrys</th>\n",
       "      <th>location</th>\n",
       "      <th>gov_support</th>\n",
       "      <th>salary_med</th>\n",
       "      <th>job_titles_topics</th>\n",
       "      <th>job_description_topic</th>\n",
       "      <th>job_req_topics</th>\n",
       "    </tr>\n",
       "  </thead>\n",
       "  <tbody>\n",
       "    <tr>\n",
       "      <th>0</th>\n",
       "      <td>Permanent</td>\n",
       "      <td>Professional</td>\n",
       "      <td>Information Technology</td>\n",
       "      <td>Central</td>\n",
       "      <td>yes</td>\n",
       "      <td>1</td>\n",
       "      <td>5</td>\n",
       "      <td>6</td>\n",
       "      <td>4</td>\n",
       "    </tr>\n",
       "    <tr>\n",
       "      <th>1</th>\n",
       "      <td>Full Time</td>\n",
       "      <td>Fresh/entry level</td>\n",
       "      <td>Engineering</td>\n",
       "      <td>West</td>\n",
       "      <td>yes</td>\n",
       "      <td>0</td>\n",
       "      <td>7</td>\n",
       "      <td>6</td>\n",
       "      <td>5</td>\n",
       "    </tr>\n",
       "    <tr>\n",
       "      <th>2</th>\n",
       "      <td>Permanent</td>\n",
       "      <td>Professional</td>\n",
       "      <td>Information Technology</td>\n",
       "      <td>Central</td>\n",
       "      <td>yes</td>\n",
       "      <td>1</td>\n",
       "      <td>0</td>\n",
       "      <td>6</td>\n",
       "      <td>5</td>\n",
       "    </tr>\n",
       "  </tbody>\n",
       "</table>\n",
       "</div>"
      ],
      "text/plain": [
       "  employment_type          seniority               industrys location  \\\n",
       "0       Permanent       Professional  Information Technology  Central   \n",
       "1       Full Time  Fresh/entry level             Engineering     West   \n",
       "2       Permanent       Professional  Information Technology  Central   \n",
       "\n",
       "  gov_support  salary_med  job_titles_topics  job_description_topic  \\\n",
       "0         yes           1                  5                      6   \n",
       "1         yes           0                  7                      6   \n",
       "2         yes           1                  0                      6   \n",
       "\n",
       "   job_req_topics  \n",
       "0               4  \n",
       "1               5  \n",
       "2               5  "
      ]
     },
     "execution_count": 45,
     "metadata": {},
     "output_type": "execute_result"
    }
   ],
   "source": [
    "df1.head(3)"
   ]
  },
  {
   "cell_type": "code",
   "execution_count": 46,
   "metadata": {},
   "outputs": [],
   "source": [
    "# creating data for classification\n",
    "\n",
    "dummy_cols=['employment_type','industrys','location','gov_support','job_description_topic', \n",
    "            'job_req_topics', 'job_titles_topics']"
   ]
  },
  {
   "cell_type": "code",
   "execution_count": 47,
   "metadata": {},
   "outputs": [],
   "source": [
    "df3_dummy= pd.get_dummies(df1,columns=dummy_cols,drop_first=True)\n",
    "\n",
    "col_drop=['salary_med','seniority']\n",
    "\n",
    "X3=df3_dummy.drop(columns=col_drop, axis=1)\n",
    "X3['average_salary']=df['average_salary']"
   ]
  },
  {
   "cell_type": "code",
   "execution_count": 48,
   "metadata": {},
   "outputs": [
    {
     "data": {
      "text/html": [
       "<div>\n",
       "<style scoped>\n",
       "    .dataframe tbody tr th:only-of-type {\n",
       "        vertical-align: middle;\n",
       "    }\n",
       "\n",
       "    .dataframe tbody tr th {\n",
       "        vertical-align: top;\n",
       "    }\n",
       "\n",
       "    .dataframe thead th {\n",
       "        text-align: right;\n",
       "    }\n",
       "</style>\n",
       "<table border=\"1\" class=\"dataframe\">\n",
       "  <thead>\n",
       "    <tr style=\"text-align: right;\">\n",
       "      <th></th>\n",
       "      <th>employment_type_Full Time</th>\n",
       "      <th>employment_type_Permanent</th>\n",
       "      <th>industrys_Information Technology</th>\n",
       "      <th>location_East</th>\n",
       "      <th>location_Islandwide</th>\n",
       "      <th>location_North</th>\n",
       "      <th>location_South</th>\n",
       "      <th>location_West</th>\n",
       "      <th>gov_support_yes</th>\n",
       "      <th>job_description_topic_1</th>\n",
       "      <th>...</th>\n",
       "      <th>job_titles_topics_1</th>\n",
       "      <th>job_titles_topics_2</th>\n",
       "      <th>job_titles_topics_3</th>\n",
       "      <th>job_titles_topics_4</th>\n",
       "      <th>job_titles_topics_5</th>\n",
       "      <th>job_titles_topics_6</th>\n",
       "      <th>job_titles_topics_7</th>\n",
       "      <th>job_titles_topics_8</th>\n",
       "      <th>job_titles_topics_9</th>\n",
       "      <th>average_salary</th>\n",
       "    </tr>\n",
       "  </thead>\n",
       "  <tbody>\n",
       "    <tr>\n",
       "      <th>0</th>\n",
       "      <td>0</td>\n",
       "      <td>1</td>\n",
       "      <td>1</td>\n",
       "      <td>0</td>\n",
       "      <td>0</td>\n",
       "      <td>0</td>\n",
       "      <td>0</td>\n",
       "      <td>0</td>\n",
       "      <td>1</td>\n",
       "      <td>0</td>\n",
       "      <td>...</td>\n",
       "      <td>0</td>\n",
       "      <td>0</td>\n",
       "      <td>0</td>\n",
       "      <td>0</td>\n",
       "      <td>1</td>\n",
       "      <td>0</td>\n",
       "      <td>0</td>\n",
       "      <td>0</td>\n",
       "      <td>0</td>\n",
       "      <td>10000.0</td>\n",
       "    </tr>\n",
       "    <tr>\n",
       "      <th>1</th>\n",
       "      <td>1</td>\n",
       "      <td>0</td>\n",
       "      <td>0</td>\n",
       "      <td>0</td>\n",
       "      <td>0</td>\n",
       "      <td>0</td>\n",
       "      <td>0</td>\n",
       "      <td>1</td>\n",
       "      <td>1</td>\n",
       "      <td>0</td>\n",
       "      <td>...</td>\n",
       "      <td>0</td>\n",
       "      <td>0</td>\n",
       "      <td>0</td>\n",
       "      <td>0</td>\n",
       "      <td>0</td>\n",
       "      <td>0</td>\n",
       "      <td>1</td>\n",
       "      <td>0</td>\n",
       "      <td>0</td>\n",
       "      <td>4650.0</td>\n",
       "    </tr>\n",
       "    <tr>\n",
       "      <th>2</th>\n",
       "      <td>0</td>\n",
       "      <td>1</td>\n",
       "      <td>1</td>\n",
       "      <td>0</td>\n",
       "      <td>0</td>\n",
       "      <td>0</td>\n",
       "      <td>0</td>\n",
       "      <td>0</td>\n",
       "      <td>1</td>\n",
       "      <td>0</td>\n",
       "      <td>...</td>\n",
       "      <td>0</td>\n",
       "      <td>0</td>\n",
       "      <td>0</td>\n",
       "      <td>0</td>\n",
       "      <td>0</td>\n",
       "      <td>0</td>\n",
       "      <td>0</td>\n",
       "      <td>0</td>\n",
       "      <td>0</td>\n",
       "      <td>10000.0</td>\n",
       "    </tr>\n",
       "  </tbody>\n",
       "</table>\n",
       "<p>3 rows × 37 columns</p>\n",
       "</div>"
      ],
      "text/plain": [
       "   employment_type_Full Time  employment_type_Permanent  \\\n",
       "0                          0                          1   \n",
       "1                          1                          0   \n",
       "2                          0                          1   \n",
       "\n",
       "   industrys_Information Technology  location_East  location_Islandwide  \\\n",
       "0                                 1              0                    0   \n",
       "1                                 0              0                    0   \n",
       "2                                 1              0                    0   \n",
       "\n",
       "   location_North  location_South  location_West  gov_support_yes  \\\n",
       "0               0               0              0                1   \n",
       "1               0               0              1                1   \n",
       "2               0               0              0                1   \n",
       "\n",
       "   job_description_topic_1       ...        job_titles_topics_1  \\\n",
       "0                        0       ...                          0   \n",
       "1                        0       ...                          0   \n",
       "2                        0       ...                          0   \n",
       "\n",
       "   job_titles_topics_2  job_titles_topics_3  job_titles_topics_4  \\\n",
       "0                    0                    0                    0   \n",
       "1                    0                    0                    0   \n",
       "2                    0                    0                    0   \n",
       "\n",
       "   job_titles_topics_5  job_titles_topics_6  job_titles_topics_7  \\\n",
       "0                    1                    0                    0   \n",
       "1                    0                    0                    1   \n",
       "2                    0                    0                    0   \n",
       "\n",
       "   job_titles_topics_8  job_titles_topics_9  average_salary  \n",
       "0                    0                    0         10000.0  \n",
       "1                    0                    0          4650.0  \n",
       "2                    0                    0         10000.0  \n",
       "\n",
       "[3 rows x 37 columns]"
      ]
     },
     "execution_count": 48,
     "metadata": {},
     "output_type": "execute_result"
    }
   ],
   "source": [
    "X3.head(3)"
   ]
  },
  {
   "cell_type": "code",
   "execution_count": 49,
   "metadata": {},
   "outputs": [],
   "source": [
    "#Target is seniority\n",
    "y3=df['seniority_med']"
   ]
  },
  {
   "cell_type": "markdown",
   "metadata": {},
   "source": [
    "<div style=\"width:610px;background:#fdf0db;border:1px solid black;\n",
    "  text-align:left;padding:8px;\"><b>\n",
    "<h7><a name='q2mod0'><font color=black>Modelling  \n",
    "    </a></h7></b>    \n",
    "</div>"
   ]
  },
  {
   "cell_type": "markdown",
   "metadata": {},
   "source": [
    "<div style=\"width:610px;background:#fdf0db;border:1px solid black;\n",
    "  text-align:left;padding:8px;\"><b>\n",
    "<h7><a name='q2mod1'><font color=black>Logistic Regression  \n",
    "    </a></h7></b>    \n",
    "</div>"
   ]
  },
  {
   "cell_type": "code",
   "execution_count": 50,
   "metadata": {},
   "outputs": [
    {
     "name": "stdout",
     "output_type": "stream",
     "text": [
      "[0.49668874 0.50331126 0.41891892 0.59459459] 0.5033783783783784\n"
     ]
    }
   ],
   "source": [
    "from sklearn.linear_model import LogisticRegression\n",
    "from sklearn.model_selection import cross_val_score\n",
    "\n",
    "# cross val Log Reg with 4 folds\n",
    "cls_scores = cross_val_score(LogisticRegression(), X3, y3, cv=4)\n",
    "\n",
    "#get scores\n",
    "print(cls_scores, np.mean(cls_scores))\n",
    "\n",
    "# fit models\n",
    "logreg = LogisticRegression().fit(X3, y3) #AUC"
   ]
  },
  {
   "cell_type": "code",
   "execution_count": 51,
   "metadata": {},
   "outputs": [],
   "source": [
    "# Logistic regression works were bad with score as 0.503"
   ]
  },
  {
   "cell_type": "markdown",
   "metadata": {},
   "source": [
    "<div style=\"width:610px;background:#fdf0db;border:1px solid black;\n",
    "  text-align:left;padding:8px;\"><b>\n",
    "<h7><a name='q2mod2'><font color=black>RandomForest Classifier  \n",
    "    </a></h7></b>    \n",
    "</div>"
   ]
  },
  {
   "cell_type": "code",
   "execution_count": 52,
   "metadata": {},
   "outputs": [],
   "source": [
    "#train test split\n",
    "from sklearn.model_selection import train_test_split\n",
    "X3_train, X3_test, y3_train, y3_test = train_test_split(X3, y3, test_size=0.30)"
   ]
  },
  {
   "cell_type": "code",
   "execution_count": 53,
   "metadata": {},
   "outputs": [],
   "source": [
    "from sklearn.ensemble import RandomForestClassifier\n",
    "from sklearn.metrics import classification_report,confusion_matrix\n"
   ]
  },
  {
   "cell_type": "code",
   "execution_count": 55,
   "metadata": {},
   "outputs": [],
   "source": [
    "# gridsearch params\n",
    "rfc_params = {\n",
    "    'max_depth':[None,1,2,3,4],\n",
    "    'max_features':[None,'log2','sqrt',2,3,4,5],\n",
    "    'min_samples_split':[2,3,4,5,10,15,20,25,30,40,50]\n",
    "}\n",
    "\n",
    "from sklearn.model_selection import GridSearchCV\n",
    "# set the gridsearch\n",
    "rfc_gs = GridSearchCV(RandomForestClassifier(n_estimators=200), \n",
    "                      dtc_params, \n",
    "                      cv=5, \n",
    "                      verbose=1, \n",
    "                      n_jobs=-1)"
   ]
  },
  {
   "cell_type": "code",
   "execution_count": 56,
   "metadata": {},
   "outputs": [
    {
     "name": "stdout",
     "output_type": "stream",
     "text": [
      "Fitting 5 folds for each of 385 candidates, totalling 1925 fits\n"
     ]
    },
    {
     "name": "stderr",
     "output_type": "stream",
     "text": [
      "[Parallel(n_jobs=-1)]: Using backend LokyBackend with 4 concurrent workers.\n",
      "[Parallel(n_jobs=-1)]: Done  42 tasks      | elapsed:    5.9s\n",
      "[Parallel(n_jobs=-1)]: Done 192 tasks      | elapsed:   21.2s\n",
      "[Parallel(n_jobs=-1)]: Done 442 tasks      | elapsed:   50.8s\n",
      "[Parallel(n_jobs=-1)]: Done 792 tasks      | elapsed:  1.4min\n",
      "[Parallel(n_jobs=-1)]: Done 1242 tasks      | elapsed:  2.1min\n",
      "[Parallel(n_jobs=-1)]: Done 1792 tasks      | elapsed:  2.9min\n",
      "[Parallel(n_jobs=-1)]: Done 1925 out of 1925 | elapsed:  3.1min finished\n",
      "C:\\ProgramData\\Anaconda3\\lib\\site-packages\\sklearn\\model_selection\\_search.py:841: DeprecationWarning: The default of the `iid` parameter will change from True to False in version 0.22 and will be removed in 0.24. This will change numeric results when test-set sizes are unequal.\n",
      "  DeprecationWarning)\n"
     ]
    },
    {
     "data": {
      "text/plain": [
       "GridSearchCV(cv=5, error_score='raise-deprecating',\n",
       "       estimator=RandomForestClassifier(bootstrap=True, class_weight=None, criterion='gini',\n",
       "            max_depth=None, max_features='auto', max_leaf_nodes=None,\n",
       "            min_impurity_decrease=0.0, min_impurity_split=None,\n",
       "            min_samples_leaf=1, min_samples_split=2,\n",
       "            min_weight_fraction_leaf=0.0, n_estimators=200, n_jobs=None,\n",
       "            oob_score=False, random_state=None, verbose=0,\n",
       "            warm_start=False),\n",
       "       fit_params=None, iid='warn', n_jobs=-1,\n",
       "       param_grid={'max_depth': [None, 1, 2, 3, 4], 'max_features': [None, 'log2', 'sqrt', 2, 3, 4, 5], 'min_samples_split': [2, 3, 4, 5, 10, 15, 20, 25, 30, 40, 50]},\n",
       "       pre_dispatch='2*n_jobs', refit=True, return_train_score='warn',\n",
       "       scoring=None, verbose=1)"
      ]
     },
     "execution_count": 56,
     "metadata": {},
     "output_type": "execute_result"
    }
   ],
   "source": [
    "# use the gridearc C model to fit the data\n",
    "rfc_gs.fit(X3_train, y3_train)"
   ]
  },
  {
   "cell_type": "code",
   "execution_count": 58,
   "metadata": {},
   "outputs": [],
   "source": [
    "rfc_pred = rfc_gs.predict(X3_test)"
   ]
  },
  {
   "cell_type": "code",
   "execution_count": 59,
   "metadata": {},
   "outputs": [
    {
     "name": "stdout",
     "output_type": "stream",
     "text": [
      "[[58 14  5]\n",
      " [ 8 58  6]\n",
      " [ 7 15  9]]\n"
     ]
    }
   ],
   "source": [
    "print(confusion_matrix(y3_test,rfc_pred))"
   ]
  },
  {
   "cell_type": "code",
   "execution_count": 60,
   "metadata": {},
   "outputs": [
    {
     "name": "stdout",
     "output_type": "stream",
     "text": [
      "              precision    recall  f1-score   support\n",
      "\n",
      "           0       0.79      0.75      0.77        77\n",
      "           1       0.67      0.81      0.73        72\n",
      "           2       0.45      0.29      0.35        31\n",
      "\n",
      "   micro avg       0.69      0.69      0.69       180\n",
      "   macro avg       0.64      0.62      0.62       180\n",
      "weighted avg       0.68      0.69      0.68       180\n",
      "\n"
     ]
    }
   ],
   "source": [
    "print(classification_report(y3_test,rfc_pred))"
   ]
  },
  {
   "cell_type": "code",
   "execution_count": 61,
   "metadata": {},
   "outputs": [],
   "source": [
    "# As expected, the score is improved by using Random forest classifier when compared to \n",
    "# logistic regression"
   ]
  },
  {
   "cell_type": "markdown",
   "metadata": {},
   "source": [
    "<div style=\"width:610px;background:#fdf0db;border:1px solid black;\n",
    "  text-align:left;padding:8px;\"><b>\n",
    "<h7><a name='q2mod3'><font color=black>Decision Tree Classifier  \n",
    "    </a></h7></b>    \n",
    "</div>"
   ]
  },
  {
   "cell_type": "code",
   "execution_count": 62,
   "metadata": {},
   "outputs": [],
   "source": [
    "from sklearn.tree import DecisionTreeClassifier\n",
    "\n",
    "# gridsearch params\n",
    "dtc_params = {\n",
    "    'max_depth':[None,1,2,3,4],\n",
    "    'max_features':[None,'log2','sqrt',2,3,4,5],\n",
    "    'min_samples_split':[2,3,4,5,10,15,20,25,30,40,50]\n",
    "}\n",
    "\n",
    "from sklearn.model_selection import GridSearchCV\n",
    "# set the gridsearch\n",
    "dtc_gs = GridSearchCV(DecisionTreeClassifier(), \n",
    "                      dtc_params, \n",
    "                      cv=5, \n",
    "                      verbose=1, \n",
    "                      n_jobs=-1)"
   ]
  },
  {
   "cell_type": "code",
   "execution_count": 63,
   "metadata": {},
   "outputs": [
    {
     "name": "stdout",
     "output_type": "stream",
     "text": [
      "Fitting 5 folds for each of 385 candidates, totalling 1925 fits\n"
     ]
    },
    {
     "name": "stderr",
     "output_type": "stream",
     "text": [
      "[Parallel(n_jobs=-1)]: Using backend LokyBackend with 4 concurrent workers.\n",
      "[Parallel(n_jobs=-1)]: Done 1140 tasks      | elapsed:    2.4s\n",
      "[Parallel(n_jobs=-1)]: Done 1925 out of 1925 | elapsed:    3.9s finished\n",
      "C:\\ProgramData\\Anaconda3\\lib\\site-packages\\sklearn\\model_selection\\_search.py:841: DeprecationWarning: The default of the `iid` parameter will change from True to False in version 0.22 and will be removed in 0.24. This will change numeric results when test-set sizes are unequal.\n",
      "  DeprecationWarning)\n"
     ]
    },
    {
     "data": {
      "text/plain": [
       "GridSearchCV(cv=5, error_score='raise-deprecating',\n",
       "       estimator=DecisionTreeClassifier(class_weight=None, criterion='gini', max_depth=None,\n",
       "            max_features=None, max_leaf_nodes=None,\n",
       "            min_impurity_decrease=0.0, min_impurity_split=None,\n",
       "            min_samples_leaf=1, min_samples_split=2,\n",
       "            min_weight_fraction_leaf=0.0, presort=False, random_state=None,\n",
       "            splitter='best'),\n",
       "       fit_params=None, iid='warn', n_jobs=-1,\n",
       "       param_grid={'max_depth': [None, 1, 2, 3, 4], 'max_features': [None, 'log2', 'sqrt', 2, 3, 4, 5], 'min_samples_split': [2, 3, 4, 5, 10, 15, 20, 25, 30, 40, 50]},\n",
       "       pre_dispatch='2*n_jobs', refit=True, return_train_score='warn',\n",
       "       scoring=None, verbose=1)"
      ]
     },
     "execution_count": 63,
     "metadata": {},
     "output_type": "execute_result"
    }
   ],
   "source": [
    "# use the gridearc C model to fit the data\n",
    "dtc_gs.fit(X3, y3)"
   ]
  },
  {
   "cell_type": "code",
   "execution_count": 64,
   "metadata": {},
   "outputs": [
    {
     "name": "stdout",
     "output_type": "stream",
     "text": [
      "{'max_depth': None, 'max_features': 5, 'min_samples_split': 2}\n",
      "0.5618729096989966\n"
     ]
    }
   ],
   "source": [
    "dtc_best = dtc_gs.best_estimator_\n",
    "print(dtc_gs.best_params_)\n",
    "print(dtc_gs.best_score_)"
   ]
  },
  {
   "cell_type": "code",
   "execution_count": 65,
   "metadata": {},
   "outputs": [
    {
     "data": {
      "text/html": [
       "<div>\n",
       "<style scoped>\n",
       "    .dataframe tbody tr th:only-of-type {\n",
       "        vertical-align: middle;\n",
       "    }\n",
       "\n",
       "    .dataframe tbody tr th {\n",
       "        vertical-align: top;\n",
       "    }\n",
       "\n",
       "    .dataframe thead th {\n",
       "        text-align: right;\n",
       "    }\n",
       "</style>\n",
       "<table border=\"1\" class=\"dataframe\">\n",
       "  <thead>\n",
       "    <tr style=\"text-align: right;\">\n",
       "      <th></th>\n",
       "      <th>feature</th>\n",
       "      <th>importance</th>\n",
       "    </tr>\n",
       "  </thead>\n",
       "  <tbody>\n",
       "    <tr>\n",
       "      <th>36</th>\n",
       "      <td>average_salary</td>\n",
       "      <td>0.328494</td>\n",
       "    </tr>\n",
       "    <tr>\n",
       "      <th>8</th>\n",
       "      <td>gov_support_yes</td>\n",
       "      <td>0.056281</td>\n",
       "    </tr>\n",
       "    <tr>\n",
       "      <th>0</th>\n",
       "      <td>employment_type_Full Time</td>\n",
       "      <td>0.042485</td>\n",
       "    </tr>\n",
       "    <tr>\n",
       "      <th>1</th>\n",
       "      <td>employment_type_Permanent</td>\n",
       "      <td>0.041699</td>\n",
       "    </tr>\n",
       "    <tr>\n",
       "      <th>2</th>\n",
       "      <td>industrys_Information Technology</td>\n",
       "      <td>0.039992</td>\n",
       "    </tr>\n",
       "    <tr>\n",
       "      <th>14</th>\n",
       "      <td>job_description_topic_6</td>\n",
       "      <td>0.034882</td>\n",
       "    </tr>\n",
       "    <tr>\n",
       "      <th>22</th>\n",
       "      <td>job_req_topics_5</td>\n",
       "      <td>0.033343</td>\n",
       "    </tr>\n",
       "    <tr>\n",
       "      <th>4</th>\n",
       "      <td>location_Islandwide</td>\n",
       "      <td>0.033335</td>\n",
       "    </tr>\n",
       "    <tr>\n",
       "      <th>35</th>\n",
       "      <td>job_titles_topics_9</td>\n",
       "      <td>0.029144</td>\n",
       "    </tr>\n",
       "    <tr>\n",
       "      <th>33</th>\n",
       "      <td>job_titles_topics_7</td>\n",
       "      <td>0.029113</td>\n",
       "    </tr>\n",
       "    <tr>\n",
       "      <th>6</th>\n",
       "      <td>location_South</td>\n",
       "      <td>0.027781</td>\n",
       "    </tr>\n",
       "    <tr>\n",
       "      <th>28</th>\n",
       "      <td>job_titles_topics_2</td>\n",
       "      <td>0.022627</td>\n",
       "    </tr>\n",
       "    <tr>\n",
       "      <th>29</th>\n",
       "      <td>job_titles_topics_3</td>\n",
       "      <td>0.020702</td>\n",
       "    </tr>\n",
       "    <tr>\n",
       "      <th>32</th>\n",
       "      <td>job_titles_topics_6</td>\n",
       "      <td>0.020433</td>\n",
       "    </tr>\n",
       "    <tr>\n",
       "      <th>7</th>\n",
       "      <td>location_West</td>\n",
       "      <td>0.020044</td>\n",
       "    </tr>\n",
       "    <tr>\n",
       "      <th>25</th>\n",
       "      <td>job_req_topics_8</td>\n",
       "      <td>0.019960</td>\n",
       "    </tr>\n",
       "    <tr>\n",
       "      <th>17</th>\n",
       "      <td>job_description_topic_9</td>\n",
       "      <td>0.017014</td>\n",
       "    </tr>\n",
       "    <tr>\n",
       "      <th>3</th>\n",
       "      <td>location_East</td>\n",
       "      <td>0.015207</td>\n",
       "    </tr>\n",
       "    <tr>\n",
       "      <th>11</th>\n",
       "      <td>job_description_topic_3</td>\n",
       "      <td>0.014790</td>\n",
       "    </tr>\n",
       "    <tr>\n",
       "      <th>31</th>\n",
       "      <td>job_titles_topics_5</td>\n",
       "      <td>0.014643</td>\n",
       "    </tr>\n",
       "    <tr>\n",
       "      <th>27</th>\n",
       "      <td>job_titles_topics_1</td>\n",
       "      <td>0.014155</td>\n",
       "    </tr>\n",
       "    <tr>\n",
       "      <th>19</th>\n",
       "      <td>job_req_topics_2</td>\n",
       "      <td>0.014118</td>\n",
       "    </tr>\n",
       "    <tr>\n",
       "      <th>34</th>\n",
       "      <td>job_titles_topics_8</td>\n",
       "      <td>0.012970</td>\n",
       "    </tr>\n",
       "    <tr>\n",
       "      <th>21</th>\n",
       "      <td>job_req_topics_4</td>\n",
       "      <td>0.012510</td>\n",
       "    </tr>\n",
       "    <tr>\n",
       "      <th>10</th>\n",
       "      <td>job_description_topic_2</td>\n",
       "      <td>0.011222</td>\n",
       "    </tr>\n",
       "    <tr>\n",
       "      <th>30</th>\n",
       "      <td>job_titles_topics_4</td>\n",
       "      <td>0.010920</td>\n",
       "    </tr>\n",
       "    <tr>\n",
       "      <th>23</th>\n",
       "      <td>job_req_topics_6</td>\n",
       "      <td>0.009395</td>\n",
       "    </tr>\n",
       "    <tr>\n",
       "      <th>13</th>\n",
       "      <td>job_description_topic_5</td>\n",
       "      <td>0.009176</td>\n",
       "    </tr>\n",
       "    <tr>\n",
       "      <th>24</th>\n",
       "      <td>job_req_topics_7</td>\n",
       "      <td>0.009168</td>\n",
       "    </tr>\n",
       "    <tr>\n",
       "      <th>15</th>\n",
       "      <td>job_description_topic_7</td>\n",
       "      <td>0.006596</td>\n",
       "    </tr>\n",
       "    <tr>\n",
       "      <th>26</th>\n",
       "      <td>job_req_topics_9</td>\n",
       "      <td>0.006336</td>\n",
       "    </tr>\n",
       "    <tr>\n",
       "      <th>9</th>\n",
       "      <td>job_description_topic_1</td>\n",
       "      <td>0.005588</td>\n",
       "    </tr>\n",
       "    <tr>\n",
       "      <th>12</th>\n",
       "      <td>job_description_topic_4</td>\n",
       "      <td>0.004757</td>\n",
       "    </tr>\n",
       "    <tr>\n",
       "      <th>5</th>\n",
       "      <td>location_North</td>\n",
       "      <td>0.004691</td>\n",
       "    </tr>\n",
       "    <tr>\n",
       "      <th>16</th>\n",
       "      <td>job_description_topic_8</td>\n",
       "      <td>0.003692</td>\n",
       "    </tr>\n",
       "    <tr>\n",
       "      <th>20</th>\n",
       "      <td>job_req_topics_3</td>\n",
       "      <td>0.002738</td>\n",
       "    </tr>\n",
       "    <tr>\n",
       "      <th>18</th>\n",
       "      <td>job_req_topics_1</td>\n",
       "      <td>0.000000</td>\n",
       "    </tr>\n",
       "  </tbody>\n",
       "</table>\n",
       "</div>"
      ],
      "text/plain": [
       "                             feature  importance\n",
       "36                    average_salary    0.328494\n",
       "8                    gov_support_yes    0.056281\n",
       "0          employment_type_Full Time    0.042485\n",
       "1          employment_type_Permanent    0.041699\n",
       "2   industrys_Information Technology    0.039992\n",
       "14           job_description_topic_6    0.034882\n",
       "22                  job_req_topics_5    0.033343\n",
       "4                location_Islandwide    0.033335\n",
       "35               job_titles_topics_9    0.029144\n",
       "33               job_titles_topics_7    0.029113\n",
       "6                     location_South    0.027781\n",
       "28               job_titles_topics_2    0.022627\n",
       "29               job_titles_topics_3    0.020702\n",
       "32               job_titles_topics_6    0.020433\n",
       "7                      location_West    0.020044\n",
       "25                  job_req_topics_8    0.019960\n",
       "17           job_description_topic_9    0.017014\n",
       "3                      location_East    0.015207\n",
       "11           job_description_topic_3    0.014790\n",
       "31               job_titles_topics_5    0.014643\n",
       "27               job_titles_topics_1    0.014155\n",
       "19                  job_req_topics_2    0.014118\n",
       "34               job_titles_topics_8    0.012970\n",
       "21                  job_req_topics_4    0.012510\n",
       "10           job_description_topic_2    0.011222\n",
       "30               job_titles_topics_4    0.010920\n",
       "23                  job_req_topics_6    0.009395\n",
       "13           job_description_topic_5    0.009176\n",
       "24                  job_req_topics_7    0.009168\n",
       "15           job_description_topic_7    0.006596\n",
       "26                  job_req_topics_9    0.006336\n",
       "9            job_description_topic_1    0.005588\n",
       "12           job_description_topic_4    0.004757\n",
       "5                     location_North    0.004691\n",
       "16           job_description_topic_8    0.003692\n",
       "20                  job_req_topics_3    0.002738\n",
       "18                  job_req_topics_1    0.000000"
      ]
     },
     "execution_count": 65,
     "metadata": {},
     "output_type": "execute_result"
    }
   ],
   "source": [
    "fi = pd.DataFrame({\n",
    "        'feature':X3.columns,\n",
    "        'importance':dtc_best.feature_importances_\n",
    "    })\n",
    "\n",
    "fi.sort_values('importance', ascending=False, inplace=True)\n",
    "fi"
   ]
  },
  {
   "cell_type": "code",
   "execution_count": 66,
   "metadata": {},
   "outputs": [],
   "source": [
    "# The score improved from logistic regression(0.477) to 0.55 in Decision tree.\n"
   ]
  },
  {
   "cell_type": "code",
   "execution_count": null,
   "metadata": {},
   "outputs": [],
   "source": []
  },
  {
   "cell_type": "markdown",
   "metadata": {},
   "source": [
    "<div style=\"width:610px;background:#fdf0db;border:1px solid black;\n",
    "  text-align:left;padding:8px;\"><b>\n",
    "<h7><a name='q2mod5'><font color=black>Summary  \n",
    "    </a></h7></b>    \n",
    "</div>"
   ]
  },
  {
   "cell_type": "markdown",
   "metadata": {},
   "source": [
    "## Summary:\n",
    "\n",
    "1. We ran several models (logistic, decision tree classification, RFC) and the model that had the best result was RFC\n",
    "\n",
    "2. The 5 most important features that contributed toseniority roles are as follows:\n",
    "\n",
    "| Feature | Details (Top Values)  |\n",
    "|------|------|\n",
    "| average_salary | Average of min and max salary |\n",
    "| location | West |\n",
    "| Government Support | Yes |\n",
    "| Job Request (Topic 2) | <b>TOP 15 WORDS:</b> ['exp', 'expertise', 'expect', 'expected', 'experience', 'experienced', 'experiences', 'experienceâ', 'experiment', 'experimental', 'experimentation', 'experiments', 'expectations', 'zookeeper', 'na'] |\n",
    "| Job Request (Topic 1) | <b>TOP 15 WORDS:</b> ['servers', 'range', 'cissp', '6pm', '9am', 'fridays', 'comptia', 'mondays', 'ceh', 'relevant', 'com', 'salary', 'possess', 'ecsa', 'thank'] |\n"
   ]
  },
  {
   "cell_type": "code",
   "execution_count": null,
   "metadata": {},
   "outputs": [],
   "source": []
  },
  {
   "cell_type": "markdown",
   "metadata": {},
   "source": [
    "[Go Top](#top)"
   ]
  }
 ],
 "metadata": {
  "kernelspec": {
   "display_name": "Python 3",
   "language": "python",
   "name": "python3"
  },
  "language_info": {
   "codemirror_mode": {
    "name": "ipython",
    "version": 3
   },
   "file_extension": ".py",
   "mimetype": "text/x-python",
   "name": "python",
   "nbconvert_exporter": "python",
   "pygments_lexer": "ipython3",
   "version": "3.7.1"
  }
 },
 "nbformat": 4,
 "nbformat_minor": 2
}
