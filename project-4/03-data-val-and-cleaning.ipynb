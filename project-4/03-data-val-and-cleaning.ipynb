{
 "cells": [
  {
   "cell_type": "markdown",
   "metadata": {},
   "source": [
    "<a name='top'></a>    \n",
    "<div style=\"width:900px;background:#fdf0db;border:1px solid black;text-align:left;padding:8px;\">\n",
    "    <p>\n",
    "        <span style=\"font-size:14pt\">\n",
    "            <b>Scraping from my www.mycareersfuture.sg</b>\n",
    "        </span>\n",
    "    </p>\n",
    "</div>\n",
    "\n",
    "<div style=\"width:900px;background:#f2f2f2;border:1px solid black;text-align:left;padding:8px;\">\n",
    "    <p>The Main Purpose of this notebook is to <b>Process all the detail files</b> that was <br>generated during web scrapping.<br><br>   Data Cleaning & Validation was performed on each feature.  <br>Furthermore, Feature Engineering was used to create new features as well. <br><br>\n",
    "    After all these were done, the final version of the details will be written off to a new output file.<br><br>\n",
    "        <b>Step 1:</b> URL = www.mycareersfuture.sg<br>\n",
    "        <b>Step 2:</b> Open Detail Files<br>\n",
    "        <b>Step 3:</b> Clean Duplicate Rows<br>\n",
    "        <b>Step 4:</b> EDA & Data Analysis<br>\n",
    "        <b>Step 5:</b> Save Data to Output<br>\n",
    " \n",
    "\n",
    "   \n",
    "\n",
    "## Notebook Outline ##    \n",
    "1. [Open Input Data Files](#open)\n",
    "2. [Cleaning of Duplicate Rows](#dup0)    \n",
    "2.1 [Drop Duplicates based on All Fields](#dup1)     \n",
    "2.2 [Drop Duplicates based on 'Link' Fields](#dup2)     \n",
    "2.3 [Check for fields with null values](#dup3)    \n",
    "3. [EDA, Data Analysis & Data Validation](#data)     \n",
    "3.1. [Salary](#col1)  \n",
    "3.1.1. [Salary Range](#col1a)      \n",
    "3.1.2. [Salary Terms](#col1b)      \n",
    "3.1.3. [Converting Annual Salary to Monthly](#col1c)      \n",
    "3.1.4. [Average Salary](#col1d)  \n",
    "3.1.5. [Salary Median](#col1e)  \n",
    "3.2   [Companys](#col2)  \n",
    "3.3   [Employment Type](#col3)     \n",
    "3.4   [Seniority](#col4)     \n",
    "3.5   [Industrys](#col5)     \n",
    "3.6   [Locations](#col6)     \n",
    "3.7   [Government Support](#col7)     \n",
    "3.8. [Job Titles](#col8)     \n",
    "3.8.1. [NMF Preprocessing](#col8a)     \n",
    "3.8.2. [NMF Model](#col8b)     \n",
    "3.8.3. [New Field job_titles_topics](#col8c)     \n",
    "3.9.  [Job Descriptions](#col9)     \n",
    "3.9.1 [LDA - Preprocessing](#col9a)     \n",
    "3.9.2 [LDA Topic Model](#col9b)     \n",
    "3.9.3 [New Field job_description_topic](#col9c)     \n",
    "3.10 [Job Requirements](#col10)     \n",
    "3.10.1 [Null Values in Job Requests](#col10a)     \n",
    "3.10.2 [NMF Preprocessing](#col10b)     \n",
    "3.10.3 [NMF Model](#col10c)     \n",
    "3.10.4 [New Field job_req_topics](#col10d)     \n",
    "4. [Write final Dataframe in an output file](#write)      \n",
    "  \n",
    "\n",
    "</div>"
   ]
  },
  {
   "cell_type": "code",
   "execution_count": 1,
   "metadata": {},
   "outputs": [],
   "source": [
    "import os\n",
    "from selenium import webdriver\n",
    "from time import sleep\n",
    "from bs4 import BeautifulSoup\n",
    "\n",
    "import pandas as pd\n",
    "import numpy as np\n",
    "import re\n",
    "\n",
    "import seaborn as sns\n",
    "import matplotlib.patches as mpatches\n",
    "import matplotlib.pyplot as plt\n",
    "import warnings\n",
    "\n",
    "sns.set_style(\"whitegrid\")\n",
    "warnings.filterwarnings('ignore')\n",
    "\n",
    "%matplotlib inline\n",
    "%config InlineBackend.figure_format = 'retina'"
   ]
  },
  {
   "cell_type": "markdown",
   "metadata": {},
   "source": [
    "<div style=\"width:610px;background:#fdf0db;border:1px solid black;\n",
    "  text-align:left;padding:8px;\"><b>\n",
    "<h7><a name='open'><font color=black>Opening Detail Files     \n",
    "    </a></h7></b>    \n",
    "\n",
    "- Open Detail Files list and store them in a dataframe\n",
    "</div>"
   ]
  },
  {
   "cell_type": "code",
   "execution_count": 2,
   "metadata": {},
   "outputs": [
    {
     "data": {
      "text/plain": [
       "['data\\\\outfile_00_detail.csv',\n",
       " 'data\\\\outfile_01_detail.csv',\n",
       " 'data\\\\outfile_02_detail.csv',\n",
       " 'data\\\\outfile_03_detail.csv',\n",
       " 'data\\\\outfile_04_detail.csv',\n",
       " 'data\\\\outfile_05_detail.csv',\n",
       " 'data\\\\outfile_a00_detail.csv',\n",
       " 'data\\\\outfile_a01_detail.csv',\n",
       " 'data\\\\outfile_a02_detail.csv',\n",
       " 'data\\\\outfile_a03_detail.csv',\n",
       " 'data\\\\outfile_a04_detail.csv']"
      ]
     },
     "execution_count": 2,
     "metadata": {},
     "output_type": "execute_result"
    }
   ],
   "source": [
    "## Generate a list of detail files to be processed\n",
    "path='data\\\\'\n",
    "myfiles=['{}outfile_0{}_detail.csv'.format(path,x) for x in range(6)]  \n",
    "\n",
    "\n",
    "for x in range(5):\n",
    "    myfiles.append('{}outfile_a0{}_detail.csv'.format(path,x))\n",
    "\n",
    "myfiles"
   ]
  },
  {
   "cell_type": "code",
   "execution_count": 3,
   "metadata": {},
   "outputs": [
    {
     "name": "stdout",
     "output_type": "stream",
     "text": [
      "data\\outfile_00_detail.csv (140, 13)\n",
      "data\\outfile_01_detail.csv (137, 13)\n",
      "data\\outfile_02_detail.csv (116, 13)\n",
      "data\\outfile_03_detail.csv (104, 13)\n",
      "data\\outfile_04_detail.csv (147, 13)\n",
      "data\\outfile_05_detail.csv (90, 13)\n",
      "data\\outfile_a00_detail.csv (236, 13)\n",
      "data\\outfile_a01_detail.csv (266, 13)\n",
      "data\\outfile_a02_detail.csv (260, 13)\n",
      "data\\outfile_a03_detail.csv (100, 13)\n",
      "data\\outfile_a04_detail.csv (19, 13)\n"
     ]
    }
   ],
   "source": [
    "## Open Detail files and store all records in mylist\n",
    "mylist=[]\n",
    "\n",
    "for file in myfiles:\n",
    "    df = pd.read_csv(file, encoding='latin1')\n",
    "    mylist.append(df)\n",
    "    print(file,df.shape)"
   ]
  },
  {
   "cell_type": "code",
   "execution_count": 4,
   "metadata": {},
   "outputs": [
    {
     "data": {
      "text/plain": [
       "(1615, 13)"
      ]
     },
     "execution_count": 4,
     "metadata": {},
     "output_type": "execute_result"
    }
   ],
   "source": [
    "## Combine all records in one data frame.\n",
    "df = pd.concat(mylist, axis=0, ignore_index=True)\n",
    "df.shape"
   ]
  },
  {
   "cell_type": "markdown",
   "metadata": {},
   "source": [
    "<div style=\"width:610px;background:#fdf0db;border:1px solid black;\n",
    "  text-align:left;padding:8px;\"><b>\n",
    "<h7><a name='dup0'><font color=black>Cleaning of Duplicate Rows     \n",
    "    </a></h7></b>    \n",
    "\n",
    "- Drop Duplicaes based on All Fields\n",
    "- Drop Duplicates based on 'Link' Field\n",
    "<div>"
   ]
  },
  {
   "cell_type": "markdown",
   "metadata": {},
   "source": [
    "<b><h7><a name='dup1'><font color=black>Drop Duplicates based on All Fields</a></h7> "
   ]
  },
  {
   "cell_type": "code",
   "execution_count": 5,
   "metadata": {},
   "outputs": [
    {
     "name": "stdout",
     "output_type": "stream",
     "text": [
      "df.shape: (1598, 13)\n"
     ]
    }
   ],
   "source": [
    "## Drop Duplicates based on All Fields \n",
    "df.drop_duplicates(subset=None, keep='first', inplace=True)\n",
    "print('df.shape:',df.shape)"
   ]
  },
  {
   "cell_type": "markdown",
   "metadata": {},
   "source": [
    "<b><h7><a name='dup2'><font color=black>Drop Duplicates based on 'Link' Fields</a></h7>     "
   ]
  },
  {
   "cell_type": "code",
   "execution_count": 6,
   "metadata": {},
   "outputs": [
    {
     "name": "stdout",
     "output_type": "stream",
     "text": [
      "Duplicate Rows(link field): 385\n"
     ]
    }
   ],
   "source": [
    "## Search for duplicates based on link Field\n",
    "vcount=df.links.value_counts().sort_values(ascending=False)\n",
    "\n",
    "x=[[x,y] for x,y in vcount.items() if y>1]\n",
    "print('Duplicate Rows(link field):',len(x))"
   ]
  },
  {
   "cell_type": "code",
   "execution_count": 7,
   "metadata": {},
   "outputs": [],
   "source": [
    "## Drop Duplicates (based on all link Field)\n",
    "df.drop_duplicates('links', keep='first', inplace=True)"
   ]
  },
  {
   "cell_type": "code",
   "execution_count": 8,
   "metadata": {},
   "outputs": [
    {
     "name": "stdout",
     "output_type": "stream",
     "text": [
      "Duplicate Rows(based on link field): 0\n",
      "df.shape: (1018, 13)\n"
     ]
    }
   ],
   "source": [
    "## Search for duplicates based on link Field\n",
    "vcount=df.links.value_counts().sort_values(ascending=False)\n",
    "\n",
    "x=[[x,y] for x,y in vcount.items() if y>1]\n",
    "print('Duplicate Rows(based on link field):',len(x))\n",
    "print('df.shape:',df.shape)"
   ]
  },
  {
   "cell_type": "markdown",
   "metadata": {},
   "source": [
    "<b><h7><a name='dup3'><font color=black>Check for fields with null values:</a></h7>     "
   ]
  },
  {
   "cell_type": "code",
   "execution_count": 9,
   "metadata": {},
   "outputs": [
    {
     "data": {
      "text/plain": [
       "[['seniority', 30],\n",
       " ['salary_terms', 91],\n",
       " ['job_requirements', 62],\n",
       " ['location', 260],\n",
       " ['gov_support', 428]]"
      ]
     },
     "execution_count": 9,
     "metadata": {},
     "output_type": "execute_result"
    }
   ],
   "source": [
    "## check for fields with null values:\n",
    "chk_null=df.isnull().sum()\n",
    "[[x,y] for x,y in chk_null.items() if y>0]"
   ]
  },
  {
   "cell_type": "code",
   "execution_count": 10,
   "metadata": {},
   "outputs": [],
   "source": [
    "## These fields will be handled later..."
   ]
  },
  {
   "cell_type": "markdown",
   "metadata": {},
   "source": [
    "[Go Top](#top)"
   ]
  },
  {
   "cell_type": "markdown",
   "metadata": {},
   "source": [
    "<div style=\"width:610px;background:#fdf0db;border:1px solid black;\n",
    "  text-align:left;padding:8px;\"><b>\n",
    "<h7><a name='data'><font color=black>EDA, Data Analysis & Data Validation     \n",
    "    </a></h7></b>\n",
    "</div>    \n",
    "<p><b>\n",
    "Analyze each column and peform the following validations<br></b>\n",
    "    1. Check for null values<br>\n",
    "    2. Perform EDA<br>\n",
    "    3. Perform Feature Engineering (if necessary)<br>\n",
    "</p>"
   ]
  },
  {
   "cell_type": "markdown",
   "metadata": {},
   "source": [
    "- Analyze each column and peform the following validations\n",
    "    * Check for null values\n",
    "    * Perform EDA\n",
    "    * Perform Feature Engineering (if necessary)"
   ]
  },
  {
   "cell_type": "code",
   "execution_count": 11,
   "metadata": {},
   "outputs": [
    {
     "data": {
      "text/plain": [
       "['Unnamed: 0',\n",
       " 'job_titles',\n",
       " 'companys',\n",
       " 'employment_type',\n",
       " 'seniority',\n",
       " 'industrys',\n",
       " 'salary',\n",
       " 'salary_terms',\n",
       " 'job_descriptions',\n",
       " 'job_requirements',\n",
       " 'links',\n",
       " 'location',\n",
       " 'gov_support']"
      ]
     },
     "execution_count": 11,
     "metadata": {},
     "output_type": "execute_result"
    }
   ],
   "source": [
    "[x for x in df.columns]"
   ]
  },
  {
   "cell_type": "code",
   "execution_count": 12,
   "metadata": {},
   "outputs": [],
   "source": [
    "## drop unnamed field\n",
    "df.drop('Unnamed: 0', axis=1, inplace=True)"
   ]
  },
  {
   "cell_type": "markdown",
   "metadata": {},
   "source": [
    "<div style=\"width:610px;background:#fdf0db;border:1px solid black;\n",
    "  text-align:left;padding:8px;\"><b>\n",
    " \n",
    "<b><h7><a name='col1'><font color=black>Salary</a></h7> "
   ]
  },
  {
   "cell_type": "markdown",
   "metadata": {},
   "source": [
    "<h7><a name='col1a'><font color=black><b>Salary Range</b></a></h7><br>\n",
    "- Based on Initial Analysis, this field contains null values.  These are \n",
    "job applications <br>that contain undisclosed salary.  We will Drop these rows    "
   ]
  },
  {
   "cell_type": "code",
   "execution_count": 13,
   "metadata": {},
   "outputs": [
    {
     "name": "stdout",
     "output_type": "stream",
     "text": [
      "# of null values in salary: 91\n",
      "# of null values in salary_terms: 91\n"
     ]
    }
   ],
   "source": [
    "## Compare null values in salary_terms & salary values that arer undisclosed.\n",
    "print('# of null values in salary:',len(df[df.salary=='Salary undisclosed']))\n",
    "print('# of null values in salary_terms:',df.salary_terms.isnull().sum())"
   ]
  },
  {
   "cell_type": "code",
   "execution_count": 14,
   "metadata": {},
   "outputs": [],
   "source": [
    "## this means that all rows with undisclosed salary has \n",
    "## null values in its salary terms"
   ]
  },
  {
   "cell_type": "code",
   "execution_count": 15,
   "metadata": {},
   "outputs": [
    {
     "name": "stdout",
     "output_type": "stream",
     "text": [
      "NULL salary_terms: 0\n"
     ]
    }
   ],
   "source": [
    "## drop data with undisclosed salary\n",
    "df = df[df.salary != 'Salary undisclosed']\n",
    "\n",
    "print('NULL salary_terms:', df.salary.isnull().sum())"
   ]
  },
  {
   "cell_type": "code",
   "execution_count": 16,
   "metadata": {},
   "outputs": [],
   "source": [
    "## salary_terms"
   ]
  },
  {
   "cell_type": "code",
   "execution_count": 17,
   "metadata": {},
   "outputs": [
    {
     "data": {
      "text/plain": [
       "1    $90,000to$150,000\n",
       "2      $7,700to$15,400\n",
       "3      $5,000to$10,000\n",
       "4       $6,000to$8,000\n",
       "5       $3,500to$5,800\n",
       "Name: salary, dtype: object"
      ]
     },
     "execution_count": 17,
     "metadata": {},
     "output_type": "execute_result"
    }
   ],
   "source": [
    "df.salary.head()"
   ]
  },
  {
   "cell_type": "markdown",
   "metadata": {},
   "source": [
    "<b><h7><a name='col1b'><font color=black>Salary Terms</a></h7> "
   ]
  },
  {
   "cell_type": "code",
   "execution_count": 18,
   "metadata": {},
   "outputs": [],
   "source": [
    "## remove $ and commas in salary\n",
    "df.salary=df.salary.apply(lambda x: x.replace('$',''))\n",
    "df.salary=df.salary.apply(lambda x: x.replace(',',''))\n",
    "\n",
    "## split salary in min and max salary\n",
    "df['min_salary'] = df.salary.apply(lambda x: x.split('to')[0])\n",
    "df['max_salary'] = df.salary.apply(lambda x: x.split('to')[-1])\n",
    "\n",
    "# convert fields to numeric\n",
    "df['min_salary'] = df['min_salary'].convert_objects(convert_numeric=True)\n",
    "df['max_salary'] = df['max_salary'].convert_objects(convert_numeric=True)"
   ]
  },
  {
   "cell_type": "code",
   "execution_count": 19,
   "metadata": {},
   "outputs": [
    {
     "data": {
      "text/html": [
       "<div>\n",
       "<style scoped>\n",
       "    .dataframe tbody tr th:only-of-type {\n",
       "        vertical-align: middle;\n",
       "    }\n",
       "\n",
       "    .dataframe tbody tr th {\n",
       "        vertical-align: top;\n",
       "    }\n",
       "\n",
       "    .dataframe thead th {\n",
       "        text-align: right;\n",
       "    }\n",
       "</style>\n",
       "<table border=\"1\" class=\"dataframe\">\n",
       "  <thead>\n",
       "    <tr style=\"text-align: right;\">\n",
       "      <th></th>\n",
       "      <th>min_salary</th>\n",
       "      <th>max_salary</th>\n",
       "      <th>salary_terms</th>\n",
       "    </tr>\n",
       "  </thead>\n",
       "  <tbody>\n",
       "    <tr>\n",
       "      <th>1</th>\n",
       "      <td>90000</td>\n",
       "      <td>150000</td>\n",
       "      <td>Annually</td>\n",
       "    </tr>\n",
       "    <tr>\n",
       "      <th>8</th>\n",
       "      <td>90000</td>\n",
       "      <td>150000</td>\n",
       "      <td>Annually</td>\n",
       "    </tr>\n",
       "    <tr>\n",
       "      <th>10</th>\n",
       "      <td>72000</td>\n",
       "      <td>140000</td>\n",
       "      <td>Annually</td>\n",
       "    </tr>\n",
       "  </tbody>\n",
       "</table>\n",
       "</div>"
      ],
      "text/plain": [
       "    min_salary  max_salary salary_terms\n",
       "1        90000      150000     Annually\n",
       "8        90000      150000     Annually\n",
       "10       72000      140000     Annually"
      ]
     },
     "execution_count": 19,
     "metadata": {},
     "output_type": "execute_result"
    }
   ],
   "source": [
    "cols=['min_salary','max_salary','salary_terms']\n",
    "df[df['salary_terms']=='Annually'][cols].head(3)"
   ]
  },
  {
   "cell_type": "markdown",
   "metadata": {},
   "source": [
    "<b><h7><a name='col1c'><font color=black>Convert Annual Salary to Monthly</a></h7> "
   ]
  },
  {
   "cell_type": "code",
   "execution_count": 20,
   "metadata": {},
   "outputs": [],
   "source": [
    "## Convert all Annual salary terms to monthly.\n",
    "## Assumption: No bonuses or any other packages in salary.  \n",
    "##  So we will divide the min and max salary by 12 to get the \n",
    "##  monthly salary."
   ]
  },
  {
   "cell_type": "code",
   "execution_count": 21,
   "metadata": {},
   "outputs": [
    {
     "data": {
      "text/html": [
       "<div>\n",
       "<style scoped>\n",
       "    .dataframe tbody tr th:only-of-type {\n",
       "        vertical-align: middle;\n",
       "    }\n",
       "\n",
       "    .dataframe tbody tr th {\n",
       "        vertical-align: top;\n",
       "    }\n",
       "\n",
       "    .dataframe thead th {\n",
       "        text-align: right;\n",
       "    }\n",
       "</style>\n",
       "<table border=\"1\" class=\"dataframe\">\n",
       "  <thead>\n",
       "    <tr style=\"text-align: right;\">\n",
       "      <th></th>\n",
       "      <th>min_salary</th>\n",
       "      <th>max_salary</th>\n",
       "      <th>salary_terms</th>\n",
       "    </tr>\n",
       "  </thead>\n",
       "  <tbody>\n",
       "    <tr>\n",
       "      <th>1</th>\n",
       "      <td>90000</td>\n",
       "      <td>150000</td>\n",
       "      <td>Annually</td>\n",
       "    </tr>\n",
       "    <tr>\n",
       "      <th>2</th>\n",
       "      <td>7700</td>\n",
       "      <td>15400</td>\n",
       "      <td>Monthly</td>\n",
       "    </tr>\n",
       "    <tr>\n",
       "      <th>3</th>\n",
       "      <td>5000</td>\n",
       "      <td>10000</td>\n",
       "      <td>Monthly</td>\n",
       "    </tr>\n",
       "    <tr>\n",
       "      <th>4</th>\n",
       "      <td>6000</td>\n",
       "      <td>8000</td>\n",
       "      <td>Monthly</td>\n",
       "    </tr>\n",
       "    <tr>\n",
       "      <th>5</th>\n",
       "      <td>3500</td>\n",
       "      <td>5800</td>\n",
       "      <td>Monthly</td>\n",
       "    </tr>\n",
       "  </tbody>\n",
       "</table>\n",
       "</div>"
      ],
      "text/plain": [
       "   min_salary  max_salary salary_terms\n",
       "1       90000      150000     Annually\n",
       "2        7700       15400      Monthly\n",
       "3        5000       10000      Monthly\n",
       "4        6000        8000      Monthly\n",
       "5        3500        5800      Monthly"
      ]
     },
     "execution_count": 21,
     "metadata": {},
     "output_type": "execute_result"
    }
   ],
   "source": [
    "cols=['min_salary','max_salary','salary_terms']\n",
    "df[cols].head(5)"
   ]
  },
  {
   "cell_type": "code",
   "execution_count": 22,
   "metadata": {},
   "outputs": [],
   "source": [
    "## Convert annual salary into monthly salary\n",
    "df['min_salary']=[round(salary/12,2) if term=='Annually' else salary \n",
    "    for salary,term in df[['min_salary','salary_terms']].values]\n",
    "\n",
    "df['max_salary']=[round(salary/12,2) if term=='Annually' else salary \n",
    "    for salary,term in df[['max_salary','salary_terms']].values]\n",
    "\n",
    "#df.loc[df.salary_terms.str.contains('Annually')] = 'Monthly'\n",
    "df['salary_terms']=['Monthly' if term=='Annually' else term for term \n",
    "                    in df.salary_terms]"
   ]
  },
  {
   "cell_type": "code",
   "execution_count": 23,
   "metadata": {},
   "outputs": [
    {
     "data": {
      "text/html": [
       "<div>\n",
       "<style scoped>\n",
       "    .dataframe tbody tr th:only-of-type {\n",
       "        vertical-align: middle;\n",
       "    }\n",
       "\n",
       "    .dataframe tbody tr th {\n",
       "        vertical-align: top;\n",
       "    }\n",
       "\n",
       "    .dataframe thead th {\n",
       "        text-align: right;\n",
       "    }\n",
       "</style>\n",
       "<table border=\"1\" class=\"dataframe\">\n",
       "  <thead>\n",
       "    <tr style=\"text-align: right;\">\n",
       "      <th></th>\n",
       "      <th>min_salary</th>\n",
       "      <th>max_salary</th>\n",
       "      <th>salary_terms</th>\n",
       "    </tr>\n",
       "  </thead>\n",
       "  <tbody>\n",
       "    <tr>\n",
       "      <th>1</th>\n",
       "      <td>7500.0</td>\n",
       "      <td>12500.0</td>\n",
       "      <td>Monthly</td>\n",
       "    </tr>\n",
       "    <tr>\n",
       "      <th>2</th>\n",
       "      <td>7700.0</td>\n",
       "      <td>15400.0</td>\n",
       "      <td>Monthly</td>\n",
       "    </tr>\n",
       "    <tr>\n",
       "      <th>3</th>\n",
       "      <td>5000.0</td>\n",
       "      <td>10000.0</td>\n",
       "      <td>Monthly</td>\n",
       "    </tr>\n",
       "  </tbody>\n",
       "</table>\n",
       "</div>"
      ],
      "text/plain": [
       "   min_salary  max_salary salary_terms\n",
       "1      7500.0     12500.0      Monthly\n",
       "2      7700.0     15400.0      Monthly\n",
       "3      5000.0     10000.0      Monthly"
      ]
     },
     "execution_count": 23,
     "metadata": {},
     "output_type": "execute_result"
    }
   ],
   "source": [
    "cols=['min_salary','max_salary','salary_terms']\n",
    "df[cols].head(3)"
   ]
  },
  {
   "cell_type": "code",
   "execution_count": 24,
   "metadata": {
    "scrolled": true
   },
   "outputs": [
    {
     "data": {
      "text/plain": [
       "Monthly    927\n",
       "Name: salary_terms, dtype: int64"
      ]
     },
     "execution_count": 24,
     "metadata": {},
     "output_type": "execute_result"
    }
   ],
   "source": [
    "df.salary_terms.value_counts()"
   ]
  },
  {
   "cell_type": "code",
   "execution_count": 25,
   "metadata": {},
   "outputs": [
    {
     "name": "stdout",
     "output_type": "stream",
     "text": [
      "num of zero values in min_salary: 0\n",
      "num of zero values in max_salary: 0\n"
     ]
    },
    {
     "data": {
      "text/plain": [
       "min_salary    float64\n",
       "max_salary    float64\n",
       "dtype: object"
      ]
     },
     "execution_count": 25,
     "metadata": {},
     "output_type": "execute_result"
    }
   ],
   "source": [
    "print('num of zero values in min_salary:',df['min_salary'].isnull().sum())\n",
    "print('num of zero values in max_salary:',df['max_salary'].isnull().sum())\n",
    "df[['min_salary','max_salary']].dtypes"
   ]
  },
  {
   "cell_type": "code",
   "execution_count": 26,
   "metadata": {},
   "outputs": [
    {
     "data": {
      "text/plain": [
       "min_salary    float64\n",
       "max_salary    float64\n",
       "dtype: object"
      ]
     },
     "execution_count": 26,
     "metadata": {},
     "output_type": "execute_result"
    }
   ],
   "source": [
    "## convert this columns to numeric \n",
    "df['max_salary'] = df['max_salary'].convert_objects(convert_numeric=True)\n",
    "df['min_salary'] = df['min_salary'].convert_objects(convert_numeric=True)\n",
    "\n",
    "df[['min_salary','max_salary']].dtypes"
   ]
  },
  {
   "cell_type": "markdown",
   "metadata": {},
   "source": [
    "<b><h7><a name='col1d'><font color=black>Average Salary</a></h7> "
   ]
  },
  {
   "cell_type": "code",
   "execution_count": 27,
   "metadata": {},
   "outputs": [],
   "source": [
    "## Create New Column Average Salary.  \n",
    "##    average_salary = (min_salary + max_salary) / 2\n",
    "\n",
    "df['average_salary'] = (df.min_salary + df.max_salary) / 2"
   ]
  },
  {
   "cell_type": "code",
   "execution_count": 28,
   "metadata": {},
   "outputs": [
    {
     "data": {
      "image/png": "[encoded data removed]",
      "text/plain": [
       "<Figure size 504x360 with 1 Axes>"
      ]
     },
     "metadata": {
      "image/png": {
       "height": 320,
       "width": 443
      },
      "needs_background": "light"
     },
     "output_type": "display_data"
    }
   ],
   "source": [
    "plt.figure(figsize=(7,5))\n",
    "df['average_salary'].plot.hist(bins=20)\n",
    "plt.title('Distribution of Average Salary',fontsize=16,fontweight='bold')\n",
    "plt.show()"
   ]
  },
  {
   "cell_type": "code",
   "execution_count": 29,
   "metadata": {},
   "outputs": [
    {
     "data": {
      "text/plain": [
       "job_titles           object\n",
       "companys             object\n",
       "employment_type      object\n",
       "seniority            object\n",
       "industrys            object\n",
       "salary               object\n",
       "salary_terms         object\n",
       "job_descriptions     object\n",
       "job_requirements     object\n",
       "links                object\n",
       "location             object\n",
       "gov_support          object\n",
       "min_salary          float64\n",
       "max_salary          float64\n",
       "average_salary      float64\n",
       "dtype: object"
      ]
     },
     "execution_count": 29,
     "metadata": {},
     "output_type": "execute_result"
    }
   ],
   "source": [
    "df['min_salary'].isnull().sum()\n",
    "df['max_salary'].isnull().sum()\n",
    "df.dtypes"
   ]
  },
  {
   "cell_type": "markdown",
   "metadata": {},
   "source": [
    "<b><h7><a name='col1e'><font color=black>Salary Median</a></h7> "
   ]
  },
  {
   "cell_type": "code",
   "execution_count": 30,
   "metadata": {},
   "outputs": [
    {
     "name": "stdout",
     "output_type": "stream",
     "text": [
      "Median of average_salary: 6500.0\n"
     ]
    },
    {
     "data": {
      "text/plain": [
       "1    481\n",
       "0    446\n",
       "Name: salary_med, dtype: int64"
      ]
     },
     "execution_count": 30,
     "metadata": {},
     "output_type": "execute_result"
    }
   ],
   "source": [
    "salary_med=df['average_salary'].median()\n",
    "print('Median of average_salary:',salary_med)\n",
    "\n",
    "#creating a column denoting salarys less than median average salary \n",
    "#   as 0 and above to be 1\n",
    "\n",
    "df['salary_med']=df.average_salary.apply(lambda x: 1 if x>= salary_med else 0)\n",
    "\n",
    "df.salary_med.value_counts()"
   ]
  },
  {
   "cell_type": "code",
   "execution_count": null,
   "metadata": {},
   "outputs": [],
   "source": []
  },
  {
   "cell_type": "code",
   "execution_count": null,
   "metadata": {},
   "outputs": [],
   "source": []
  },
  {
   "cell_type": "markdown",
   "metadata": {},
   "source": [
    "[Go Top](#top)"
   ]
  },
  {
   "cell_type": "markdown",
   "metadata": {},
   "source": [
    "<div style=\"width:610px;background:#fdf0db;border:1px solid black;\n",
    "  text-align:left;padding:8px;\"><b>\n",
    "<b><h7><a name='col2'><font color=black>Companys</a></h7> "
   ]
  },
  {
   "cell_type": "code",
   "execution_count": 31,
   "metadata": {},
   "outputs": [
    {
     "name": "stdout",
     "output_type": "stream",
     "text": [
      "Top Companys:\n"
     ]
    },
    {
     "data": {
      "text/plain": [
       "[['Company Undisclosed', '51 Duplicates Found'],\n",
       " ['NANYANG TECHNOLOGICAL UNIVERSITY', '50 Duplicates Found'],\n",
       " ['MACHSPEED HUMAN RESOURCES PTE. LTD.', '43 Duplicates Found'],\n",
       " ['A*STAR RESEARCH ENTITIES', '38 Duplicates Found'],\n",
       " ['DBS BANK LTD.', '37 Duplicates Found'],\n",
       " ['NATIONAL UNIVERSITY OF SINGAPORE', '25 Duplicates Found'],\n",
       " ['GOVERNMENT TECHNOLOGY AGENCY', '18 Duplicates Found'],\n",
       " ['TRAVELOKA SERVICES PTE. LTD.', '17 Duplicates Found'],\n",
       " ['TOOKITAKI HOLDING PTE. LTD.', '15 Duplicates Found'],\n",
       " ['SINGAPORE MANAGEMENT UNIVERSITY', '12 Duplicates Found'],\n",
       " ['DATAROBOT SINGAPORE PTE. LTD.', '11 Duplicates Found']]"
      ]
     },
     "execution_count": 31,
     "metadata": {},
     "output_type": "execute_result"
    }
   ],
   "source": [
    "## Search for duplicates based on companys Field\n",
    "field_count=df.companys.value_counts().sort_values(ascending=False)\n",
    "\n",
    "print('Top Companys:')\n",
    "[[x,'{} Duplicates Found'.format(y)] for x,y in field_count.items() if y>10]"
   ]
  },
  {
   "cell_type": "markdown",
   "metadata": {},
   "source": [
    "<div style=\"width:610px;background:#fdf0db;border:1px solid black;\n",
    "  text-align:left;padding:8px;\"><b><b>\n",
    "<h7><a name='col3'><font color=black>Employment Type</a></h7> "
   ]
  },
  {
   "cell_type": "code",
   "execution_count": 32,
   "metadata": {},
   "outputs": [
    {
     "data": {
      "text/plain": [
       "Full Time                                                          300\n",
       "Permanent                                                          240\n",
       "Permanent, Full Time                                               133\n",
       "Contract, Full Time                                                124\n",
       "Contract                                                            92\n",
       "Permanent, Contract                                                 13\n",
       "Permanent, Contract, Full Time                                      11\n",
       "Full Time, Internship                                                4\n",
       "Internship                                                           3\n",
       "Permanent, Flexi work                                                2\n",
       "Contract, Internship                                                 1\n",
       "Part Time                                                            1\n",
       "Freelance                                                            1\n",
       "Part Time, Permanent, Temporary, Contract, Freelance, Full Time      1\n",
       "Temporary, Contract, Full Time                                       1\n",
       "Name: employment_type, dtype: int64"
      ]
     },
     "execution_count": 32,
     "metadata": {},
     "output_type": "execute_result"
    }
   ],
   "source": [
    "## employment_type\n",
    "df.employment_type.value_counts()"
   ]
  },
  {
   "cell_type": "code",
   "execution_count": 33,
   "metadata": {},
   "outputs": [
    {
     "data": {
      "image/png": "[encoded data removed]",
      "text/plain": [
       "<Figure size 1080x576 with 1 Axes>"
      ]
     },
     "metadata": {
      "image/png": {
       "height": 483,
       "width": 876
      },
      "needs_background": "light"
     },
     "output_type": "display_data"
    }
   ],
   "source": [
    "## Generate dummies for employment_type\n",
    "df['employment_type'].fillna('',inplace=True)\n",
    "etype_cat=df['employment_type'].str.get_dummies(sep=', ')\n",
    "\n",
    "\n",
    "plt.figure(figsize=(15,8))\n",
    "ax=etype_cat.apply(sum).sort_values(ascending=False).plot.bar()\n",
    "labels=ax.get_xticklabels()\n",
    "ax.set_xticklabels(labels,rotation=0)\n",
    "ax.set_title('Number of Job listings by employment type',fontsize=16,fontweight='bold')\n",
    "plt.show()"
   ]
  },
  {
   "cell_type": "code",
   "execution_count": 34,
   "metadata": {},
   "outputs": [],
   "source": [
    "## Perform the following updates:\n",
    "\n",
    "comment='''\n",
    "1. Perfrom splitting to reduce multiple values\n",
    "2. Assumptions:\n",
    "   a. Part Time jobs are few so we will drop these rows.\n",
    "   b. All employment_type with 'Internship' will be classified as 'Internship'\n",
    "   c. All employment_type with 'Permanent, Contract' will be classified as 'Permanent'\n",
    "   d. All employment_type with less than 5 entries will be dropped.\n",
    "3. Remove row entries with low counts. \n",
    "    For example temporary, internship and part-time jobs \n",
    "    have only one value. As these data dont have significant \n",
    "    contribution to our results. Those columns were removed.   \n",
    "'''"
   ]
  },
  {
   "cell_type": "code",
   "execution_count": 35,
   "metadata": {},
   "outputs": [],
   "source": [
    "## Part Time jobs are few so we will drop these rows.\n",
    "str='Part Time'\n",
    "df=df[df.employment_type.str.contains(str)==False]"
   ]
  },
  {
   "cell_type": "code",
   "execution_count": 36,
   "metadata": {},
   "outputs": [],
   "source": [
    "## All employment_type with 'Internship' in its string value  \n",
    "##      will be classified as 'Internship'   \n",
    "str='Internship'\n",
    "df.loc[df.employment_type.str.contains(str)] = 'Internship'"
   ]
  },
  {
   "cell_type": "code",
   "execution_count": 37,
   "metadata": {},
   "outputs": [],
   "source": [
    "## All employment_type with 'Permanent, Contract'  in its string value\n",
    "##      will be classified as 'Permanent'\n",
    "str=['Permanent, Contract','Permanent, Contract, Full Time']\n",
    "df.employment_type = df.employment_type.replace(str,'Permanent')"
   ]
  },
  {
   "cell_type": "code",
   "execution_count": 38,
   "metadata": {},
   "outputs": [
    {
     "name": "stdout",
     "output_type": "stream",
     "text": [
      "Removing Rows with: Permanent, Flexi work\n",
      "Removing Rows with: Temporary, Contract, Full Time\n",
      "Removing Rows with: Freelance\n"
     ]
    }
   ],
   "source": [
    "## All employment_type with less than 5 entries will be dropped.\n",
    "field_count=df.employment_type.value_counts().sort_values(ascending=False)\n",
    "str_search=[x for x,y in field_count.items() if y<5]\n",
    "\n",
    "for str in str_search:\n",
    "    print('Removing Rows with:',str)\n",
    "    df=df[df.employment_type!=str]  "
   ]
  },
  {
   "cell_type": "code",
   "execution_count": 39,
   "metadata": {},
   "outputs": [
    {
     "data": {
      "text/plain": [
       "Series([], Name: employment_type, dtype: object)"
      ]
     },
     "execution_count": 39,
     "metadata": {},
     "output_type": "execute_result"
    }
   ],
   "source": [
    "str='Permanent, Contract'\n",
    "#df[df.employment_type.str.contains(str)]\n",
    "\n",
    "#df[df.employment_type.str.contains(str)==True]['employment_type']\n",
    "df[df.employment_type.str.contains(str)==True].loc[:,'employment_type']"
   ]
  },
  {
   "cell_type": "code",
   "execution_count": 40,
   "metadata": {},
   "outputs": [],
   "source": [
    "## Remove excess text  \n",
    "df.employment_type=df.employment_type.apply(lambda x: x.split(',')[0])"
   ]
  },
  {
   "cell_type": "code",
   "execution_count": 41,
   "metadata": {},
   "outputs": [
    {
     "data": {
      "text/plain": [
       "Permanent     397\n",
       "Full Time     300\n",
       "Contract      216\n",
       "Internship      8\n",
       "Name: employment_type, dtype: int64"
      ]
     },
     "execution_count": 41,
     "metadata": {},
     "output_type": "execute_result"
    }
   ],
   "source": [
    "df.employment_type.value_counts()"
   ]
  },
  {
   "cell_type": "markdown",
   "metadata": {},
   "source": [
    "<div style=\"width:610px;background:#fdf0db;border:1px solid black;\n",
    "  text-align:left;padding:8px;\"><b>\n",
    "<b><h7><a name='col4'><font color=black>Seniority</a></h7>    "
   ]
  },
  {
   "cell_type": "code",
   "execution_count": null,
   "metadata": {
    "scrolled": true
   },
   "outputs": [],
   "source": []
  },
  {
   "cell_type": "code",
   "execution_count": 42,
   "metadata": {},
   "outputs": [],
   "source": [
    "## seniority (has null values)"
   ]
  },
  {
   "cell_type": "code",
   "execution_count": 43,
   "metadata": {},
   "outputs": [],
   "source": [
    "# raj test"
   ]
  },
  {
   "cell_type": "code",
   "execution_count": 44,
   "metadata": {},
   "outputs": [],
   "source": [
    "#fill the null value by NA\n",
    "df.seniority=df.seniority.fillna(\"NA\")"
   ]
  },
  {
   "cell_type": "code",
   "execution_count": 45,
   "metadata": {},
   "outputs": [],
   "source": [
    "## Split seniority column\n",
    "df.seniority=df.seniority.apply(lambda x: x.split(',')[0])"
   ]
  },
  {
   "cell_type": "code",
   "execution_count": 46,
   "metadata": {
    "scrolled": false
   },
   "outputs": [
    {
     "data": {
      "text/plain": [
       "Professional         331\n",
       "Executive            209\n",
       "Middle Management     82\n",
       "Senior Executive      75\n",
       "Manager               73\n",
       "Senior Management     39\n",
       "Non-executive         35\n",
       "Fresh/entry level     35\n",
       "Junior Executive      31\n",
       "Internship             8\n",
       "NA                     3\n",
       "Name: seniority, dtype: int64"
      ]
     },
     "execution_count": 46,
     "metadata": {},
     "output_type": "execute_result"
    }
   ],
   "source": [
    "df.seniority.value_counts()"
   ]
  },
  {
   "cell_type": "markdown",
   "metadata": {},
   "source": [
    "<div style=\"width:610px;background:#fdf0db;border:1px solid black;\n",
    "  text-align:left;padding:8px;\"><b>\n",
    "<b><h7><a name='col5'><font color=black>Industrys</a></h7>"
   ]
  },
  {
   "cell_type": "code",
   "execution_count": 47,
   "metadata": {},
   "outputs": [],
   "source": [
    "df.industrys=df.industrys.fillna(\"NA\")\n",
    "\n",
    "#split the employment_type column to reduce the length \n",
    "df.industrys=df.industrys.apply(lambda x: x.split('/')[0])\n",
    "\n",
    "#split the employment_type column to reduce the length \n",
    "df.industrys=df.industrys.apply(lambda x: x.split(',')[0])"
   ]
  },
  {
   "cell_type": "code",
   "execution_count": 48,
   "metadata": {},
   "outputs": [
    {
     "data": {
      "text/plain": [
       "Information Technology       463\n",
       "Engineering                  135\n",
       "Sciences                      86\n",
       "Banking and Finance           75\n",
       "Consulting                    30\n",
       "Education and Training        27\n",
       "Others                        17\n",
       "Advertising                   13\n",
       "Marketing                      8\n",
       "Internship                     8\n",
       "Logistics                      7\n",
       "Sales                          7\n",
       "Admin                          6\n",
       "Healthcare                     5\n",
       "Design                         5\n",
       "Human Resources                5\n",
       "Risk Management                3\n",
       "Professional Services          3\n",
       "Building and Construction      3\n",
       "Telecommunications             2\n",
       "Insurance                      2\n",
       "Accounting                     2\n",
       "Travel                         2\n",
       "General Management             2\n",
       "Public                         2\n",
       "Manufacturing                  1\n",
       "Environment                    1\n",
       "General Work                   1\n",
       "Name: industrys, dtype: int64"
      ]
     },
     "execution_count": 48,
     "metadata": {},
     "output_type": "execute_result"
    }
   ],
   "source": [
    "df.industrys.value_counts()"
   ]
  },
  {
   "cell_type": "code",
   "execution_count": 49,
   "metadata": {},
   "outputs": [
    {
     "name": "stdout",
     "output_type": "stream",
     "text": [
      "['Information Technology', 'Engineering']\n"
     ]
    },
    {
     "data": {
      "text/plain": [
       "Information Technology    463\n",
       "Engineering               135\n",
       "Name: industrys, dtype: int64"
      ]
     },
     "execution_count": 49,
     "metadata": {},
     "output_type": "execute_result"
    }
   ],
   "source": [
    "## retain the top rows.\n",
    "field_count=df.industrys.value_counts().sort_values(ascending=False)\n",
    "mycols=[x for x,y in field_count.items() if y>100]\n",
    "\n",
    "print(mycols)\n",
    "df = df[df.industrys.isin(mycols)]\n",
    "\n",
    "df.industrys.value_counts()"
   ]
  },
  {
   "cell_type": "code",
   "execution_count": 50,
   "metadata": {},
   "outputs": [],
   "source": [
    "## 'Sciences' has a space value at the end so remove it\n",
    "\n",
    "df.industrys = df.industrys.replace('Sciences ','Sciences')"
   ]
  },
  {
   "cell_type": "markdown",
   "metadata": {},
   "source": [
    "<div style=\"width:610px;background:#fdf0db;border:1px solid black;\n",
    "  text-align:left;padding:8px;\"><b>\n",
    "<b><h7><a name='col6'><font color=black>Location</a></h7>"
   ]
  },
  {
   "cell_type": "code",
   "execution_count": 51,
   "metadata": {},
   "outputs": [
    {
     "data": {
      "text/plain": [
       "Central                 229\n",
       "South                    72\n",
       "East                     60\n",
       "Islandwide               59\n",
       "West                     31\n",
       "North                     7\n",
       "South, Central            5\n",
       "East, Central             2\n",
       "South, East, Central      1\n",
       "Name: location, dtype: int64"
      ]
     },
     "execution_count": 51,
     "metadata": {},
     "output_type": "execute_result"
    }
   ],
   "source": [
    "df.location.value_counts()"
   ]
  },
  {
   "cell_type": "code",
   "execution_count": 52,
   "metadata": {},
   "outputs": [],
   "source": [
    "## replace null values with NA\n",
    "df.location=df.location.fillna(\"NA\")"
   ]
  },
  {
   "cell_type": "code",
   "execution_count": 53,
   "metadata": {},
   "outputs": [],
   "source": [
    "#split the employment_type column to reduce the length \n",
    "df.location=df.location.apply(lambda x: x.split(',')[0])"
   ]
  },
  {
   "cell_type": "code",
   "execution_count": 54,
   "metadata": {
    "scrolled": true
   },
   "outputs": [
    {
     "data": {
      "text/plain": [
       "Central       229\n",
       "NA            132\n",
       "South          78\n",
       "East           62\n",
       "Islandwide     59\n",
       "West           31\n",
       "North           7\n",
       "Name: location, dtype: int64"
      ]
     },
     "execution_count": 54,
     "metadata": {},
     "output_type": "execute_result"
    }
   ],
   "source": [
    "df.location.value_counts()"
   ]
  },
  {
   "cell_type": "markdown",
   "metadata": {},
   "source": [
    "<div style=\"width:610px;background:#fdf0db;border:1px solid black;\n",
    "  text-align:left;padding:8px;\"><b>\n",
    "<b><h7><a name='col7'><font color=black>Government Suppport</a></h7>"
   ]
  },
  {
   "cell_type": "code",
   "execution_count": 55,
   "metadata": {},
   "outputs": [],
   "source": [
    "## gov_support (has null values)"
   ]
  },
  {
   "cell_type": "code",
   "execution_count": 56,
   "metadata": {},
   "outputs": [
    {
     "name": "stdout",
     "output_type": "stream",
     "text": [
      "# of null values in gov_support: 200\n"
     ]
    }
   ],
   "source": [
    "## Check null values \n",
    "print('# of null values in gov_support:',df.gov_support.isnull().sum())"
   ]
  },
  {
   "cell_type": "code",
   "execution_count": 57,
   "metadata": {},
   "outputs": [],
   "source": [
    "## Convert Value into 'yes' or 'no'\n",
    "df['gov_support']=df.gov_support.apply(lambda x: 'yes' if x=='Government support available' else 'no')"
   ]
  },
  {
   "cell_type": "code",
   "execution_count": 58,
   "metadata": {
    "scrolled": true
   },
   "outputs": [
    {
     "name": "stdout",
     "output_type": "stream",
     "text": [
      "# of null values in gov_support: 0\n"
     ]
    }
   ],
   "source": [
    "print('# of null values in gov_support:',df.gov_support.isnull().sum())"
   ]
  },
  {
   "cell_type": "markdown",
   "metadata": {},
   "source": [
    "[Go Top](#top)"
   ]
  },
  {
   "cell_type": "markdown",
   "metadata": {},
   "source": [
    "<div style=\"width:610px;background:#fdf0db;border:1px solid black;\n",
    "  text-align:left;padding:8px;\"><b>\n",
    "<b><h7><a name='col8'><font color=black>Job Titles</a></h7> "
   ]
  },
  {
   "cell_type": "markdown",
   "metadata": {},
   "source": [
    "Use Non-Negative Matrix Factorization (NMF)"
   ]
  },
  {
   "cell_type": "markdown",
   "metadata": {},
   "source": [
    "<h7><a name='col8a'><font color=black><b>NMF Preprocessing</a></h7>"
   ]
  },
  {
   "cell_type": "code",
   "execution_count": 59,
   "metadata": {},
   "outputs": [
    {
     "data": {
      "text/plain": [
       "<598x171 sparse matrix of type '<class 'numpy.float64'>'\n",
       "\twith 2061 stored elements in Compressed Sparse Row format>"
      ]
     },
     "execution_count": 59,
     "metadata": {},
     "output_type": "execute_result"
    }
   ],
   "source": [
    "#Use TF-IDF Vectorization to create a vectorized document term matrix. \n",
    "\n",
    "from sklearn.feature_extraction.text import TfidfVectorizer\n",
    "tfidf = TfidfVectorizer(max_df=0.95, min_df=2, stop_words='english')\n",
    "\n",
    "titles= tfidf.fit_transform(df['job_titles'])\n",
    "titles"
   ]
  },
  {
   "cell_type": "markdown",
   "metadata": {},
   "source": [
    "<h7><a name='col8b'><font color=black><b>NMF Model</a></h7>"
   ]
  },
  {
   "cell_type": "code",
   "execution_count": 60,
   "metadata": {},
   "outputs": [
    {
     "data": {
      "text/plain": [
       "NMF(alpha=0.0, beta_loss='frobenius', init=None, l1_ratio=0.0, max_iter=200,\n",
       "  n_components=10, random_state=42, shuffle=False, solver='cd', tol=0.0001,\n",
       "  verbose=0)"
      ]
     },
     "execution_count": 60,
     "metadata": {},
     "output_type": "execute_result"
    }
   ],
   "source": [
    "from sklearn.decomposition import NMF\n",
    "\n",
    "#Using Scikit-Learn an instance of NMF with 10 \n",
    "#   expected components and random_state=42 was used \n",
    "\n",
    "nmf_model = NMF(n_components=10,random_state=42)\n",
    "nmf_model.fit(titles)"
   ]
  },
  {
   "cell_type": "code",
   "execution_count": 61,
   "metadata": {},
   "outputs": [
    {
     "name": "stdout",
     "output_type": "stream",
     "text": [
      "THE TOP 7 WORDS FOR TOPIC #0\n",
      "['science', 'machine', 'devops', 'center', 'learning', 'data', 'engineer']\n",
      "\n",
      "\n",
      "THE TOP 7 WORDS FOR TOPIC #1\n",
      "['developer', 'mid', 'engineering', 'staff', 'level', 'engineer', 'software']\n",
      "\n",
      "\n",
      "THE TOP 7 WORDS FOR TOPIC #2\n",
      "['algorithm', 'lead', 'mid', 'level', 'junior', 'data', 'scientist']\n",
      "\n",
      "\n",
      "THE TOP 7 WORDS FOR TOPIC #3\n",
      "['analytics', 'product', 'crm', 'junior', 'business', 'data', 'analyst']\n",
      "\n",
      "\n",
      "THE TOP 7 WORDS FOR TOPIC #4\n",
      "['sales', 'pre', 'data', '3500', 'days', '4000', 'orchard']\n",
      "\n",
      "\n",
      "THE TOP 7 WORDS FOR TOPIC #5\n",
      "['avp', 'science', 'analytics', 'assistant', 'associate', 'fellow', 'research']\n",
      "\n",
      "\n",
      "THE TOP 7 WORDS FOR TOPIC #6\n",
      "['big', 'web', 'application', 'stack', 'java', 'python', 'developer']\n",
      "\n",
      "\n",
      "THE TOP 7 WORDS FOR TOPIC #7\n",
      "['machine', 'designer', 'learning', 'backend', 'level', 'consultant', 'senior']\n",
      "\n",
      "\n",
      "THE TOP 7 WORDS FOR TOPIC #8\n",
      "['3500', 'key', 'river', 'valley', '5500', 'account', 'manager']\n",
      "\n",
      "\n",
      "THE TOP 7 WORDS FOR TOPIC #9\n",
      "['database', 'analytics', 'architect', 'lead', 'data', 'consultant', 'big']\n",
      "\n",
      "\n"
     ]
    }
   ],
   "source": [
    "#printing top 15 words per topic\n",
    "\n",
    "for index,topic in enumerate(nmf_model.components_):\n",
    "    print(f'THE TOP 7 WORDS FOR TOPIC #{index}')\n",
    "    print([tfidf.get_feature_names()[i] for i in topic.argsort()[-7:]])\n",
    "    print('\\n')"
   ]
  },
  {
   "cell_type": "markdown",
   "metadata": {},
   "source": [
    "<h7><a name='col8c'><font color=black><b>New Field job_titles_topics</a></h7>"
   ]
  },
  {
   "cell_type": "code",
   "execution_count": 62,
   "metadata": {},
   "outputs": [],
   "source": [
    "#Add a new column to the dataframe that labels the job_titles\n",
    "\n",
    "topic_results = nmf_model.transform(titles)\n",
    "topic_results.argmax(axis=1)\n",
    "\n",
    "df['job_titles_topics'] = topic_results.argmax(axis=1)"
   ]
  },
  {
   "cell_type": "code",
   "execution_count": 63,
   "metadata": {},
   "outputs": [
    {
     "data": {
      "text/plain": [
       "0    106\n",
       "9    103\n",
       "1     60\n",
       "7     59\n",
       "2     59\n",
       "6     54\n",
       "3     51\n",
       "8     50\n",
       "5     34\n",
       "4     22\n",
       "Name: job_titles_topics, dtype: int64"
      ]
     },
     "execution_count": 63,
     "metadata": {},
     "output_type": "execute_result"
    }
   ],
   "source": [
    "df.job_titles_topics.value_counts()"
   ]
  },
  {
   "cell_type": "markdown",
   "metadata": {},
   "source": [
    "[Go Top](#top)"
   ]
  },
  {
   "cell_type": "markdown",
   "metadata": {},
   "source": [
    "<div style=\"width:610px;background:#fdf0db;border:1px solid black;\n",
    "  text-align:left;padding:8px;\"><b>\n",
    "<b><h7><a name='col9'><font color=black>Job Descriptions</a></h7>\n",
    "</div>\n",
    "            "
   ]
  },
  {
   "cell_type": "markdown",
   "metadata": {},
   "source": [
    "<p>We will be use LDA(LatentDirichletAllocation)Topic Modeling\n",
    "to create new Feature job_description_topic "
   ]
  },
  {
   "cell_type": "markdown",
   "metadata": {},
   "source": [
    "<h7><a name='col9a'><font color=black><b>LDA - Preprocessing </a></h7>"
   ]
  },
  {
   "cell_type": "code",
   "execution_count": 64,
   "metadata": {},
   "outputs": [],
   "source": [
    "from sklearn.feature_extraction.text import CountVectorizer\n",
    "\n",
    "cv = CountVectorizer(max_df=0.95, min_df=2, stop_words='english')\n",
    "job_des = cv.fit_transform(df['job_descriptions'])"
   ]
  },
  {
   "cell_type": "code",
   "execution_count": 65,
   "metadata": {},
   "outputs": [
    {
     "data": {
      "text/plain": [
       "<598x3994 sparse matrix of type '<class 'numpy.int64'>'\n",
       "\twith 56448 stored elements in Compressed Sparse Row format>"
      ]
     },
     "execution_count": 65,
     "metadata": {},
     "output_type": "execute_result"
    }
   ],
   "source": [
    "job_des"
   ]
  },
  {
   "cell_type": "markdown",
   "metadata": {},
   "source": [
    "<h7><a name='col9b'><font color=black><b>LDA Topic Model</a></h7>"
   ]
  },
  {
   "cell_type": "code",
   "execution_count": 66,
   "metadata": {},
   "outputs": [],
   "source": [
    "from sklearn.decomposition import LatentDirichletAllocation\n",
    "\n",
    "LDA_model = LatentDirichletAllocation(n_components=10,random_state=42)"
   ]
  },
  {
   "cell_type": "code",
   "execution_count": 67,
   "metadata": {},
   "outputs": [
    {
     "data": {
      "text/plain": [
       "LatentDirichletAllocation(batch_size=128, doc_topic_prior=None,\n",
       "             evaluate_every=-1, learning_decay=0.7,\n",
       "             learning_method='batch', learning_offset=10.0,\n",
       "             max_doc_update_iter=100, max_iter=10, mean_change_tol=0.001,\n",
       "             n_components=10, n_jobs=None, n_topics=None, perp_tol=0.1,\n",
       "             random_state=42, topic_word_prior=None,\n",
       "             total_samples=1000000.0, verbose=0)"
      ]
     },
     "execution_count": 67,
     "metadata": {},
     "output_type": "execute_result"
    }
   ],
   "source": [
    "LDA_model.fit(job_des)"
   ]
  },
  {
   "cell_type": "code",
   "execution_count": 68,
   "metadata": {},
   "outputs": [
    {
     "data": {
      "text/plain": [
       "3994"
      ]
     },
     "execution_count": 68,
     "metadata": {},
     "output_type": "execute_result"
    }
   ],
   "source": [
    "len(cv.get_feature_names())"
   ]
  },
  {
   "cell_type": "code",
   "execution_count": 69,
   "metadata": {},
   "outputs": [
    {
     "name": "stdout",
     "output_type": "stream",
     "text": [
      "national\n",
      "glaxosmithkline\n",
      "instrumental\n",
      "ids\n",
      "credit\n",
      "members\n",
      "minimize\n",
      "aerospace\n",
      "milestones\n",
      "routine\n"
     ]
    }
   ],
   "source": [
    "## random\n",
    "import random\n",
    "\n",
    "for i in range(10):\n",
    "    random_word_id = random.randint(0,3271)\n",
    "    print(cv.get_feature_names()[random_word_id])"
   ]
  },
  {
   "cell_type": "code",
   "execution_count": 70,
   "metadata": {},
   "outputs": [
    {
     "data": {
      "text/plain": [
       "CountVectorizer(analyzer='word', binary=False, decode_error='strict',\n",
       "        dtype=<class 'numpy.int64'>, encoding='utf-8', input='content',\n",
       "        lowercase=True, max_df=0.95, max_features=None, min_df=2,\n",
       "        ngram_range=(1, 1), preprocessor=None, stop_words='english',\n",
       "        strip_accents=None, token_pattern='(?u)\\\\b\\\\w\\\\w+\\\\b',\n",
       "        tokenizer=None, vocabulary=None)"
      ]
     },
     "execution_count": 70,
     "metadata": {},
     "output_type": "execute_result"
    }
   ],
   "source": [
    "cv"
   ]
  },
  {
   "cell_type": "code",
   "execution_count": 71,
   "metadata": {},
   "outputs": [
    {
     "name": "stdout",
     "output_type": "stream",
     "text": [
      "LDA_model.components_    : 10\n"
     ]
    },
    {
     "data": {
      "text/plain": [
       "array([[0.22006331, 2.09975728, 0.10002177, ..., 0.1       , 1.15771105,\n",
       "        0.10001341],\n",
       "       [2.30995351, 0.1       , 0.1       , ..., 0.10000504, 0.10000519,\n",
       "        0.10003213],\n",
       "       [0.10000132, 0.1000119 , 1.10000064, ..., 0.1       , 0.10001265,\n",
       "        0.1       ],\n",
       "       ...,\n",
       "       [0.10000921, 4.31877544, 0.1       , ..., 0.1       , 0.10000365,\n",
       "        0.1       ],\n",
       "       [0.1       , 0.10019347, 0.1       , ..., 0.1       , 0.1000061 ,\n",
       "        0.1       ],\n",
       "       [0.10001246, 0.10022292, 6.81812081, ..., 0.1       , 8.86058261,\n",
       "        0.1       ]])"
      ]
     },
     "execution_count": 71,
     "metadata": {},
     "output_type": "execute_result"
    }
   ],
   "source": [
    "print('LDA_model.components_    :',len(LDA_model.components_))\n",
    "LDA_model.components_"
   ]
  },
  {
   "cell_type": "code",
   "execution_count": 72,
   "metadata": {},
   "outputs": [
    {
     "name": "stdout",
     "output_type": "stream",
     "text": [
      "LDA_model.components_[0] : 3994\n"
     ]
    }
   ],
   "source": [
    "print('LDA_model.components_[0] :',len(LDA_model.components_[0]))\n",
    "single_topic = LDA_model.components_[0]"
   ]
  },
  {
   "cell_type": "code",
   "execution_count": 73,
   "metadata": {},
   "outputs": [
    {
     "data": {
      "text/plain": [
       "array([3576, 3730, 1499, ...,  493, 3602,  927], dtype=int64)"
      ]
     },
     "execution_count": 73,
     "metadata": {},
     "output_type": "execute_result"
    }
   ],
   "source": [
    "# Returns the indices that would sort this array.\n",
    "single_topic.argsort()"
   ]
  },
  {
   "cell_type": "code",
   "execution_count": 74,
   "metadata": {},
   "outputs": [
    {
     "name": "stdout",
     "output_type": "stream",
     "text": [
      "least representative: 3576\n",
      "most representative : 927\n",
      "\n",
      "Top 10 words for this topic:\n",
      " [2344 2751 3961 1013 3956 3618  484  493 3602  927]\n"
     ]
    }
   ],
   "source": [
    "# Word least representative of this topic\n",
    "print('least representative: {}'.format(single_topic.argsort()[0]))\n",
    "\n",
    "# Word most representative of this topic\n",
    "print('most representative : {}'.format(single_topic.argsort()[-1]))\n",
    "\n",
    "# Top 10 words for this topic:\n",
    "print('\\nTop 10 words for this topic:\\n',single_topic.argsort()[-10:])"
   ]
  },
  {
   "cell_type": "code",
   "execution_count": 75,
   "metadata": {},
   "outputs": [
    {
     "name": "stdout",
     "output_type": "stream",
     "text": [
      "new\n",
      "product\n",
      "working\n",
      "design\n",
      "work\n",
      "technology\n",
      "build\n",
      "business\n",
      "team\n",
      "data\n"
     ]
    }
   ],
   "source": [
    "top_word_indices = single_topic.argsort()[-10:]\n",
    "for index in top_word_indices:\n",
    "    print(cv.get_feature_names()[index])"
   ]
  },
  {
   "cell_type": "code",
   "execution_count": 76,
   "metadata": {},
   "outputs": [
    {
     "name": "stdout",
     "output_type": "stream",
     "text": [
      "THE TOP 15 WORDS FOR TOPIC #0\n",
      "['role', 'customer', 'platform', 'software', 'solutions', 'new', 'product', 'working', 'design', 'work', 'technology', 'build', 'business', 'team', 'data']\n",
      "\n",
      "\n",
      "THE TOP 15 WORDS FOR TOPIC #1\n",
      "['provide', 'develop', 'development', 'technology', 'sales', 'management', 'digital', 'network', 'responsible', 'client', 'work', 'solutions', 'team', 'data', 'project']\n",
      "\n",
      "\n",
      "THE TOP 15 WORDS FOR TOPIC #2\n",
      "['mining', 'related', 'problems', 'science', 'build', 'models', 'develop', 'business', 'algorithms', 'techniques', 'engineering', 'team', 'machine', 'learning', 'data']\n",
      "\n",
      "\n",
      "THE TOP 15 WORDS FOR TOPIC #3\n",
      "['end', 'data', 'infrastructure', 'design', 'cloud', 'software', 'youâ', 'web', 'products', 'technology', 'testing', 'technologies', 'applications', 'development', 'experience']\n",
      "\n",
      "\n",
      "THE TOP 15 WORDS FOR TOPIC #4\n",
      "['implementation', 'specifications', 'review', 'performance', 'database', 'testing', 'plan', 'support', 'requirements', 'documentation', 'project', 'team', 'automation', 'management', 'test']\n",
      "\n",
      "\n",
      "THE TOP 15 WORDS FOR TOPIC #5\n",
      "['develop', 'world', 'systems', 'engineering', 'deep', 'university', 'project', 'team', 'looking', 'machine', 'development', 'singapore', 'learning', 'data', 'research']\n",
      "\n",
      "\n",
      "THE TOP 15 WORDS FOR TOPIC #6\n",
      "['teams', 'experience', 'product', 'analysis', 'new', 'develop', 'technical', 'support', 'analytics', 'solutions', 'design', 'team', 'work', 'business', 'data']\n",
      "\n",
      "\n",
      "THE TOP 15 WORDS FOR TOPIC #7\n",
      "['make', 'www', 'services', 'financial', 'solutions', 'technical', 'reconciliation', 'fintech', 'data', 'tookitaki', 'compliance', 'regulatory', 'based', 'approach', 'singapore']\n",
      "\n",
      "\n",
      "THE TOP 15 WORDS FOR TOPIC #8\n",
      "['security', 'working', 'computer', 'industry', 'development', 'relevant', 'years', 'communication', 'strong', 'python', 'programming', 'good', 'knowledge', 'skills', 'experience']\n",
      "\n",
      "\n",
      "THE TOP 15 WORDS FOR TOPIC #9\n",
      "['user', 'development', 'ntuc', 'develop', 'projects', 'technology', 'singapore', 'enterprise', 'work', 'design', 'team', 'solutions', 'project', 'business', 'data']\n",
      "\n",
      "\n"
     ]
    }
   ],
   "source": [
    "for index,topic in enumerate(LDA_model.components_):\n",
    "    print(f'THE TOP 15 WORDS FOR TOPIC #{index}')\n",
    "    print([cv.get_feature_names()[i] for i in topic.argsort()[-15:]])\n",
    "    print('\\n')"
   ]
  },
  {
   "cell_type": "code",
   "execution_count": 77,
   "metadata": {},
   "outputs": [
    {
     "data": {
      "text/plain": [
       "(598, 10)"
      ]
     },
     "execution_count": 77,
     "metadata": {},
     "output_type": "execute_result"
    }
   ],
   "source": [
    "topic_results = LDA_model.transform(job_des)\n",
    "topic_results.shape"
   ]
  },
  {
   "cell_type": "code",
   "execution_count": 78,
   "metadata": {},
   "outputs": [
    {
     "data": {
      "text/plain": [
       "array([0.15719057, 0.00069949, 0.00069945, 0.00069946, 0.0006994 ,\n",
       "       0.00069953, 0.64025697, 0.00069941, 0.00069947, 0.19765625])"
      ]
     },
     "execution_count": 78,
     "metadata": {},
     "output_type": "execute_result"
    }
   ],
   "source": [
    "topic_results[0]"
   ]
  },
  {
   "cell_type": "code",
   "execution_count": 79,
   "metadata": {},
   "outputs": [
    {
     "data": {
      "text/plain": [
       "array([0.16, 0.  , 0.  , 0.  , 0.  , 0.  , 0.64, 0.  , 0.  , 0.2 ])"
      ]
     },
     "execution_count": 79,
     "metadata": {},
     "output_type": "execute_result"
    }
   ],
   "source": [
    "topic_results[0].round(2)"
   ]
  },
  {
   "cell_type": "code",
   "execution_count": 80,
   "metadata": {},
   "outputs": [
    {
     "data": {
      "text/plain": [
       "6"
      ]
     },
     "execution_count": 80,
     "metadata": {},
     "output_type": "execute_result"
    }
   ],
   "source": [
    "topic_results[0].argmax()"
   ]
  },
  {
   "cell_type": "code",
   "execution_count": 81,
   "metadata": {},
   "outputs": [
    {
     "data": {
      "text/plain": [
       "array([6, 6, 6, 6, 6, 6, 6, 0, 6, 9, 9, 6, 6, 8, 6, 6, 6, 6, 6, 6, 8, 9,\n",
       "       2, 6, 2, 2, 6, 6, 6, 6, 2, 6, 6, 6, 6, 6, 6, 9, 0, 9, 6, 6, 6, 6,\n",
       "       0, 6, 9, 6, 6, 0, 0, 6, 6, 6, 0, 6, 6, 5, 6, 6, 6, 6, 4, 6, 6, 6,\n",
       "       6, 6, 6, 9, 9, 6, 6, 6, 6, 6, 6, 6, 6, 6, 6, 6, 6, 6, 6, 6, 6, 6,\n",
       "       6, 6, 6, 7, 7, 7, 7, 7, 7, 7, 7, 7, 7, 7, 7, 7, 7, 7, 7, 7, 7, 7,\n",
       "       9, 6, 0, 0, 9, 9, 6, 6, 6, 0, 3, 3, 3, 6, 2, 6, 2, 6, 1, 1, 9, 6,\n",
       "       9, 6, 6, 8, 6, 6, 0, 6, 7, 6, 6, 6, 3, 5, 5, 6, 8, 1, 6, 6, 6, 0,\n",
       "       0, 6, 6, 6, 1, 1, 6, 6, 1, 6, 6, 6, 9, 9, 6, 9, 6, 6, 6, 6, 6, 0,\n",
       "       6, 6, 6, 6, 6, 6, 0, 6, 9, 6, 6, 9, 9, 9, 1, 3, 7, 7, 6, 6, 9, 6,\n",
       "       9, 6, 5, 0, 6, 6, 1, 6, 6, 6, 6, 5, 5, 6, 6, 5, 6, 6, 6, 6, 0, 6,\n",
       "       6, 6, 6, 6, 6, 6, 6, 6, 6, 6, 8, 6, 6, 9, 6, 6, 6, 6, 6, 6, 5, 3,\n",
       "       3, 4, 6, 6, 6, 6, 5, 6, 6, 4, 1, 1, 1, 0, 6, 9, 9, 6, 6, 6, 4, 0,\n",
       "       4, 6, 6, 6, 6, 5, 6, 4, 0, 4, 6, 6, 4, 9, 9, 8, 5, 4, 5, 5, 5, 0,\n",
       "       5, 6, 2, 6, 6, 5, 0, 5, 5, 0, 5, 0, 6, 4, 0, 5, 6, 2, 5, 5, 5, 6,\n",
       "       6, 6, 3, 9, 1, 6, 3, 3, 6, 6, 5, 6, 0, 6, 6, 3, 6, 3, 6, 6, 0, 8,\n",
       "       1, 6, 6, 1, 6, 4, 9, 6, 6, 6, 6, 8, 6, 1, 6, 3, 6, 8, 3, 3, 5, 3,\n",
       "       3, 3, 3, 3, 3, 6, 6, 6, 3, 3, 6, 8, 4, 0, 6, 6, 3, 9, 9, 9, 1, 6,\n",
       "       6, 1, 0, 6, 6, 0, 0, 3, 6, 5, 0, 0, 1, 6, 6, 3, 3, 3, 3, 3, 3, 1,\n",
       "       3, 8, 5, 5, 6, 3, 0, 8, 6, 3, 3, 1, 0, 3, 6, 3, 4, 0, 8, 3, 1, 3,\n",
       "       8, 3, 1, 3, 1, 1, 1, 6, 8, 3, 1, 1, 1, 6, 3, 3, 3, 3, 2, 6, 2, 6,\n",
       "       9, 9, 8, 8, 3, 3, 3, 3, 6, 6, 6, 6, 6, 6, 0, 0, 1, 1, 4, 6, 5, 5,\n",
       "       0, 0, 0, 0, 0, 5, 5, 9, 9, 0, 6, 6, 6, 3, 6, 6, 6, 6, 1, 4, 1, 1,\n",
       "       6, 1, 6, 9, 1, 3, 7, 7, 3, 1, 7, 7, 7, 7, 7, 1, 6, 1, 1, 3, 1, 1,\n",
       "       1, 7, 7, 7, 7, 1, 1, 6, 6, 1, 1, 6, 9, 9, 3, 3, 1, 1, 3, 1, 6, 6,\n",
       "       2, 2, 2, 1, 6, 6, 8, 6, 6, 5, 5, 6, 5, 5, 0, 0, 8, 5, 6, 6, 2, 0,\n",
       "       6, 6, 9, 9, 6, 7, 3, 0, 0, 5, 5, 5, 5, 5, 0, 0, 8, 8, 5, 5, 6, 5,\n",
       "       5, 0, 5, 6, 6, 6, 6, 6, 0, 5, 5, 6, 5, 3, 6, 9, 6, 6, 6, 6, 5, 6,\n",
       "       6, 1, 5, 6], dtype=int64)"
      ]
     },
     "execution_count": 81,
     "metadata": {},
     "output_type": "execute_result"
    }
   ],
   "source": [
    "topic_results.argmax(axis=1)"
   ]
  },
  {
   "cell_type": "markdown",
   "metadata": {},
   "source": [
    "<h7><a name='col9b'><font color=black><b>New Field job_description_topic</a></h7>"
   ]
  },
  {
   "cell_type": "code",
   "execution_count": 82,
   "metadata": {},
   "outputs": [],
   "source": [
    "df['job_description_topic'] = topic_results.argmax(axis=1)"
   ]
  },
  {
   "cell_type": "code",
   "execution_count": 83,
   "metadata": {},
   "outputs": [
    {
     "data": {
      "text/html": [
       "<div>\n",
       "<style scoped>\n",
       "    .dataframe tbody tr th:only-of-type {\n",
       "        vertical-align: middle;\n",
       "    }\n",
       "\n",
       "    .dataframe tbody tr th {\n",
       "        vertical-align: top;\n",
       "    }\n",
       "\n",
       "    .dataframe thead th {\n",
       "        text-align: right;\n",
       "    }\n",
       "</style>\n",
       "<table border=\"1\" class=\"dataframe\">\n",
       "  <thead>\n",
       "    <tr style=\"text-align: right;\">\n",
       "      <th></th>\n",
       "      <th>job_titles</th>\n",
       "      <th>companys</th>\n",
       "      <th>job_descriptions</th>\n",
       "      <th>job_description_topic</th>\n",
       "    </tr>\n",
       "  </thead>\n",
       "  <tbody>\n",
       "    <tr>\n",
       "      <th>1</th>\n",
       "      <td>Applied Data Science Associate</td>\n",
       "      <td>DATAROBOT SINGAPORE PTE. LTD.</td>\n",
       "      <td>Looking to move into Data Science? Want to lea...</td>\n",
       "      <td>6</td>\n",
       "    </tr>\n",
       "    <tr>\n",
       "      <th>5</th>\n",
       "      <td>Senior / Data Engineer (Data Science Team)</td>\n",
       "      <td>M1 LIMITED</td>\n",
       "      <td>Design, optimise/tune performance, maintain, ...</td>\n",
       "      <td>6</td>\n",
       "    </tr>\n",
       "    <tr>\n",
       "      <th>8</th>\n",
       "      <td>Data Science Engineer</td>\n",
       "      <td>DATAROBOT SINGAPORE PTE. LTD.</td>\n",
       "      <td>As a Data Science Engineer in DataRobot, you w...</td>\n",
       "      <td>6</td>\n",
       "    </tr>\n",
       "  </tbody>\n",
       "</table>\n",
       "</div>"
      ],
      "text/plain": [
       "                                   job_titles                       companys  \\\n",
       "1              Applied Data Science Associate  DATAROBOT SINGAPORE PTE. LTD.   \n",
       "5  Senior / Data Engineer (Data Science Team)                     M1 LIMITED   \n",
       "8                       Data Science Engineer  DATAROBOT SINGAPORE PTE. LTD.   \n",
       "\n",
       "                                    job_descriptions  job_description_topic  \n",
       "1  Looking to move into Data Science? Want to lea...                      6  \n",
       "5   Design, optimise/tune performance, maintain, ...                      6  \n",
       "8  As a Data Science Engineer in DataRobot, you w...                      6  "
      ]
     },
     "execution_count": 83,
     "metadata": {},
     "output_type": "execute_result"
    }
   ],
   "source": [
    "cols=['job_titles','companys','job_descriptions','job_description_topic']\n",
    "df[cols].head(3)"
   ]
  },
  {
   "cell_type": "code",
   "execution_count": 84,
   "metadata": {
    "scrolled": true
   },
   "outputs": [
    {
     "data": {
      "text/plain": [
       "6    258\n",
       "3     59\n",
       "5     52\n",
       "0     52\n",
       "1     51\n",
       "9     42\n",
       "7     34\n",
       "8     21\n",
       "4     15\n",
       "2     14\n",
       "Name: job_description_topic, dtype: int64"
      ]
     },
     "execution_count": 84,
     "metadata": {},
     "output_type": "execute_result"
    }
   ],
   "source": [
    "df.job_description_topic.value_counts()"
   ]
  },
  {
   "cell_type": "markdown",
   "metadata": {},
   "source": [
    "[Go Top](#top)"
   ]
  },
  {
   "cell_type": "markdown",
   "metadata": {},
   "source": [
    "<div style=\"width:610px;background:#fdf0db;border:1px solid black;\n",
    "  text-align:left;padding:8px;\"><b>\n",
    "<b><h7><a name='col10'><font color=black>Job Requirements</a></h7>"
   ]
  },
  {
   "cell_type": "markdown",
   "metadata": {},
   "source": [
    "Use Non-Negative Matrix Factorization (NMF)"
   ]
  },
  {
   "cell_type": "markdown",
   "metadata": {},
   "source": [
    "<h7><a name='col10a'><font color=black><b>Null Values in Job Requests</a></h7>"
   ]
  },
  {
   "cell_type": "code",
   "execution_count": 85,
   "metadata": {},
   "outputs": [],
   "source": [
    "## job_requirements (has null values)"
   ]
  },
  {
   "cell_type": "code",
   "execution_count": 86,
   "metadata": {},
   "outputs": [
    {
     "name": "stdout",
     "output_type": "stream",
     "text": [
      "# of null values in job_requirements: 27\n"
     ]
    }
   ],
   "source": [
    "## Check null values \n",
    "print('# of null values in job_requirements:',df.job_requirements.isnull().sum())"
   ]
  },
  {
   "cell_type": "code",
   "execution_count": 87,
   "metadata": {},
   "outputs": [],
   "source": [
    "## update by filling field with NA\n",
    "df.job_requirements=df.job_requirements.fillna(\"NA\")"
   ]
  },
  {
   "cell_type": "code",
   "execution_count": 88,
   "metadata": {
    "scrolled": true
   },
   "outputs": [
    {
     "name": "stdout",
     "output_type": "stream",
     "text": [
      "# of null values in job_requirements: 0\n"
     ]
    }
   ],
   "source": [
    "print('# of null values in job_requirements:',df.job_requirements.isnull().sum())"
   ]
  },
  {
   "cell_type": "markdown",
   "metadata": {},
   "source": [
    "<h7><a name='col10b'><font color=black><b>NMF Preprocessing</a></h7>"
   ]
  },
  {
   "cell_type": "code",
   "execution_count": 89,
   "metadata": {},
   "outputs": [
    {
     "data": {
      "text/plain": [
       "<598x2984 sparse matrix of type '<class 'numpy.float64'>'\n",
       "\twith 38867 stored elements in Compressed Sparse Row format>"
      ]
     },
     "execution_count": 89,
     "metadata": {},
     "output_type": "execute_result"
    }
   ],
   "source": [
    "#Use TF-IDF Vectorization to create a vectorized document term matrix. \n",
    "\n",
    "from sklearn.feature_extraction.text import TfidfVectorizer\n",
    "tfidf = TfidfVectorizer(max_df=0.95, min_df=2, stop_words='english')\n",
    "\n",
    "req= tfidf.fit_transform(df['job_requirements'])\n",
    "req"
   ]
  },
  {
   "cell_type": "markdown",
   "metadata": {},
   "source": [
    "<h7><a name='col10c'><font color=black><b>NMF Model</a></h7>"
   ]
  },
  {
   "cell_type": "code",
   "execution_count": 90,
   "metadata": {},
   "outputs": [
    {
     "data": {
      "text/plain": [
       "NMF(alpha=0.0, beta_loss='frobenius', init=None, l1_ratio=0.0, max_iter=200,\n",
       "  n_components=10, random_state=42, shuffle=False, solver='cd', tol=0.0001,\n",
       "  verbose=0)"
      ]
     },
     "execution_count": 90,
     "metadata": {},
     "output_type": "execute_result"
    }
   ],
   "source": [
    "from sklearn.decomposition import NMF\n",
    "\n",
    "#Using Scikit-Learn an instance of NMF with 10 \n",
    "#   expected components and random_state=42 was used \n",
    "\n",
    "nmf_model = NMF(n_components=10,random_state=42)\n",
    "nmf_model.fit(req)"
   ]
  },
  {
   "cell_type": "code",
   "execution_count": 91,
   "metadata": {},
   "outputs": [
    {
     "name": "stdout",
     "output_type": "stream",
     "text": [
      "THE TOP 15 WORDS FOR TOPIC #0\n",
      "['requirements', 'computer', 'field', 'minimum', 'preferred', 'related', 'python', 'database', 'aws', 'knowledge', 'years', 'sql', 'working', 'plus', 'experience']\n",
      "\n",
      "\n",
      "THE TOP 15 WORDS FOR TOPIC #1\n",
      "['servers', 'range', 'cissp', '6pm', '9am', 'fridays', 'comptia', 'mondays', 'ceh', 'relevant', 'com', 'salary', 'possess', 'ecsa', 'thank']\n",
      "\n",
      "\n",
      "THE TOP 15 WORDS FOR TOPIC #2\n",
      "['exp', 'expertise', 'expect', 'expected', 'experience', 'experienced', 'experiences', 'experienceâ', 'experiment', 'experimental', 'experimentation', 'experiments', 'expectations', 'zookeeper', 'na']\n",
      "\n",
      "\n",
      "THE TOP 15 WORDS FOR TOPIC #3\n",
      "['deadlines', 'skill', 'andâ', 'requirementsjob', 'direct', 'handle', 'tight', 'account', 'negotiation', 'situation', 'selling', 'stressful', 'consultation', 'com', 'thank']\n",
      "\n",
      "\n",
      "THE TOP 15 WORDS FOR TOPIC #4\n",
      "['statistics', 'research', 'experience', 'skills', 'algorithms', 'electrical', 'programming', 'phd', 'python', 'science', 'engineering', 'deep', 'computer', 'machine', 'learning']\n",
      "\n",
      "\n",
      "THE TOP 15 WORDS FOR TOPIC #5\n",
      "['management', 'strong', 'analysis', 'hive', 'solutions', 'etl', 'modeling', 'spark', 'hadoop', 'tools', 'business', 'analytics', 'big', 'experience', 'data']\n",
      "\n",
      "\n",
      "THE TOP 15 WORDS FOR TOPIC #6\n",
      "['provides', 'simplifying', 'buildâ', 'continuouslyâ', 'linguisticsâ', 'developmentâ', 'informationâ', 'plusâ', 'performanceâ', 'mission', 'view', 'indeedhi', 'bounty', 'helping', 'high']\n",
      "\n",
      "\n",
      "THE TOP 15 WORDS FOR TOPIC #7\n",
      "['problem', 'environment', 'excellent', 'written', 'product', 'management', 'communication', 'project', 'able', 'strong', 'business', 'work', 'team', 'ability', 'skills']\n",
      "\n",
      "\n",
      "THE TOP 15 WORDS FOR TOPIC #8\n",
      "['hands', 'technologies', 'testing', 'patterns', 'spring', 'java', 'cloud', 'architecture', 'understanding', 'continuous', 'experience', 'web', 'design', 'software', 'development']\n",
      "\n",
      "\n",
      "THE TOP 15 WORDS FOR TOPIC #9\n",
      "['resilience', 'concerns', 'jvm', 'dealing', 'reasoning', 'valuable', 'big', 'collaborator', 'uphold', 'advantage', 'systems', 'data', 'familiar', 'having', 'infrastructure']\n",
      "\n",
      "\n"
     ]
    }
   ],
   "source": [
    "#printing top 15 words per topic\n",
    "\n",
    "for index,topic in enumerate(nmf_model.components_):\n",
    "    print(f'THE TOP 15 WORDS FOR TOPIC #{index}')\n",
    "    print([tfidf.get_feature_names()[i] for i in topic.argsort()[-15:]])\n",
    "    print('\\n')"
   ]
  },
  {
   "cell_type": "code",
   "execution_count": 92,
   "metadata": {},
   "outputs": [
    {
     "data": {
      "text/plain": [
       "array([4, 5, 5, 4, 4, 4, 7, 4, 2, 4, 4, 2, 7, 2, 9, 9, 5, 2, 5, 4, 2, 5,\n",
       "       4, 5, 4, 4, 5, 5, 7, 4, 4, 4, 0, 7, 4, 5, 4, 4, 0, 0, 8, 4, 5, 0,\n",
       "       4, 5, 5, 5, 4, 4, 4, 5, 5, 4, 5, 4, 4, 5, 7, 0, 4, 8, 7, 7, 2, 8,\n",
       "       5, 0, 5, 8, 8, 5, 5, 5, 0, 5, 0, 5, 5, 8, 5, 8, 9, 9, 9, 9, 5, 5,\n",
       "       5, 5, 5, 1, 1, 1, 1, 1, 1, 1, 1, 1, 1, 1, 1, 1, 1, 1, 1, 1, 1, 1,\n",
       "       7, 0, 4, 4, 5, 5, 5, 7, 4, 9, 5, 5, 5, 7, 8, 0, 0, 5, 2, 2, 7, 9,\n",
       "       5, 0, 5, 7, 5, 5, 4, 7, 7, 7, 5, 0, 5, 9, 7, 5, 5, 0, 5, 0, 8, 7,\n",
       "       7, 5, 5, 5, 0, 0, 5, 7, 0, 5, 0, 5, 4, 4, 5, 4, 4, 4, 4, 4, 4, 4,\n",
       "       7, 4, 4, 4, 0, 5, 4, 4, 4, 5, 5, 4, 4, 4, 4, 4, 7, 7, 4, 5, 4, 7,\n",
       "       7, 5, 3, 5, 2, 5, 5, 5, 5, 0, 5, 0, 0, 7, 7, 0, 2, 5, 5, 7, 5, 3,\n",
       "       7, 5, 5, 5, 0, 5, 5, 4, 5, 5, 4, 2, 2, 5, 8, 5, 5, 5, 7, 7, 7, 5,\n",
       "       5, 7, 5, 7, 7, 7, 0, 7, 7, 0, 0, 0, 0, 7, 0, 8, 8, 0, 5, 5, 0, 7,\n",
       "       7, 8, 8, 9, 9, 4, 7, 0, 8, 0, 8, 5, 0, 7, 7, 4, 4, 4, 4, 4, 4, 4,\n",
       "       4, 4, 4, 9, 8, 4, 4, 4, 4, 4, 4, 8, 0, 4, 8, 4, 7, 4, 4, 4, 4, 8,\n",
       "       8, 0, 8, 8, 8, 0, 5, 5, 0, 7, 7, 7, 7, 0, 0, 0, 0, 0, 7, 7, 8, 9,\n",
       "       2, 5, 5, 0, 0, 5, 7, 0, 8, 8, 0, 0, 2, 8, 7, 0, 8, 7, 6, 6, 4, 6,\n",
       "       6, 6, 8, 8, 8, 7, 0, 0, 8, 8, 7, 5, 8, 8, 8, 8, 8, 8, 8, 7, 8, 8,\n",
       "       8, 0, 4, 8, 7, 8, 8, 7, 5, 8, 4, 4, 0, 8, 7, 8, 8, 8, 8, 8, 8, 8,\n",
       "       0, 7, 7, 7, 5, 7, 0, 7, 7, 6, 6, 2, 8, 6, 9, 8, 8, 8, 0, 8, 2, 8,\n",
       "       8, 2, 2, 2, 2, 2, 2, 2, 2, 7, 1, 1, 1, 0, 8, 8, 7, 7, 5, 0, 5, 5,\n",
       "       7, 7, 0, 0, 8, 8, 8, 8, 5, 7, 5, 0, 5, 5, 7, 7, 1, 1, 7, 7, 7, 8,\n",
       "       7, 8, 8, 4, 4, 7, 5, 0, 7, 8, 8, 0, 7, 8, 9, 7, 3, 7, 3, 7, 3, 3,\n",
       "       5, 3, 4, 8, 3, 8, 7, 7, 7, 3, 7, 7, 7, 7, 7, 3, 4, 3, 3, 8, 3, 3,\n",
       "       3, 7, 7, 7, 7, 3, 3, 8, 8, 3, 3, 7, 8, 8, 8, 8, 3, 3, 8, 3, 2, 2,\n",
       "       4, 4, 4, 4, 0, 4, 0, 4, 4, 7, 4, 7, 4, 4, 8, 7, 2, 7, 5, 8, 5, 7,\n",
       "       0, 4, 0, 0, 5, 1, 8, 8, 8, 7, 7, 7, 7, 4, 7, 7, 0, 0, 4, 4, 4, 4,\n",
       "       4, 8, 4, 8, 8, 8, 7, 4, 7, 4, 4, 8, 4, 8, 0, 8, 5, 5, 5, 5, 5, 5,\n",
       "       5, 5, 7, 6], dtype=int64)"
      ]
     },
     "execution_count": 92,
     "metadata": {},
     "output_type": "execute_result"
    }
   ],
   "source": [
    "#Add a new column to the dataframe that labels the job requirements\n",
    "\n",
    "topic_results = nmf_model.transform(req)\n",
    "topic_results.argmax(axis=1)"
   ]
  },
  {
   "cell_type": "markdown",
   "metadata": {},
   "source": [
    "<h7><a name='col10d'><font color=black><b>New Field job_req_topics</a></h7>"
   ]
  },
  {
   "cell_type": "code",
   "execution_count": 93,
   "metadata": {},
   "outputs": [],
   "source": [
    "#Add a new column to the dataframe that labels the job requirements\n",
    "df['job_req_topics'] = topic_results.argmax(axis=1)"
   ]
  },
  {
   "cell_type": "code",
   "execution_count": 94,
   "metadata": {},
   "outputs": [
    {
     "data": {
      "text/plain": [
       "5    113\n",
       "7    110\n",
       "4    107\n",
       "8     97\n",
       "0     73\n",
       "2     27\n",
       "1     25\n",
       "3     22\n",
       "9     15\n",
       "6      9\n",
       "Name: job_req_topics, dtype: int64"
      ]
     },
     "execution_count": 94,
     "metadata": {},
     "output_type": "execute_result"
    }
   ],
   "source": [
    "df.job_req_topics.value_counts()"
   ]
  },
  {
   "cell_type": "markdown",
   "metadata": {},
   "source": [
    "[Go Top](#top)"
   ]
  },
  {
   "cell_type": "markdown",
   "metadata": {},
   "source": [
    "<div style=\"width:610px;background:#fdf0db;border:1px solid black;\n",
    "  text-align:left;padding:8px;\"><b>\n",
    "<b><h7><a name='write'><font color=black>Write final Dataframe in an output file</a></h7>"
   ]
  },
  {
   "cell_type": "code",
   "execution_count": 95,
   "metadata": {},
   "outputs": [
    {
     "data": {
      "text/plain": [
       "['job_titles',\n",
       " 'companys',\n",
       " 'employment_type',\n",
       " 'seniority',\n",
       " 'industrys',\n",
       " 'salary',\n",
       " 'salary_terms',\n",
       " 'job_descriptions',\n",
       " 'job_requirements',\n",
       " 'links',\n",
       " 'location',\n",
       " 'gov_support',\n",
       " 'min_salary',\n",
       " 'max_salary',\n",
       " 'average_salary',\n",
       " 'salary_med',\n",
       " 'job_titles_topics',\n",
       " 'job_description_topic',\n",
       " 'job_req_topics']"
      ]
     },
     "execution_count": 95,
     "metadata": {},
     "output_type": "execute_result"
    }
   ],
   "source": [
    "## display all columns in dataframe to be written in output file\n",
    "[x for x in df.columns]"
   ]
  },
  {
   "cell_type": "code",
   "execution_count": 96,
   "metadata": {},
   "outputs": [
    {
     "name": "stdout",
     "output_type": "stream",
     "text": [
      "Created output file: final_webscrape.csv\n"
     ]
    }
   ],
   "source": [
    "filename='final_webscrape.csv'\n",
    "path='data\\\\'\n",
    "#output_file=path+filename\n",
    "\n",
    "# First, create an empty DataFrame.\n",
    "import pandas as pd\n",
    "outfile=''\n",
    "outfile = pd.DataFrame (columns=[x for x in df.columns])\n",
    "   \n",
    "for col in df.columns:\n",
    "    outfile[col]=df[col]\n",
    "    \n",
    "outfile.to_csv('{}{}'.format(path,filename))\n",
    "    \n",
    "print('Created output file:',filename)"
   ]
  },
  {
   "cell_type": "code",
   "execution_count": 97,
   "metadata": {
    "scrolled": true
   },
   "outputs": [
    {
     "data": {
      "text/plain": [
       "(598, 19)"
      ]
     },
     "execution_count": 97,
     "metadata": {},
     "output_type": "execute_result"
    }
   ],
   "source": [
    "df.shape"
   ]
  },
  {
   "cell_type": "markdown",
   "metadata": {},
   "source": [
    "[Go Top](#top)"
   ]
  }
 ],
 "metadata": {
  "kernelspec": {
   "display_name": "Python 3",
   "language": "python",
   "name": "python3"
  },
  "language_info": {
   "codemirror_mode": {
    "name": "ipython",
    "version": 3
   },
   "file_extension": ".py",
   "mimetype": "text/x-python",
   "name": "python",
   "nbconvert_exporter": "python",
   "pygments_lexer": "ipython3",
   "version": "3.7.1"
  }
 },
 "nbformat": 4,
 "nbformat_minor": 2
}
