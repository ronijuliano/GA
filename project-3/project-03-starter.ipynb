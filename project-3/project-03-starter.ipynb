{
 "cells": [
  {
   "cell_type": "markdown",
   "metadata": {},
   "source": [
    "<img src=\"http://imgur.com/1ZcRyrc.png\" style=\"float: left; margin: 15px; height: 80px\">\n",
    "\n",
    "# Project 3\n",
    "\n",
    "### Regression and Classification with the Ames Housing Data\n",
    "\n",
    "---\n",
    "\n",
    "You have just joined a new \"full stack\" real estate company in Ames, Iowa. The strategy of the firm is two-fold:\n",
    "- Own the entire process from the purchase of the land all the way to sale of the house, and anything in between.\n",
    "- Use statistical analysis to optimize investment and maximize return.\n",
    "\n",
    "The company is still small, and though investment is substantial the short-term goals of the company are more oriented towards purchasing existing houses and flipping them as opposed to constructing entirely new houses. That being said, the company has access to a large construction workforce operating at rock-bottom prices.\n",
    "\n",
    "This project uses the [Ames housing data recently made available on kaggle](https://www.kaggle.com/c/house-prices-advanced-regression-techniques)."
   ]
  },
  {
   "cell_type": "code",
   "execution_count": 1,
   "metadata": {},
   "outputs": [],
   "source": [
    "import numpy as np\n",
    "import scipy.stats as stats\n",
    "import seaborn as sns\n",
    "import matplotlib.pyplot as plt\n",
    "import pandas as pd\n",
    "\n",
    "sns.set_style('whitegrid')\n",
    "\n",
    "%config InlineBackend.figure_format = 'retina'\n",
    "%matplotlib inline"
   ]
  },
  {
   "cell_type": "markdown",
   "metadata": {},
   "source": [
    "<img src=\"http://imgur.com/l5NasQj.png\" style=\"float: left; margin: 25px 15px 0px 0px; height: 25px\">\n",
    "\n",
    "## 1. Estimating the value of homes from fixed characteristics.\n",
    "\n",
    "---\n",
    "\n",
    "Your superiors have outlined this year's strategy for the company:\n",
    "1. Develop an algorithm to reliably estimate the value of residential houses based on *fixed* characteristics.\n",
    "2. Identify characteristics of houses that the company can cost-effectively change/renovate with their construction team.\n",
    "3. Evaluate the mean dollar value of different renovations.\n",
    "\n",
    "Then we can use that to buy houses that are likely to sell for more than the cost of the purchase plus renovations.\n",
    "\n",
    "Your first job is to tackle #1. You have a dataset of housing sale data with a huge amount of features identifying different aspects of the house. The full description of the data features can be found in a separate file:\n",
    "\n",
    "    housing.csv\n",
    "    data_description.txt\n",
    "    \n",
    "You need to build a reliable estimator for the price of the house given characteristics of the house that cannot be renovated. Some examples include:\n",
    "- The neighborhood\n",
    "- Square feet\n",
    "- Bedrooms, bathrooms\n",
    "- Basement and garage space\n",
    "\n",
    "and many more. \n",
    "\n",
    "Some examples of things that **ARE renovate-able:**\n",
    "- Roof and exterior features\n",
    "- \"Quality\" metrics, such as kitchen quality\n",
    "- \"Condition\" metrics, such as condition of garage\n",
    "- Heating and electrical components\n",
    "\n",
    "and generally anything you deem can be modified without having to undergo major construction on the house.\n",
    "\n",
    "---\n",
    "\n",
    "**Your goals:**\n",
    "1. Perform any cleaning, feature engineering, and EDA you deem necessary.\n",
    "- Be sure to remove any houses that are not residential from the dataset.\n",
    "- Identify **fixed** features that can predict price.\n",
    "- Train a model on pre-2010 data and evaluate its performance on the 2010 houses.\n",
    "- Characterize your model. How well does it perform? What are the best estimates of price?\n",
    "\n",
    "> **Note:** The EDA and feature engineering component to this project is not trivial! Be sure to always think critically and creatively. Justify your actions! Use the data description file!"
   ]
  },
  {
   "cell_type": "code",
   "execution_count": 2,
   "metadata": {},
   "outputs": [],
   "source": [
    "# Load the data\n",
    "house = pd.read_csv('./housing.csv')"
   ]
  },
  {
   "cell_type": "markdown",
   "metadata": {},
   "source": [
    "### Validation 0: Initial Analysis of Features"
   ]
  },
  {
   "cell_type": "code",
   "execution_count": 3,
   "metadata": {
    "scrolled": true
   },
   "outputs": [
    {
     "name": "stdout",
     "output_type": "stream",
     "text": [
      "Year Sold Values: [2008 2007 2006 2009 2010]\n",
      "Rows, Columns:  (1460, 81)\n"
     ]
    }
   ],
   "source": [
    "## Initial Analysis.\n",
    "## - Data range is from 2008 to 2010. (based on Year Sold Field)\n",
    "\n",
    "print('Year Sold Values:',house.YrSold.unique())\n",
    "print('Rows, Columns: ',house.shape)"
   ]
  },
  {
   "cell_type": "code",
   "execution_count": 4,
   "metadata": {},
   "outputs": [
    {
     "name": "stdout",
     "output_type": "stream",
     "text": [
      "Index(['Id', 'MSSubClass', 'MSZoning', 'LotFrontage', 'LotArea', 'Street',\n",
      "       'Alley', 'LotShape', 'LandContour', 'Utilities', 'LotConfig',\n",
      "       'LandSlope', 'Neighborhood', 'Condition1', 'Condition2', 'BldgType',\n",
      "       'HouseStyle', 'OverallQual', 'OverallCond', 'YearBuilt', 'YearRemodAdd',\n",
      "       'RoofStyle', 'RoofMatl', 'Exterior1st', 'Exterior2nd', 'MasVnrType',\n",
      "       'MasVnrArea', 'ExterQual', 'ExterCond', 'Foundation', 'BsmtQual',\n",
      "       'BsmtCond', 'BsmtExposure', 'BsmtFinType1', 'BsmtFinSF1',\n",
      "       'BsmtFinType2', 'BsmtFinSF2', 'BsmtUnfSF', 'TotalBsmtSF', 'Heating',\n",
      "       'HeatingQC', 'CentralAir', 'Electrical', '1stFlrSF', '2ndFlrSF',\n",
      "       'LowQualFinSF', 'GrLivArea', 'BsmtFullBath', 'BsmtHalfBath', 'FullBath',\n",
      "       'HalfBath', 'BedroomAbvGr', 'KitchenAbvGr', 'KitchenQual',\n",
      "       'TotRmsAbvGrd', 'Functional', 'Fireplaces', 'FireplaceQu', 'GarageType',\n",
      "       'GarageYrBlt', 'GarageFinish', 'GarageCars', 'GarageArea', 'GarageQual',\n",
      "       'GarageCond', 'PavedDrive', 'WoodDeckSF', 'OpenPorchSF',\n",
      "       'EnclosedPorch', '3SsnPorch', 'ScreenPorch', 'PoolArea', 'PoolQC',\n",
      "       'Fence', 'MiscFeature', 'MiscVal', 'MoSold', 'YrSold', 'SaleType',\n",
      "       'SaleCondition', 'SalePrice'],\n",
      "      dtype='object')\n"
     ]
    }
   ],
   "source": [
    "print(house.columns)"
   ]
  },
  {
   "cell_type": "code",
   "execution_count": 5,
   "metadata": {},
   "outputs": [
    {
     "data": {
      "text/html": [
       "<div>\n",
       "<style scoped>\n",
       "    .dataframe tbody tr th:only-of-type {\n",
       "        vertical-align: middle;\n",
       "    }\n",
       "\n",
       "    .dataframe tbody tr th {\n",
       "        vertical-align: top;\n",
       "    }\n",
       "\n",
       "    .dataframe thead th {\n",
       "        text-align: right;\n",
       "    }\n",
       "</style>\n",
       "<table border=\"1\" class=\"dataframe\">\n",
       "  <thead>\n",
       "    <tr style=\"text-align: right;\">\n",
       "      <th></th>\n",
       "      <th>Id</th>\n",
       "      <th>MSSubClass</th>\n",
       "      <th>MSZoning</th>\n",
       "      <th>LotFrontage</th>\n",
       "      <th>LotArea</th>\n",
       "      <th>Street</th>\n",
       "      <th>Alley</th>\n",
       "      <th>LotShape</th>\n",
       "      <th>LandContour</th>\n",
       "      <th>Utilities</th>\n",
       "      <th>...</th>\n",
       "      <th>PoolArea</th>\n",
       "      <th>PoolQC</th>\n",
       "      <th>Fence</th>\n",
       "      <th>MiscFeature</th>\n",
       "      <th>MiscVal</th>\n",
       "      <th>MoSold</th>\n",
       "      <th>YrSold</th>\n",
       "      <th>SaleType</th>\n",
       "      <th>SaleCondition</th>\n",
       "      <th>SalePrice</th>\n",
       "    </tr>\n",
       "  </thead>\n",
       "  <tbody>\n",
       "    <tr>\n",
       "      <th>0</th>\n",
       "      <td>1</td>\n",
       "      <td>60</td>\n",
       "      <td>RL</td>\n",
       "      <td>65.0</td>\n",
       "      <td>8450</td>\n",
       "      <td>Pave</td>\n",
       "      <td>NaN</td>\n",
       "      <td>Reg</td>\n",
       "      <td>Lvl</td>\n",
       "      <td>AllPub</td>\n",
       "      <td>...</td>\n",
       "      <td>0</td>\n",
       "      <td>NaN</td>\n",
       "      <td>NaN</td>\n",
       "      <td>NaN</td>\n",
       "      <td>0</td>\n",
       "      <td>2</td>\n",
       "      <td>2008</td>\n",
       "      <td>WD</td>\n",
       "      <td>Normal</td>\n",
       "      <td>208500</td>\n",
       "    </tr>\n",
       "    <tr>\n",
       "      <th>1</th>\n",
       "      <td>2</td>\n",
       "      <td>20</td>\n",
       "      <td>RL</td>\n",
       "      <td>80.0</td>\n",
       "      <td>9600</td>\n",
       "      <td>Pave</td>\n",
       "      <td>NaN</td>\n",
       "      <td>Reg</td>\n",
       "      <td>Lvl</td>\n",
       "      <td>AllPub</td>\n",
       "      <td>...</td>\n",
       "      <td>0</td>\n",
       "      <td>NaN</td>\n",
       "      <td>NaN</td>\n",
       "      <td>NaN</td>\n",
       "      <td>0</td>\n",
       "      <td>5</td>\n",
       "      <td>2007</td>\n",
       "      <td>WD</td>\n",
       "      <td>Normal</td>\n",
       "      <td>181500</td>\n",
       "    </tr>\n",
       "    <tr>\n",
       "      <th>2</th>\n",
       "      <td>3</td>\n",
       "      <td>60</td>\n",
       "      <td>RL</td>\n",
       "      <td>68.0</td>\n",
       "      <td>11250</td>\n",
       "      <td>Pave</td>\n",
       "      <td>NaN</td>\n",
       "      <td>IR1</td>\n",
       "      <td>Lvl</td>\n",
       "      <td>AllPub</td>\n",
       "      <td>...</td>\n",
       "      <td>0</td>\n",
       "      <td>NaN</td>\n",
       "      <td>NaN</td>\n",
       "      <td>NaN</td>\n",
       "      <td>0</td>\n",
       "      <td>9</td>\n",
       "      <td>2008</td>\n",
       "      <td>WD</td>\n",
       "      <td>Normal</td>\n",
       "      <td>223500</td>\n",
       "    </tr>\n",
       "  </tbody>\n",
       "</table>\n",
       "<p>3 rows × 81 columns</p>\n",
       "</div>"
      ],
      "text/plain": [
       "   Id  MSSubClass MSZoning  LotFrontage  LotArea Street Alley LotShape  \\\n",
       "0   1          60       RL         65.0     8450   Pave   NaN      Reg   \n",
       "1   2          20       RL         80.0     9600   Pave   NaN      Reg   \n",
       "2   3          60       RL         68.0    11250   Pave   NaN      IR1   \n",
       "\n",
       "  LandContour Utilities    ...     PoolArea PoolQC Fence MiscFeature MiscVal  \\\n",
       "0         Lvl    AllPub    ...            0    NaN   NaN         NaN       0   \n",
       "1         Lvl    AllPub    ...            0    NaN   NaN         NaN       0   \n",
       "2         Lvl    AllPub    ...            0    NaN   NaN         NaN       0   \n",
       "\n",
       "  MoSold YrSold  SaleType  SaleCondition  SalePrice  \n",
       "0      2   2008        WD         Normal     208500  \n",
       "1      5   2007        WD         Normal     181500  \n",
       "2      9   2008        WD         Normal     223500  \n",
       "\n",
       "[3 rows x 81 columns]"
      ]
     },
     "execution_count": 5,
     "metadata": {},
     "output_type": "execute_result"
    }
   ],
   "source": [
    "house.head(3)"
   ]
  },
  {
   "cell_type": "markdown",
   "metadata": {},
   "source": [
    "### Validation 1: Remove non-residential houses"
   ]
  },
  {
   "cell_type": "code",
   "execution_count": 6,
   "metadata": {},
   "outputs": [],
   "source": [
    "## Remove non-residential houses\n",
    "## - RL,RM,RH, & FV are residential.\n",
    "## - Remove C (COMMERCIAL) (10 rows will be removed)\n",
    "\n",
    "house=house[house['MSZoning'] != 'C (all)']"
   ]
  },
  {
   "cell_type": "code",
   "execution_count": 7,
   "metadata": {},
   "outputs": [
    {
     "name": "stdout",
     "output_type": "stream",
     "text": [
      "(1450, 81)\n"
     ]
    },
    {
     "data": {
      "text/plain": [
       "MSZoning\n",
       "FV      65\n",
       "RH      16\n",
       "RL    1151\n",
       "RM     218\n",
       "dtype: int64"
      ]
     },
     "execution_count": 7,
     "metadata": {},
     "output_type": "execute_result"
    }
   ],
   "source": [
    "## Confirm that 10 rows were removed.\n",
    "print(house.shape)\n",
    "\n",
    "house.groupby('MSZoning').size()"
   ]
  },
  {
   "cell_type": "markdown",
   "metadata": {},
   "source": [
    "### Validation 2: Cleaning of Null Values"
   ]
  },
  {
   "cell_type": "code",
   "execution_count": 8,
   "metadata": {},
   "outputs": [
    {
     "name": "stdout",
     "output_type": "stream",
     "text": [
      "LIST OF COLUMNS WITH POTENTIAL NULL VALUES\n"
     ]
    },
    {
     "data": {
      "text/plain": [
       "PoolQC          1443\n",
       "MiscFeature     1398\n",
       "Alley           1361\n",
       "Fence           1172\n",
       "FireplaceQu      681\n",
       "LotFrontage      259\n",
       "GarageCond        79\n",
       "GarageType        79\n",
       "GarageYrBlt       79\n",
       "GarageFinish      79\n",
       "GarageQual        79\n",
       "BsmtExposure      38\n",
       "BsmtFinType2      38\n",
       "BsmtFinType1      37\n",
       "BsmtCond          37\n",
       "BsmtQual          37\n",
       "MasVnrArea         8\n",
       "MasVnrType         8\n",
       "Electrical         1\n",
       "dtype: int64"
      ]
     },
     "execution_count": 8,
     "metadata": {},
     "output_type": "execute_result"
    }
   ],
   "source": [
    "## Search for features with null values\n",
    "print('LIST OF COLUMNS WITH POTENTIAL NULL VALUES')\n",
    "null_list=house.isnull().sum().sort_values(ascending=False)\n",
    "null_list[null_list>0]"
   ]
  },
  {
   "cell_type": "code",
   "execution_count": 9,
   "metadata": {},
   "outputs": [
    {
     "name": "stdout",
     "output_type": "stream",
     "text": [
      "Columns that are continuous (to be updated with median value)\n",
      "-------------------\n",
      "       LotFrontage  GarageYrBlt   MasVnrArea\n",
      "count  1191.000000  1371.000000  1442.000000\n",
      "mean     70.052897  1978.627279   104.404300\n",
      "std      24.301013    24.592779   181.486539\n",
      "min      21.000000  1906.000000     0.000000\n",
      "25%      59.000000  1961.500000     0.000000\n",
      "50%      70.000000  1980.000000     0.000000\n",
      "75%      80.000000  2002.000000   166.750000\n",
      "max     313.000000  2010.000000  1600.000000\n"
     ]
    }
   ],
   "source": [
    "## columns that have null values:\n",
    "cols=['PoolQC', 'MiscFeature', 'Alley', 'Fence', 'FireplaceQu', 'LotFrontage', 'GarageCond',  \n",
    "      'GarageType',  'GarageYrBlt', 'GarageFinish','GarageQual',  'BsmtExposure','BsmtFinType2',\n",
    "      'BsmtFinType1','BsmtCond','BsmtQual', 'MasVnrArea',  'MasVnrType','Electrical' ]\n",
    "\n",
    "df=house[cols]\n",
    "      \n",
    "#print(df.columns)\n",
    "print('Columns that are continuous (to be updated with median value)')\n",
    "print('-------------------')\n",
    "print(df.describe())"
   ]
  },
  {
   "cell_type": "code",
   "execution_count": 10,
   "metadata": {},
   "outputs": [],
   "source": [
    "## Among our list of fields with null values, \n",
    "## 3 fields will be replaced with thier median\n",
    "##   ('LotFrontage','GarageYrBlt','MasVnrArea')"
   ]
  },
  {
   "cell_type": "code",
   "execution_count": 11,
   "metadata": {},
   "outputs": [
    {
     "name": "stdout",
     "output_type": "stream",
     "text": [
      "Evaluate existing values of Categorical Fields:\n",
      "-------------------------\n",
      "PoolQC : [nan 'Ex' 'Fa' 'Gd']\n",
      "PoolQC\n",
      "Ex    2\n",
      "Fa    2\n",
      "Gd    3\n",
      "dtype: int64\n",
      "-------------------------\n",
      "MiscFeature : [nan 'Shed' 'Gar2' 'Othr' 'TenC']\n",
      "MiscFeature\n",
      "Gar2     2\n",
      "Othr     2\n",
      "Shed    47\n",
      "TenC     1\n",
      "dtype: int64\n",
      "-------------------------\n",
      "Alley : [nan 'Grvl' 'Pave']\n",
      "Alley\n",
      "Grvl    50\n",
      "Pave    39\n",
      "dtype: int64\n",
      "-------------------------\n",
      "Fence : [nan 'MnPrv' 'GdWo' 'GdPrv' 'MnWw']\n",
      "Fence\n",
      "GdPrv     59\n",
      "GdWo      53\n",
      "MnPrv    155\n",
      "MnWw      11\n",
      "dtype: int64\n",
      "-------------------------\n",
      "FireplaceQu : [nan 'TA' 'Gd' 'Fa' 'Ex' 'Po']\n",
      "FireplaceQu\n",
      "Ex     24\n",
      "Fa     33\n",
      "Gd    379\n",
      "Po     20\n",
      "TA    313\n",
      "dtype: int64\n",
      "-------------------------\n",
      "GarageCond : ['TA' nan 'Gd' 'Fa' 'Po' 'Ex']\n",
      "GarageCond\n",
      "Ex       2\n",
      "Fa      34\n",
      "Gd       9\n",
      "Po       7\n",
      "TA    1319\n",
      "dtype: int64\n",
      "-------------------------\n",
      "GarageType : ['Attchd' 'Detchd' 'BuiltIn' 'CarPort' nan 'Basment' '2Types']\n",
      "GarageType\n",
      "2Types       6\n",
      "Attchd     870\n",
      "Basment     18\n",
      "BuiltIn     88\n",
      "CarPort      8\n",
      "Detchd     381\n",
      "dtype: int64\n",
      "-------------------------\n",
      "GarageFinish : ['RFn' 'Unf' 'Fin' nan]\n",
      "GarageFinish\n",
      "Fin    352\n",
      "RFn    419\n",
      "Unf    600\n",
      "dtype: int64\n",
      "-------------------------\n",
      "GarageQual : ['TA' 'Fa' 'Gd' nan 'Ex' 'Po']\n",
      "GarageQual\n",
      "Ex       3\n",
      "Fa      48\n",
      "Gd      14\n",
      "Po       3\n",
      "TA    1303\n",
      "dtype: int64\n",
      "-------------------------\n",
      "BsmtExposure : ['No' 'Gd' 'Mn' 'Av' nan]\n",
      "BsmtExposure\n",
      "Av    219\n",
      "Gd    134\n",
      "Mn    112\n",
      "No    947\n",
      "dtype: int64\n",
      "-------------------------\n",
      "BsmtFinType2 : ['Unf' 'BLQ' nan 'ALQ' 'Rec' 'LwQ' 'GLQ']\n",
      "BsmtFinType2\n",
      "ALQ      19\n",
      "BLQ      33\n",
      "GLQ      14\n",
      "LwQ      46\n",
      "Rec      54\n",
      "Unf    1246\n",
      "dtype: int64\n",
      "-------------------------\n",
      "BsmtFinType1 : ['GLQ' 'ALQ' 'Unf' 'Rec' 'BLQ' nan 'LwQ']\n",
      "BsmtFinType1\n",
      "ALQ    220\n",
      "BLQ    147\n",
      "GLQ    418\n",
      "LwQ     74\n",
      "Rec    130\n",
      "Unf    424\n",
      "dtype: int64\n",
      "-------------------------\n",
      "BsmtCond : ['TA' 'Gd' nan 'Fa' 'Po']\n",
      "BsmtCond\n",
      "Fa      43\n",
      "Gd      65\n",
      "Po       2\n",
      "TA    1303\n",
      "dtype: int64\n",
      "-------------------------\n",
      "BsmtQual : ['Gd' 'TA' 'Ex' nan 'Fa']\n",
      "BsmtQual\n",
      "Ex    121\n",
      "Fa     35\n",
      "Gd    618\n",
      "TA    639\n",
      "dtype: int64\n",
      "-------------------------\n",
      "MasVnrType : ['BrkFace' 'None' 'Stone' 'BrkCmn' nan]\n",
      "MasVnrType\n",
      "BrkCmn      15\n",
      "BrkFace    445\n",
      "None       854\n",
      "Stone      128\n",
      "dtype: int64\n",
      "-------------------------\n",
      "Electrical : ['SBrkr' 'FuseF' 'FuseA' 'FuseP' 'Mix' nan]\n",
      "Electrical\n",
      "FuseA      90\n",
      "FuseF      27\n",
      "FuseP       3\n",
      "Mix         1\n",
      "SBrkr    1328\n",
      "dtype: int64\n"
     ]
    }
   ],
   "source": [
    "## This will list the values of categorical fields with null values\n",
    "## This will be used for analysis on what value might be used to be replaced null values\n",
    "\n",
    "continuous_list = ['LotFrontage','GarageYrBlt','MasVnrArea']\n",
    "\n",
    "print('Evaluate existing values of Categorical Fields:')\n",
    "for col in cols:\n",
    "    if col not in continuous_list :\n",
    "        print('-------------------------')\n",
    "        print(col,':',df[col].unique())\n",
    "        print(df[df[col].isnull()==False].groupby(col).size())"
   ]
  },
  {
   "cell_type": "markdown",
   "metadata": {},
   "source": [
    "**Findings on Fields with null values:**"
   ]
  },
  {
   "cell_type": "code",
   "execution_count": 12,
   "metadata": {},
   "outputs": [],
   "source": [
    "## FINDINGS(null values):\n",
    "\n",
    "## 'LotFrontage','GarageYrBlt','MasVnrArea' are continuous fields\n",
    "##  - use median to replace null values.\n",
    "\n",
    "## Other Fields are categorical and will be the following updates will be made:\n",
    "\n",
    "## a) Replace Null values with NA (this is based on field description in data_description.txt)\n",
    "##       BsmtQual BsmtCond BsmtFinType1 BsmtFinType2 BsmtExposure \n",
    "##       GarageQual GarageFinish GarageType GarageCond\n",
    "##       FireplaceQu Alley MiscFeature PoolQC Fence\n",
    "\n",
    "## b) Replace Null values with None (this is based on field description in data_description.txt)\n",
    "##      MasVnrType \n",
    "\n",
    "## c) Electrical - will replace with the mode.\n",
    "##       "
   ]
  },
  {
   "cell_type": "markdown",
   "metadata": {},
   "source": [
    "#### **Update Null Values:**"
   ]
  },
  {
   "cell_type": "code",
   "execution_count": 13,
   "metadata": {},
   "outputs": [
    {
     "name": "stdout",
     "output_type": "stream",
     "text": [
      "(LotFrontage) number of null values Before Update:  259\n",
      "(LotFrontage) number of null values After  Update:  0\n"
     ]
    }
   ],
   "source": [
    "# LotFrontage (Use the the median to replace null values)\n",
    "col='LotFrontage'\n",
    "\n",
    "print('({}) number of null values Before Update: '.format(col),house[col].isnull().sum())\n",
    "house[col] = house[col].fillna((df[col].median()))\n",
    "print('({}) number of null values After  Update: '.format(col),house[col].isnull().sum())"
   ]
  },
  {
   "cell_type": "code",
   "execution_count": 14,
   "metadata": {},
   "outputs": [
    {
     "name": "stdout",
     "output_type": "stream",
     "text": [
      "(Alley) number of null values Before Update:  1361\n",
      "(Alley) number of null values After  Update:  0\n"
     ]
    }
   ],
   "source": [
    "# Alley (Replace Null values with NA)\n",
    "col='Alley'\n",
    "\n",
    "print('({}) number of null values Before Update: '\\\n",
    "      .format(col),house[col].isnull().sum())\n",
    "house[col] = house[col].fillna(('NA'))\n",
    "print('({}) number of null values After  Update: '\\\n",
    "      .format(col),house[col].isnull().sum())"
   ]
  },
  {
   "cell_type": "code",
   "execution_count": 15,
   "metadata": {},
   "outputs": [
    {
     "name": "stdout",
     "output_type": "stream",
     "text": [
      "(BsmtQual) number of null values Before Update:  37\n",
      "(BsmtQual) number of null values After  Update:  0\n",
      "--------------------------------\n",
      "(BsmtCond) number of null values Before Update:  37\n",
      "(BsmtCond) number of null values After  Update:  0\n",
      "--------------------------------\n",
      "(BsmtFinType1) number of null values Before Update:  37\n",
      "(BsmtFinType1) number of null values After  Update:  0\n",
      "--------------------------------\n",
      "(BsmtFinType2) number of null values Before Update:  38\n",
      "(BsmtFinType2) number of null values After  Update:  0\n",
      "--------------------------------\n",
      "(BsmtExposure) number of null values Before Update:  38\n",
      "(BsmtExposure) number of null values After  Update:  0\n",
      "--------------------------------\n"
     ]
    }
   ],
   "source": [
    "# Basement (Replace Null values with NA)\n",
    "cols=['BsmtQual', 'BsmtCond', 'BsmtFinType1', 'BsmtFinType2', 'BsmtExposure']\n",
    "\n",
    "for col in cols:\n",
    "    print('({}) number of null values Before Update: '.format(col),house[col].isnull().sum())\n",
    "    house[col] = house[col].fillna(('NA'))\n",
    "    print('({}) number of null values After  Update: '.format(col),house[col].isnull().sum())\n",
    "    print('--------------------------------')"
   ]
  },
  {
   "cell_type": "code",
   "execution_count": 16,
   "metadata": {},
   "outputs": [
    {
     "name": "stdout",
     "output_type": "stream",
     "text": [
      "(GarageQual) number of null values Before Update:  79\n",
      "(GarageQual) number of null values After  Update:  0\n",
      "--------------------------------\n",
      "(GarageFinish) number of null values Before Update:  79\n",
      "(GarageFinish) number of null values After  Update:  0\n",
      "--------------------------------\n",
      "(GarageType) number of null values Before Update:  79\n",
      "(GarageType) number of null values After  Update:  0\n",
      "--------------------------------\n",
      "(GarageCond) number of null values Before Update:  79\n",
      "(GarageCond) number of null values After  Update:  0\n",
      "--------------------------------\n"
     ]
    }
   ],
   "source": [
    "# Garage (Replace Null values with NA)\n",
    "cols=['GarageQual', 'GarageFinish', 'GarageType', 'GarageCond', ]\n",
    "\n",
    "for col in cols:\n",
    "    print('({}) number of null values Before Update: '.format(col),house[col].isnull().sum())\n",
    "    house[col] = house[col].fillna(('NA'))\n",
    "    print('({}) number of null values After  Update: '.format(col),house[col].isnull().sum())\n",
    "    print('--------------------------------')"
   ]
  },
  {
   "cell_type": "code",
   "execution_count": 17,
   "metadata": {},
   "outputs": [
    {
     "name": "stdout",
     "output_type": "stream",
     "text": [
      "(GarageYrBlt) number of null values Before Update:  79\n",
      "(GarageYrBlt) number of null values After  Update:  0\n"
     ]
    }
   ],
   "source": [
    "# Garage Year that was built (Replace Null values with 0)\n",
    "col='GarageYrBlt'\n",
    "print('({}) number of null values Before Update: '.format(col),house[col].isnull().sum())\n",
    "house[col] = house[col].fillna((0))\n",
    "print('({}) number of null values After  Update: '.format(col),house[col].isnull().sum())"
   ]
  },
  {
   "cell_type": "code",
   "execution_count": 18,
   "metadata": {},
   "outputs": [
    {
     "name": "stdout",
     "output_type": "stream",
     "text": [
      "(FireplaceQu) number of null values Before Update:  681\n",
      "(FireplaceQu) number of null values After  Update:  0\n"
     ]
    }
   ],
   "source": [
    "# Fireplace (Replace Null values with NA)\n",
    "col='FireplaceQu'\n",
    "\n",
    "print('({}) number of null values Before Update: '.format(col),house[col].isnull().sum())\n",
    "house[col] = house[col].fillna(('NA'))\n",
    "print('({}) number of null values After  Update: '.format(col),house[col].isnull().sum())"
   ]
  },
  {
   "cell_type": "code",
   "execution_count": 19,
   "metadata": {},
   "outputs": [
    {
     "name": "stdout",
     "output_type": "stream",
     "text": [
      "(MiscFeature) number of null values Before Update:  1398\n",
      "(MiscFeature) number of null values After  Update:  0\n"
     ]
    }
   ],
   "source": [
    "# Miscellaneous (Replace Null values with NA)\n",
    "col='MiscFeature'\n",
    "\n",
    "print('({}) number of null values Before Update: '.format(col),house[col].isnull().sum())\n",
    "house[col] = house[col].fillna(('NA'))\n",
    "print('({}) number of null values After  Update: '.format(col),house[col].isnull().sum())"
   ]
  },
  {
   "cell_type": "code",
   "execution_count": 20,
   "metadata": {},
   "outputs": [
    {
     "name": "stdout",
     "output_type": "stream",
     "text": [
      "(MasVnrType) number of null values Before Update:  8\n",
      "(MasVnrType) number of null values After  Update:  0\n"
     ]
    }
   ],
   "source": [
    "# Masonry (Replace Null values with None)\n",
    "col='MasVnrType'\n",
    "\n",
    "print('({}) number of null values Before Update: '.format(col),house[col].isnull().sum())\n",
    "house[col] = house[col].fillna(('None'))\n",
    "print('({}) number of null values After  Update: '.format(col),house[col].isnull().sum())"
   ]
  },
  {
   "cell_type": "code",
   "execution_count": 21,
   "metadata": {},
   "outputs": [
    {
     "name": "stdout",
     "output_type": "stream",
     "text": [
      "(MasVnrArea) number of null values Before Update:  8\n",
      "(MasVnrArea) number of null values After  Update:  0\n"
     ]
    }
   ],
   "source": [
    "# Masonry veneer area in square feet (Replace Null values with median)\n",
    "col='MasVnrArea'\n",
    "\n",
    "print('({}) number of null values Before Update: '.format(col),house[col].isnull().sum())\n",
    "house[col] = house[col].fillna((house[col].median()))\n",
    "print('({}) number of null values After  Update: '.format(col),house[col].isnull().sum())"
   ]
  },
  {
   "cell_type": "code",
   "execution_count": 22,
   "metadata": {},
   "outputs": [
    {
     "name": "stdout",
     "output_type": "stream",
     "text": [
      "(PoolQC) number of null values Before Update:  1443\n",
      "(PoolQC) number of null values After  Update:  0\n"
     ]
    }
   ],
   "source": [
    "# Pool Quality (Replace Null values with NA [No Pool])\n",
    "col='PoolQC'\n",
    "\n",
    "print('({}) number of null values Before Update: '.format(col),house[col].isnull().sum())\n",
    "house[col] = house[col].fillna(('NA'))\n",
    "print('({}) number of null values After  Update: '.format(col),house[col].isnull().sum())"
   ]
  },
  {
   "cell_type": "code",
   "execution_count": 23,
   "metadata": {},
   "outputs": [
    {
     "name": "stdout",
     "output_type": "stream",
     "text": [
      "(Fence) number of null values Before Update:  1172\n",
      "(Fence) number of null values After  Update:  0\n"
     ]
    }
   ],
   "source": [
    "# Fence Quality (Replace Null values with NA [No Fence])\n",
    "col='Fence'\n",
    "\n",
    "print('({}) number of null values Before Update: '.format(col),house[col].isnull().sum())\n",
    "house[col] = house[col].fillna(('NA'))\n",
    "print('({}) number of null values After  Update: '.format(col),house[col].isnull().sum())"
   ]
  },
  {
   "cell_type": "code",
   "execution_count": 24,
   "metadata": {},
   "outputs": [
    {
     "name": "stdout",
     "output_type": "stream",
     "text": [
      "(Electrical) number of null values Before Update:  1\n",
      "(Electrical) number of null values After  Update:  0\n"
     ]
    }
   ],
   "source": [
    "# Electrical (Replace Null values with the 'SBrkr') \n",
    "col='Electrical'\n",
    "\n",
    "print('({}) number of null values Before Update: '.format(col),house[col].isnull().sum())\n",
    "house[col] = house[col].fillna((house[col].mode()[0]))\n",
    "print('({}) number of null values After  Update: '.format(col),house[col].isnull().sum())"
   ]
  },
  {
   "cell_type": "code",
   "execution_count": 25,
   "metadata": {},
   "outputs": [
    {
     "name": "stdout",
     "output_type": "stream",
     "text": [
      "SalePrice       0\n",
      "Heating         0\n",
      "RoofStyle       0\n",
      "RoofMatl        0\n",
      "Exterior1st     0\n",
      "Exterior2nd     0\n",
      "MasVnrType      0\n",
      "MasVnrArea      0\n",
      "ExterQual       0\n",
      "ExterCond       0\n",
      "Foundation      0\n",
      "BsmtQual        0\n",
      "BsmtCond        0\n",
      "BsmtExposure    0\n",
      "BsmtFinType1    0\n",
      "BsmtFinSF1      0\n",
      "BsmtFinType2    0\n",
      "BsmtFinSF2      0\n",
      "BsmtUnfSF       0\n",
      "dtype: int64\n"
     ]
    }
   ],
   "source": [
    "print(house.isnull().sum().sort_values(ascending=False).head(19))"
   ]
  },
  {
   "cell_type": "code",
   "execution_count": 26,
   "metadata": {},
   "outputs": [],
   "source": [
    "## No more columns with null values are found in the data."
   ]
  },
  {
   "cell_type": "markdown",
   "metadata": {},
   "source": [
    "### EDA Analysis"
   ]
  },
  {
   "cell_type": "code",
   "execution_count": 27,
   "metadata": {},
   "outputs": [
    {
     "name": "stdout",
     "output_type": "stream",
     "text": [
      "count      1450.000000\n",
      "mean     181654.942069\n",
      "std       79176.485241\n",
      "min       37900.000000\n",
      "25%      130000.000000\n",
      "50%      163945.000000\n",
      "75%      214000.000000\n",
      "max      755000.000000\n",
      "Name: SalePrice, dtype: float64\n",
      "\n",
      "median: 163945.0\n"
     ]
    }
   ],
   "source": [
    "print(house.SalePrice.describe())\n",
    "print()\n",
    "print('median:',house.SalePrice.median())"
   ]
  },
  {
   "cell_type": "code",
   "execution_count": 28,
   "metadata": {},
   "outputs": [
    {
     "name": "stderr",
     "output_type": "stream",
     "text": [
      "C:\\ProgramData\\Anaconda3\\lib\\site-packages\\scipy\\stats\\stats.py:1713: FutureWarning: Using a non-tuple sequence for multidimensional indexing is deprecated; use `arr[tuple(seq)]` instead of `arr[seq]`. In the future this will be interpreted as an array index, `arr[np.array(seq)]`, which will result either in an error or a different result.\n",
      "  return np.add.reduce(sorted[indexer] * weights, axis=axis) / sumval\n"
     ]
    },
    {
     "data": {
      "image/png": "[encoded data removed]",
      "text/plain": [
       "<Figure size 720x360 with 1 Axes>"
      ]
     },
     "metadata": {
      "image/png": {
       "height": 333,
       "width": 636
      },
      "needs_background": "light"
     },
     "output_type": "display_data"
    }
   ],
   "source": [
    "plt.figure(figsize=(10,5))\n",
    "#sns.distplot(house['SalePrice'], bins=30, kde=False)\n",
    "sns.distplot(house['SalePrice'], bins=25)\n",
    "plt.title('Distribution of SalePrice',fontsize = 15)\n",
    "plt.ylabel('Count')\n",
    "plt.show()"
   ]
  },
  {
   "cell_type": "code",
   "execution_count": 29,
   "metadata": {},
   "outputs": [],
   "source": [
    "# The SalesPrice is positively skewed (mean is greater than median)"
   ]
  },
  {
   "cell_type": "markdown",
   "metadata": {},
   "source": [
    "### Feature Variables Changes"
   ]
  },
  {
   "cell_type": "markdown",
   "metadata": {},
   "source": [
    "### 1. Id Column\n",
    "- `Id` Column is dropped because it does not contribute to the prediction of the model."
   ]
  },
  {
   "cell_type": "code",
   "execution_count": 30,
   "metadata": {},
   "outputs": [],
   "source": [
    "## Remove Id form dataset\n",
    "house = house.drop('Id', axis =1)"
   ]
  },
  {
   "cell_type": "markdown",
   "metadata": {},
   "source": [
    "**2. GrLivArea (Above grade (ground) living area square feet)**\n",
    " - `GrLivArea` column is sum of **1stFlrSF**, **2ndFlrSF**, and **LowQualFinSF**.\n",
    " - `1stFlrSF`, `2ndFlrSF`, and `LowQualFinSF` will be dropped coz no longer needed"
   ]
  },
  {
   "cell_type": "code",
   "execution_count": 31,
   "metadata": {},
   "outputs": [
    {
     "name": "stdout",
     "output_type": "stream",
     "text": [
      "Rows where sum(1stFlrSF,2ndFlrSF,LowQualFinSF) != GrLivArea: 0\n"
     ]
    },
    {
     "name": "stderr",
     "output_type": "stream",
     "text": [
      "C:\\ProgramData\\Anaconda3\\lib\\site-packages\\pandas\\core\\indexing.py:362: SettingWithCopyWarning: \n",
      "A value is trying to be set on a copy of a slice from a DataFrame.\n",
      "Try using .loc[row_indexer,col_indexer] = value instead\n",
      "\n",
      "See the caveats in the documentation: http://pandas.pydata.org/pandas-docs/stable/indexing.html#indexing-view-versus-copy\n",
      "  self.obj[key] = _infer_fill_value(value)\n",
      "C:\\ProgramData\\Anaconda3\\lib\\site-packages\\pandas\\core\\indexing.py:543: SettingWithCopyWarning: \n",
      "A value is trying to be set on a copy of a slice from a DataFrame.\n",
      "Try using .loc[row_indexer,col_indexer] = value instead\n",
      "\n",
      "See the caveats in the documentation: http://pandas.pydata.org/pandas-docs/stable/indexing.html#indexing-view-versus-copy\n",
      "  self.obj[item] = s\n"
     ]
    }
   ],
   "source": [
    "## Validation: Check if GrLivArea is the sum of 1stFlrSF, 2ndFlrSF & LowQualFinSF\n",
    "mycol = ['1stFlrSF', '2ndFlrSF', 'LowQualFinSF', 'GrLivArea']\n",
    "df2=house[mycol]\n",
    "\n",
    "total = df2.values[:,0:3].astype(int).sum(axis=1)\n",
    "df2.loc[:,'Total']= total\n",
    "\n",
    "print('Rows where sum(1stFlrSF,2ndFlrSF,LowQualFinSF) != GrLivArea:',len(df2[df2['GrLivArea']!=df2['Total']]))"
   ]
  },
  {
   "cell_type": "code",
   "execution_count": 32,
   "metadata": {},
   "outputs": [],
   "source": [
    "## GrLivArea (Above grade ground living area square feet) is the sum of the\n",
    "##    1st & 2nd floor & low Quality Finished square feet (1stFlrSF & 2ndFlrSF & LowQualFinSF).   \n",
    "##    drop 1stFlrSF & 2ndFlrSF & LowQualFinSF\n",
    "\n",
    "mycol=['1stFlrSF', '2ndFlrSF', 'LowQualFinSF']\n",
    "house=house.drop(mycol, axis=1)"
   ]
  },
  {
   "cell_type": "markdown",
   "metadata": {},
   "source": [
    "**3. TotalBSmtSF (Total square feet of basement area)**\n",
    " - `TotalBSmtSF` column is sum of BsmtFinSF1, BsmtFinSF2, and BsmtUnfSF.\n",
    " - `BsmtFinSF1`, `BsmtFinSF2`, and `BsmtUnfSF` will be dropped coz no longer needed"
   ]
  },
  {
   "cell_type": "code",
   "execution_count": 33,
   "metadata": {},
   "outputs": [
    {
     "name": "stdout",
     "output_type": "stream",
     "text": [
      "Rows where sum(BsmtFinSF1,BsmtFinSF2,BsmtUnfSF) != TotalBsmtSF: 0\n"
     ]
    }
   ],
   "source": [
    "## Validation: Confirm if TotalBsmtSF = BsmtFinSF1 + BsmtFinSF2 + BsmtUnfSF\n",
    "\n",
    "mycol = ['BsmtFinSF1', 'BsmtFinSF2', 'BsmtUnfSF', 'TotalBsmtSF']\n",
    "df2=house[mycol]\n",
    "\n",
    "total=df2.values[:,0:3].astype(int).sum(axis=1)\n",
    "df2.loc[:,'Total']=total\n",
    "\n",
    "print('Rows where sum(BsmtFinSF1,BsmtFinSF2,BsmtUnfSF) != TotalBsmtSF:',len(df2[df2['TotalBsmtSF']!=df2['Total']]))"
   ]
  },
  {
   "cell_type": "code",
   "execution_count": 34,
   "metadata": {},
   "outputs": [],
   "source": [
    "## We have confirmed that TotalBsmtSF (Total square feet of basement area) is the sum of the\n",
    "##    (BsmtFinSF1 + BsmtFinSF2 + BsmtUnfSF).   We can drop these 3 fields\n",
    "\n",
    "mycol = ['BsmtFinSF1', 'BsmtFinSF2', 'BsmtUnfSF']\n",
    "house=house.drop(mycol, axis=1)"
   ]
  },
  {
   "cell_type": "markdown",
   "metadata": {},
   "source": [
    "**4. New Column Bathrooms** \n",
    " - `Bathrooms` is the sum of BsmtFullBath + BsmtHalfBath + FullBath + HalfBath\n",
    " - Values of `HalfBath` & `BsmtHalfBath` are divided in half before aggregation. \n",
    " - `BsmtFullBath`, `FullBath`, `BsmtHalfBath`, `HalfBath` will be dropped."
   ]
  },
  {
   "cell_type": "code",
   "execution_count": 35,
   "metadata": {},
   "outputs": [],
   "source": [
    "## New Column 'Bathrooms'.  This is the sum of FullBath, BsmtFullBath, HalfBath & BsmtHalfBath.\n",
    "##   Values of HalfBath & BsmtHalfBath are divided in half \n",
    "##     e.g. Bathrooms = 1.5 (FullBath=1 & HalfBath=.5 & BsmtFullBath=0 & BsmtHalfBath=0)\n",
    "\n",
    "house.loc[:,'BsmtHalfBath'] = house.BsmtHalfBath / 2\n",
    "house.loc[:,'HalfBath']     = house.HalfBath / 2\n",
    "\n",
    "house.loc[:,'Bathrooms'] = house.FullBath + house.BsmtFullBath +  \\\n",
    "                           house.HalfBath + house.BsmtHalfBath  "
   ]
  },
  {
   "cell_type": "code",
   "execution_count": 36,
   "metadata": {},
   "outputs": [
    {
     "data": {
      "text/html": [
       "<div>\n",
       "<style scoped>\n",
       "    .dataframe tbody tr th:only-of-type {\n",
       "        vertical-align: middle;\n",
       "    }\n",
       "\n",
       "    .dataframe tbody tr th {\n",
       "        vertical-align: top;\n",
       "    }\n",
       "\n",
       "    .dataframe thead th {\n",
       "        text-align: right;\n",
       "    }\n",
       "</style>\n",
       "<table border=\"1\" class=\"dataframe\">\n",
       "  <thead>\n",
       "    <tr style=\"text-align: right;\">\n",
       "      <th></th>\n",
       "      <th>BsmtFullBath</th>\n",
       "      <th>BsmtHalfBath</th>\n",
       "      <th>FullBath</th>\n",
       "      <th>HalfBath</th>\n",
       "      <th>Bathrooms</th>\n",
       "    </tr>\n",
       "  </thead>\n",
       "  <tbody>\n",
       "    <tr>\n",
       "      <th>0</th>\n",
       "      <td>1</td>\n",
       "      <td>0.0</td>\n",
       "      <td>2</td>\n",
       "      <td>0.5</td>\n",
       "      <td>3.5</td>\n",
       "    </tr>\n",
       "    <tr>\n",
       "      <th>1</th>\n",
       "      <td>0</td>\n",
       "      <td>0.5</td>\n",
       "      <td>2</td>\n",
       "      <td>0.0</td>\n",
       "      <td>2.5</td>\n",
       "    </tr>\n",
       "    <tr>\n",
       "      <th>2</th>\n",
       "      <td>1</td>\n",
       "      <td>0.0</td>\n",
       "      <td>2</td>\n",
       "      <td>0.5</td>\n",
       "      <td>3.5</td>\n",
       "    </tr>\n",
       "  </tbody>\n",
       "</table>\n",
       "</div>"
      ],
      "text/plain": [
       "   BsmtFullBath  BsmtHalfBath  FullBath  HalfBath  Bathrooms\n",
       "0             1           0.0         2       0.5        3.5\n",
       "1             0           0.5         2       0.0        2.5\n",
       "2             1           0.0         2       0.5        3.5"
      ]
     },
     "execution_count": 36,
     "metadata": {},
     "output_type": "execute_result"
    }
   ],
   "source": [
    "mycol = ['BsmtFullBath', 'BsmtHalfBath', 'FullBath', 'HalfBath', 'Bathrooms']\n",
    "house[mycol].head(3)"
   ]
  },
  {
   "cell_type": "code",
   "execution_count": 37,
   "metadata": {},
   "outputs": [],
   "source": [
    "## We can drop FullBath, BsmtFullBath, HalfBath & BsmtHalfBath\n",
    "cols=['BsmtFullBath', 'BsmtHalfBath', 'FullBath','HalfBath']\n",
    "house = house.drop(cols, axis =1)"
   ]
  },
  {
   "cell_type": "markdown",
   "metadata": {},
   "source": [
    "**5. New Column TotalSqft** \n",
    " - `TotalSqft` is the sum of TotalBSmtSF + Bathrooms + GarageArea"
   ]
  },
  {
   "cell_type": "code",
   "execution_count": 38,
   "metadata": {},
   "outputs": [],
   "source": [
    "# create a column for total sqft\n",
    "house['TotalSqft'] = house['TotalBsmtSF'] + house['GarageArea'] + house['GrLivArea'] "
   ]
  },
  {
   "cell_type": "markdown",
   "metadata": {},
   "source": [
    "#### Fixed & Renovate Columns "
   ]
  },
  {
   "cell_type": "code",
   "execution_count": 39,
   "metadata": {},
   "outputs": [],
   "source": [
    "## fixed columns\n",
    "fixed =['MSSubClass', 'MSZoning', 'LotFrontage', 'LotArea', 'Street',\n",
    "       'LotShape', 'LandContour', 'LotConfig', 'LandSlope', 'Neighborhood',\n",
    "       'Condition1', 'Condition2', 'BldgType', 'HouseStyle', 'YearBuilt',\n",
    "       'MasVnrArea', 'Foundation', 'BsmtQual', 'BsmtCond', 'BsmtExposure',\n",
    "       'BsmtFinType1', 'BsmtFinType2', 'GrLivArea', 'BedroomAbvGr', \n",
    "       'KitchenAbvGr', 'TotRmsAbvGrd', 'Functional', \n",
    "       'Fireplaces', 'GarageType', 'GarageYrBlt', 'GarageArea',\n",
    "       'PavedDrive', 'Fence', 'MoSold', 'YrSold', 'SaleType',\n",
    "       'SaleCondition', 'Bathrooms', 'TotalSqft', 'SalePrice']       \n",
    "\n",
    "## renovate columns\n",
    "reno =['OverallQual', 'OverallCond', 'YearRemodAdd',\n",
    "       'RoofStyle', 'RoofMatl', 'Exterior1st', 'Exterior2nd', 'MasVnrType',\n",
    "       'ExterQual', 'ExterCond', 'Heating', 'HeatingQC', 'CentralAir', \n",
    "       'Electrical', 'KitchenQual', 'FireplaceQu',\n",
    "       'GarageFinish', 'GarageQual', 'GarageCond',  'Fence', 'MiscVal' ]"
   ]
  },
  {
   "cell_type": "code",
   "execution_count": 40,
   "metadata": {},
   "outputs": [],
   "source": [
    "## categorical columns (extracted from fixed)\n",
    "categorical=['MSSubClass', 'MSZoning', 'Street', 'LotShape', 'LandContour', \n",
    "       'LotConfig', 'LandSlope', 'Neighborhood', 'Condition1', 'Condition2', \n",
    "       'BldgType', 'HouseStyle','Foundation', 'BsmtQual', 'BsmtCond', \n",
    "       'BsmtExposure', 'BsmtFinType1', 'BsmtFinType2', 'Functional', \n",
    "       'GarageType', 'PavedDrive', 'Fence', 'SaleType', 'SaleCondition']\n",
    "\n",
    "## numerical columns (subjective)\n",
    "numerical=['LotFrontage', 'LotArea', 'YearBuilt', 'MasVnrArea', 'GrLivArea',\n",
    "       'BedroomAbvGr', 'KitchenAbvGr', 'TotRmsAbvGrd', 'Fireplaces',\n",
    "       'GarageYrBlt', 'GarageArea', 'MoSold', 'YrSold', 'SalePrice']\n",
    "\n",
    "## numerical columns (extracted from fixed)\n",
    "numerical=[x for x in fixed if x not in categorical]"
   ]
  },
  {
   "cell_type": "markdown",
   "metadata": {},
   "source": [
    "## Splitting the dataset"
   ]
  },
  {
   "cell_type": "markdown",
   "metadata": {},
   "source": [
    "#### Create Dummies"
   ]
  },
  {
   "cell_type": "code",
   "execution_count": 41,
   "metadata": {},
   "outputs": [
    {
     "name": "stdout",
     "output_type": "stream",
     "text": [
      "Fixed: (1450, 40)\n",
      "Dummy: (1450, 156)\n"
     ]
    }
   ],
   "source": [
    "## Extract Fixed Columns\n",
    "df=house[fixed]  \n",
    "print('Fixed:',df.shape)\n",
    "\n",
    "## get dummy from categorical\n",
    "df_dummy=pd.get_dummies(df, columns=categorical, drop_first=True)\n",
    "print('Dummy:',df_dummy.shape)\n",
    "\n",
    "df2=df_dummy\n"
   ]
  },
  {
   "cell_type": "markdown",
   "metadata": {},
   "source": [
    "#### Split train & test"
   ]
  },
  {
   "cell_type": "code",
   "execution_count": 42,
   "metadata": {},
   "outputs": [
    {
     "name": "stdout",
     "output_type": "stream",
     "text": [
      " train shape: (1278, 156) \n",
      " test shape : (172, 156) \n",
      "\n",
      " X_train shape: (1278, 155) \n",
      " y_train shape: (1278,) \n",
      "\n",
      " X_test shape : (172, 155) \n",
      " y_test shape : (172,)\n"
     ]
    }
   ],
   "source": [
    "# split data to train and test, pre/post 2010\n",
    "test = df2[df2['YrSold'] == 2010]\n",
    "train = df2[df2['YrSold'] < 2010]\n",
    "\n",
    "print(' train shape:',train.shape,'\\n', 'test shape :', test.shape, '\\n')\n",
    "\n",
    "X_train = train.iloc[:, train.columns != 'SalePrice'] \n",
    "y_train = train['SalePrice']\n",
    "\n",
    "X_test = test.iloc[:, test.columns != 'SalePrice']\n",
    "y_test = test['SalePrice']\n",
    "\n",
    "print(' X_train shape:', X_train.shape, '\\n', 'y_train shape:', y_train.shape, '\\n')\n",
    "print(' X_test shape :', X_test.shape, '\\n',  'y_test shape :', y_test.shape)\n"
   ]
  },
  {
   "cell_type": "markdown",
   "metadata": {},
   "source": [
    "#### Initialize StandardScaler"
   ]
  },
  {
   "cell_type": "code",
   "execution_count": 43,
   "metadata": {},
   "outputs": [],
   "source": [
    "from sklearn.model_selection import KFold, cross_val_score, GridSearchCV\n",
    "from sklearn.preprocessing import StandardScaler\n",
    "from sklearn.linear_model import LinearRegression, RidgeCV, LassoCV, ElasticNetCV\n",
    "from sklearn import metrics\n",
    "import statsmodels.api as sm"
   ]
  },
  {
   "cell_type": "code",
   "execution_count": 44,
   "metadata": {},
   "outputs": [
    {
     "name": "stderr",
     "output_type": "stream",
     "text": [
      "C:\\ProgramData\\Anaconda3\\lib\\site-packages\\sklearn\\preprocessing\\data.py:625: DataConversionWarning: Data with input dtype uint8, int64, float64 were all converted to float64 by StandardScaler.\n",
      "  return self.partial_fit(X, y)\n",
      "C:\\ProgramData\\Anaconda3\\lib\\site-packages\\sklearn\\base.py:462: DataConversionWarning: Data with input dtype uint8, int64, float64 were all converted to float64 by StandardScaler.\n",
      "  return self.fit(X, **fit_params).transform(X)\n",
      "C:\\ProgramData\\Anaconda3\\lib\\site-packages\\ipykernel_launcher.py:10: DataConversionWarning: Data with input dtype uint8, int64, float64 were all converted to float64 by StandardScaler.\n",
      "  # Remove the CWD from sys.path while we load stuff.\n"
     ]
    }
   ],
   "source": [
    "# scale data\n",
    "ss = StandardScaler()\n",
    "#ss.fit(X_train)\n",
    "\n",
    "# Transform train and test\n",
    "#Xs_train = ss.transform(X_train)\n",
    "#Xs_test = ss.transform(X_test)\n",
    "\n",
    "Xs_train = ss.fit_transform(X_train)\n",
    "Xs_test=ss.transform(X_test)"
   ]
  },
  {
   "cell_type": "markdown",
   "metadata": {},
   "source": [
    "## Regression Models"
   ]
  },
  {
   "cell_type": "markdown",
   "metadata": {},
   "source": [
    "##### 1. Linear Regression Model"
   ]
  },
  {
   "cell_type": "code",
   "execution_count": 45,
   "metadata": {},
   "outputs": [
    {
     "name": "stdout",
     "output_type": "stream",
     "text": [
      "score: \n",
      " [ 8.84887397e-01  8.07726553e-01 -2.13116869e+22 -5.75267126e+21\n",
      " -8.55967430e+14 -2.15327013e+22 -2.86075677e+23  7.89661372e-01\n",
      " -1.37430266e+17  8.23241296e-01] \n",
      "\n",
      "score(mean): -3.346728746321569e+22\n"
     ]
    }
   ],
   "source": [
    "from sklearn.linear_model import Ridge, Lasso, ElasticNet, LinearRegression, RidgeCV, LassoCV, ElasticNetCV\n",
    "from sklearn.model_selection import cross_val_score\n",
    "\n",
    "linear = LinearRegression()\n",
    "linear_scores = cross_val_score(linear, Xs_train, y_train, cv=10)\n",
    "\n",
    "print('score: \\n',linear_scores,'\\n')\n",
    "print('score(mean):',np.mean(linear_scores))"
   ]
  },
  {
   "cell_type": "markdown",
   "metadata": {},
   "source": [
    "##### 2. Ridge Regression Model"
   ]
  },
  {
   "cell_type": "code",
   "execution_count": 46,
   "metadata": {},
   "outputs": [
    {
     "name": "stdout",
     "output_type": "stream",
     "text": [
      "Best alpha: 8.685113737513529\n"
     ]
    },
    {
     "name": "stderr",
     "output_type": "stream",
     "text": [
      "C:\\ProgramData\\Anaconda3\\lib\\site-packages\\sklearn\\model_selection\\_search.py:841: DeprecationWarning: The default of the `iid` parameter will change from True to False in version 0.22 and will be removed in 0.24. This will change numeric results when test-set sizes are unequal.\n",
      "  DeprecationWarning)\n"
     ]
    }
   ],
   "source": [
    "## Extract best alpha\n",
    "alpha_range = np.logspace(-2, 7, 50)\n",
    "\n",
    "# select the best alpha with RidgeCV\n",
    "optimal_ridge = RidgeCV(alphas=alpha_range, cv=10)\n",
    "optimal_ridge.fit(X_train, y_train)\n",
    "\n",
    "print('Best alpha: {}'.format(optimal_ridge.alpha_))"
   ]
  },
  {
   "cell_type": "code",
   "execution_count": 47,
   "metadata": {},
   "outputs": [
    {
     "name": "stdout",
     "output_type": "stream",
     "text": [
      "score: \n",
      " [0.89551346 0.8158367  0.85334484 0.71689148 0.85375692 0.68793768\n",
      " 0.86531611 0.80484449 0.56011744 0.83118502] \n",
      "\n",
      "score(mean): 0.7884744137796004\n"
     ]
    }
   ],
   "source": [
    "ridge = Ridge(alpha=optimal_ridge.alpha_)\n",
    "\n",
    "ridge_scores = cross_val_score(ridge, Xs_train, y_train, cv=10)\n",
    "\n",
    "print('score: \\n',ridge_scores,'\\n')\n",
    "print('score(mean):',np.mean(ridge_scores))\n"
   ]
  },
  {
   "cell_type": "markdown",
   "metadata": {},
   "source": [
    "##### 3. Lasso Regression Model"
   ]
  },
  {
   "cell_type": "code",
   "execution_count": 48,
   "metadata": {
    "scrolled": true
   },
   "outputs": [
    {
     "name": "stderr",
     "output_type": "stream",
     "text": [
      "[Parallel(n_jobs=1)]: Using backend SequentialBackend with 1 concurrent workers.\n",
      ".................................................................................................................................................................................................................................................................................................................................................................................................................................................................................................................................................................................................................................................................................................................................................................................................................................................................................................................................................................................................................................................................................................................................................................................................................................................................................................................................................................................................................................................................................................................................................................................................................................................................................................................................................................................................................................................................................................................................................................................................................................................................................................................................................................................................................................................................................................................................................................................................................................................................................................................................................................................................................................................................................................................................................................................................................................................................................................................................................................................................................................................................................................................................................................................................................................................................................................................................................................................................................................................................................................................................................................................................................................................................................................................................................................................................................................................................................................................................................................................................................................................................................................................................................................................................................................................................................................................................................................................................................................................................................................................................................................................................................................................................................................................................................................................................................................................................................................................................................................................................................................................................................................................."
     ]
    },
    {
     "name": "stdout",
     "output_type": "stream",
     "text": [
      "Best alpha: 891.7211643201987\n"
     ]
    },
    {
     "name": "stderr",
     "output_type": "stream",
     "text": [
      "......................................................................................[Parallel(n_jobs=1)]: Done  10 out of  10 | elapsed:    4.1s finished\n"
     ]
    }
   ],
   "source": [
    "optimal_lasso = LassoCV(n_alphas=500, cv=10, verbose=1)\n",
    "optimal_lasso.fit(Xs_train, y_train)\n",
    "\n",
    "#print(optimal_lasso.alpha_)\n",
    "print('Best alpha: {}'.format(optimal_lasso.alpha_))"
   ]
  },
  {
   "cell_type": "code",
   "execution_count": 49,
   "metadata": {},
   "outputs": [
    {
     "name": "stdout",
     "output_type": "stream",
     "text": [
      "score: \n",
      " [0.90172856 0.84716228 0.86527654 0.74056654 0.83891608 0.73562222\n",
      " 0.8928381  0.81898355 0.5232282  0.86028194] \n",
      "\n",
      "score(mean): 0.8024604005568298\n"
     ]
    }
   ],
   "source": [
    "lasso = Lasso(alpha=optimal_lasso.alpha_)\n",
    "\n",
    "lasso_scores = cross_val_score(lasso, Xs_train, y_train, cv=10)\n",
    "\n",
    "print('score: \\n',lasso_scores,'\\n')\n",
    "print('score(mean):',np.mean(lasso_scores))"
   ]
  },
  {
   "cell_type": "markdown",
   "metadata": {},
   "source": [
    "##### 4. Compare Results (Linear  vs Ridge vs Lasso)"
   ]
  },
  {
   "cell_type": "code",
   "execution_count": 50,
   "metadata": {},
   "outputs": [],
   "source": [
    "## Results scores are:\n",
    "\n",
    "# a. Linear Regression  -1.4828622658219043e+23\n",
    "# b. Ridge              0.7866910603455588\n",
    "# c. Lasso              0.8031893200167444\n",
    "\n",
    "## Lasso Model has the best score. So we will select Lasso Model\n",
    "## to process coefficients for variables"
   ]
  },
  {
   "cell_type": "markdown",
   "metadata": {},
   "source": [
    "## Identify Coefficients in Lasso Model"
   ]
  },
  {
   "cell_type": "code",
   "execution_count": 51,
   "metadata": {},
   "outputs": [],
   "source": [
    "model_lasso=lasso.fit(Xs_train, y_train)"
   ]
  },
  {
   "cell_type": "code",
   "execution_count": 52,
   "metadata": {},
   "outputs": [
    {
     "data": {
      "text/html": [
       "<div>\n",
       "<style scoped>\n",
       "    .dataframe tbody tr th:only-of-type {\n",
       "        vertical-align: middle;\n",
       "    }\n",
       "\n",
       "    .dataframe tbody tr th {\n",
       "        vertical-align: top;\n",
       "    }\n",
       "\n",
       "    .dataframe thead th {\n",
       "        text-align: right;\n",
       "    }\n",
       "</style>\n",
       "<table border=\"1\" class=\"dataframe\">\n",
       "  <thead>\n",
       "    <tr style=\"text-align: right;\">\n",
       "      <th></th>\n",
       "      <th>variable</th>\n",
       "      <th>coef</th>\n",
       "      <th>abs_coef</th>\n",
       "    </tr>\n",
       "  </thead>\n",
       "  <tbody>\n",
       "    <tr>\n",
       "      <th>4</th>\n",
       "      <td>GrLivArea</td>\n",
       "      <td>21767.754756</td>\n",
       "      <td>21767.754756</td>\n",
       "    </tr>\n",
       "    <tr>\n",
       "      <th>14</th>\n",
       "      <td>TotalSqft</td>\n",
       "      <td>14091.894818</td>\n",
       "      <td>14091.894818</td>\n",
       "    </tr>\n",
       "    <tr>\n",
       "      <th>60</th>\n",
       "      <td>Neighborhood_NridgHt</td>\n",
       "      <td>11371.579592</td>\n",
       "      <td>11371.579592</td>\n",
       "    </tr>\n",
       "    <tr>\n",
       "      <th>103</th>\n",
       "      <td>BsmtQual_TA</td>\n",
       "      <td>-11243.500518</td>\n",
       "      <td>11243.500518</td>\n",
       "    </tr>\n",
       "    <tr>\n",
       "      <th>101</th>\n",
       "      <td>BsmtQual_Gd</td>\n",
       "      <td>-11236.688831</td>\n",
       "      <td>11236.688831</td>\n",
       "    </tr>\n",
       "    <tr>\n",
       "      <th>59</th>\n",
       "      <td>Neighborhood_NoRidge</td>\n",
       "      <td>8588.078257</td>\n",
       "      <td>8588.078257</td>\n",
       "    </tr>\n",
       "    <tr>\n",
       "      <th>2</th>\n",
       "      <td>YearBuilt</td>\n",
       "      <td>7933.329546</td>\n",
       "      <td>7933.329546</td>\n",
       "    </tr>\n",
       "    <tr>\n",
       "      <th>66</th>\n",
       "      <td>Neighborhood_StoneBr</td>\n",
       "      <td>7021.300848</td>\n",
       "      <td>7021.300848</td>\n",
       "    </tr>\n",
       "    <tr>\n",
       "      <th>13</th>\n",
       "      <td>Bathrooms</td>\n",
       "      <td>6493.503072</td>\n",
       "      <td>6493.503072</td>\n",
       "    </tr>\n",
       "    <tr>\n",
       "      <th>6</th>\n",
       "      <td>KitchenAbvGr</td>\n",
       "      <td>-5702.265409</td>\n",
       "      <td>5702.265409</td>\n",
       "    </tr>\n",
       "    <tr>\n",
       "      <th>108</th>\n",
       "      <td>BsmtExposure_Gd</td>\n",
       "      <td>5128.277906</td>\n",
       "      <td>5128.277906</td>\n",
       "    </tr>\n",
       "    <tr>\n",
       "      <th>80</th>\n",
       "      <td>Condition2_PosN</td>\n",
       "      <td>-5106.127451</td>\n",
       "      <td>5106.127451</td>\n",
       "    </tr>\n",
       "    <tr>\n",
       "      <th>113</th>\n",
       "      <td>BsmtFinType1_GLQ</td>\n",
       "      <td>4796.633982</td>\n",
       "      <td>4796.633982</td>\n",
       "    </tr>\n",
       "    <tr>\n",
       "      <th>147</th>\n",
       "      <td>SaleType_New</td>\n",
       "      <td>4570.333693</td>\n",
       "      <td>4570.333693</td>\n",
       "    </tr>\n",
       "    <tr>\n",
       "      <th>65</th>\n",
       "      <td>Neighborhood_Somerst</td>\n",
       "      <td>4486.667208</td>\n",
       "      <td>4486.667208</td>\n",
       "    </tr>\n",
       "    <tr>\n",
       "      <th>129</th>\n",
       "      <td>Functional_Typ</td>\n",
       "      <td>4387.466349</td>\n",
       "      <td>4387.466349</td>\n",
       "    </tr>\n",
       "    <tr>\n",
       "      <th>8</th>\n",
       "      <td>Fireplaces</td>\n",
       "      <td>4372.654123</td>\n",
       "      <td>4372.654123</td>\n",
       "    </tr>\n",
       "    <tr>\n",
       "      <th>50</th>\n",
       "      <td>Neighborhood_Crawfor</td>\n",
       "      <td>4361.429708</td>\n",
       "      <td>4361.429708</td>\n",
       "    </tr>\n",
       "    <tr>\n",
       "      <th>87</th>\n",
       "      <td>BldgType_TwnhsE</td>\n",
       "      <td>-3362.622540</td>\n",
       "      <td>3362.622540</td>\n",
       "    </tr>\n",
       "    <tr>\n",
       "      <th>10</th>\n",
       "      <td>GarageArea</td>\n",
       "      <td>3271.749418</td>\n",
       "      <td>3271.749418</td>\n",
       "    </tr>\n",
       "  </tbody>\n",
       "</table>\n",
       "</div>"
      ],
      "text/plain": [
       "                 variable          coef      abs_coef\n",
       "4               GrLivArea  21767.754756  21767.754756\n",
       "14              TotalSqft  14091.894818  14091.894818\n",
       "60   Neighborhood_NridgHt  11371.579592  11371.579592\n",
       "103           BsmtQual_TA -11243.500518  11243.500518\n",
       "101           BsmtQual_Gd -11236.688831  11236.688831\n",
       "59   Neighborhood_NoRidge   8588.078257   8588.078257\n",
       "2               YearBuilt   7933.329546   7933.329546\n",
       "66   Neighborhood_StoneBr   7021.300848   7021.300848\n",
       "13              Bathrooms   6493.503072   6493.503072\n",
       "6            KitchenAbvGr  -5702.265409   5702.265409\n",
       "108       BsmtExposure_Gd   5128.277906   5128.277906\n",
       "80        Condition2_PosN  -5106.127451   5106.127451\n",
       "113      BsmtFinType1_GLQ   4796.633982   4796.633982\n",
       "147          SaleType_New   4570.333693   4570.333693\n",
       "65   Neighborhood_Somerst   4486.667208   4486.667208\n",
       "129        Functional_Typ   4387.466349   4387.466349\n",
       "8              Fireplaces   4372.654123   4372.654123\n",
       "50   Neighborhood_Crawfor   4361.429708   4361.429708\n",
       "87        BldgType_TwnhsE  -3362.622540   3362.622540\n",
       "10             GarageArea   3271.749418   3271.749418"
      ]
     },
     "execution_count": 52,
     "metadata": {},
     "output_type": "execute_result"
    }
   ],
   "source": [
    "col_lasso=X_train.columns\n",
    "\n",
    "\n",
    "lasso_coefs = pd.DataFrame({'variable':col_lasso,\n",
    "                            'coef':lasso.coef_,\n",
    "                            'abs_coef':np.abs(lasso.coef_)})\n",
    "\n",
    "lasso_coefs.sort_values('abs_coef', inplace=True, ascending=False)\n",
    "\n",
    "lasso_coefs.head(20)"
   ]
  },
  {
   "cell_type": "code",
   "execution_count": 53,
   "metadata": {},
   "outputs": [
    {
     "name": "stdout",
     "output_type": "stream",
     "text": [
      "Percent variables zeroed out: 0.5419354838709678 \n",
      "\n",
      "Lasso(alpha=891.7211643201987, copy_X=True, fit_intercept=True, max_iter=1000,\n",
      "   normalize=False, positive=False, precompute=False, random_state=None,\n",
      "   selection='cyclic', tol=0.0001, warm_start=False)\n"
     ]
    }
   ],
   "source": [
    "print('Percent variables zeroed out:', np.sum((lasso.coef_ == 0))/float(len(lasso.coef_)),'\\n')\n",
    "print(model_lasso)"
   ]
  },
  {
   "cell_type": "code",
   "execution_count": 54,
   "metadata": {},
   "outputs": [],
   "source": [
    "#calculating the predicted value\n",
    "predictions_mod1=model_lasso.predict(Xs_test)\n",
    "\n",
    "#residual calculation\n",
    "Residuals_mod1=y_test-predictions_mod1\n",
    "\n",
    "X_test['Residuals']  = Residuals_mod1\n",
    "X_test['predictions']= predictions_mod1\n",
    "X_test['y_test']     = y_test"
   ]
  },
  {
   "cell_type": "code",
   "execution_count": 55,
   "metadata": {
    "scrolled": true
   },
   "outputs": [
    {
     "data": {
      "text/html": [
       "<div>\n",
       "<style scoped>\n",
       "    .dataframe tbody tr th:only-of-type {\n",
       "        vertical-align: middle;\n",
       "    }\n",
       "\n",
       "    .dataframe tbody tr th {\n",
       "        vertical-align: top;\n",
       "    }\n",
       "\n",
       "    .dataframe thead th {\n",
       "        text-align: right;\n",
       "    }\n",
       "</style>\n",
       "<table border=\"1\" class=\"dataframe\">\n",
       "  <thead>\n",
       "    <tr style=\"text-align: right;\">\n",
       "      <th></th>\n",
       "      <th>LotFrontage</th>\n",
       "      <th>LotArea</th>\n",
       "      <th>YearBuilt</th>\n",
       "      <th>MasVnrArea</th>\n",
       "      <th>GrLivArea</th>\n",
       "      <th>BedroomAbvGr</th>\n",
       "      <th>KitchenAbvGr</th>\n",
       "      <th>TotRmsAbvGrd</th>\n",
       "      <th>Fireplaces</th>\n",
       "      <th>GarageYrBlt</th>\n",
       "      <th>...</th>\n",
       "      <th>SaleType_Oth</th>\n",
       "      <th>SaleType_WD</th>\n",
       "      <th>SaleCondition_AdjLand</th>\n",
       "      <th>SaleCondition_Alloca</th>\n",
       "      <th>SaleCondition_Family</th>\n",
       "      <th>SaleCondition_Normal</th>\n",
       "      <th>SaleCondition_Partial</th>\n",
       "      <th>Residuals</th>\n",
       "      <th>predictions</th>\n",
       "      <th>y_test</th>\n",
       "    </tr>\n",
       "  </thead>\n",
       "  <tbody>\n",
       "    <tr>\n",
       "      <th>16</th>\n",
       "      <td>70.0</td>\n",
       "      <td>11241</td>\n",
       "      <td>1970</td>\n",
       "      <td>180.0</td>\n",
       "      <td>1004</td>\n",
       "      <td>2</td>\n",
       "      <td>1</td>\n",
       "      <td>5</td>\n",
       "      <td>1</td>\n",
       "      <td>1970.0</td>\n",
       "      <td>...</td>\n",
       "      <td>0</td>\n",
       "      <td>1</td>\n",
       "      <td>0</td>\n",
       "      <td>0</td>\n",
       "      <td>0</td>\n",
       "      <td>1</td>\n",
       "      <td>0</td>\n",
       "      <td>-2791.966072</td>\n",
       "      <td>151791.966072</td>\n",
       "      <td>149000</td>\n",
       "    </tr>\n",
       "    <tr>\n",
       "      <th>24</th>\n",
       "      <td>70.0</td>\n",
       "      <td>8246</td>\n",
       "      <td>1968</td>\n",
       "      <td>0.0</td>\n",
       "      <td>1060</td>\n",
       "      <td>3</td>\n",
       "      <td>1</td>\n",
       "      <td>6</td>\n",
       "      <td>1</td>\n",
       "      <td>1968.0</td>\n",
       "      <td>...</td>\n",
       "      <td>0</td>\n",
       "      <td>1</td>\n",
       "      <td>0</td>\n",
       "      <td>0</td>\n",
       "      <td>0</td>\n",
       "      <td>1</td>\n",
       "      <td>0</td>\n",
       "      <td>9968.762218</td>\n",
       "      <td>144031.237782</td>\n",
       "      <td>154000</td>\n",
       "    </tr>\n",
       "    <tr>\n",
       "      <th>26</th>\n",
       "      <td>60.0</td>\n",
       "      <td>7200</td>\n",
       "      <td>1951</td>\n",
       "      <td>0.0</td>\n",
       "      <td>900</td>\n",
       "      <td>3</td>\n",
       "      <td>1</td>\n",
       "      <td>5</td>\n",
       "      <td>0</td>\n",
       "      <td>2005.0</td>\n",
       "      <td>...</td>\n",
       "      <td>0</td>\n",
       "      <td>1</td>\n",
       "      <td>0</td>\n",
       "      <td>0</td>\n",
       "      <td>0</td>\n",
       "      <td>1</td>\n",
       "      <td>0</td>\n",
       "      <td>10555.213100</td>\n",
       "      <td>124244.786900</td>\n",
       "      <td>134800</td>\n",
       "    </tr>\n",
       "    <tr>\n",
       "      <th>27</th>\n",
       "      <td>98.0</td>\n",
       "      <td>11478</td>\n",
       "      <td>2007</td>\n",
       "      <td>200.0</td>\n",
       "      <td>1704</td>\n",
       "      <td>3</td>\n",
       "      <td>1</td>\n",
       "      <td>7</td>\n",
       "      <td>1</td>\n",
       "      <td>2008.0</td>\n",
       "      <td>...</td>\n",
       "      <td>0</td>\n",
       "      <td>1</td>\n",
       "      <td>0</td>\n",
       "      <td>0</td>\n",
       "      <td>0</td>\n",
       "      <td>1</td>\n",
       "      <td>0</td>\n",
       "      <td>-1263.326008</td>\n",
       "      <td>307263.326008</td>\n",
       "      <td>306000</td>\n",
       "    </tr>\n",
       "    <tr>\n",
       "      <th>33</th>\n",
       "      <td>70.0</td>\n",
       "      <td>10552</td>\n",
       "      <td>1959</td>\n",
       "      <td>0.0</td>\n",
       "      <td>1700</td>\n",
       "      <td>4</td>\n",
       "      <td>1</td>\n",
       "      <td>6</td>\n",
       "      <td>1</td>\n",
       "      <td>1959.0</td>\n",
       "      <td>...</td>\n",
       "      <td>0</td>\n",
       "      <td>1</td>\n",
       "      <td>0</td>\n",
       "      <td>0</td>\n",
       "      <td>0</td>\n",
       "      <td>1</td>\n",
       "      <td>0</td>\n",
       "      <td>-13579.316047</td>\n",
       "      <td>179079.316047</td>\n",
       "      <td>165500</td>\n",
       "    </tr>\n",
       "  </tbody>\n",
       "</table>\n",
       "<p>5 rows × 158 columns</p>\n",
       "</div>"
      ],
      "text/plain": [
       "    LotFrontage  LotArea  YearBuilt  MasVnrArea  GrLivArea  BedroomAbvGr  \\\n",
       "16         70.0    11241       1970       180.0       1004             2   \n",
       "24         70.0     8246       1968         0.0       1060             3   \n",
       "26         60.0     7200       1951         0.0        900             3   \n",
       "27         98.0    11478       2007       200.0       1704             3   \n",
       "33         70.0    10552       1959         0.0       1700             4   \n",
       "\n",
       "    KitchenAbvGr  TotRmsAbvGrd  Fireplaces  GarageYrBlt   ...    SaleType_Oth  \\\n",
       "16             1             5           1       1970.0   ...               0   \n",
       "24             1             6           1       1968.0   ...               0   \n",
       "26             1             5           0       2005.0   ...               0   \n",
       "27             1             7           1       2008.0   ...               0   \n",
       "33             1             6           1       1959.0   ...               0   \n",
       "\n",
       "    SaleType_WD  SaleCondition_AdjLand  SaleCondition_Alloca  \\\n",
       "16            1                      0                     0   \n",
       "24            1                      0                     0   \n",
       "26            1                      0                     0   \n",
       "27            1                      0                     0   \n",
       "33            1                      0                     0   \n",
       "\n",
       "    SaleCondition_Family  SaleCondition_Normal  SaleCondition_Partial  \\\n",
       "16                     0                     1                      0   \n",
       "24                     0                     1                      0   \n",
       "26                     0                     1                      0   \n",
       "27                     0                     1                      0   \n",
       "33                     0                     1                      0   \n",
       "\n",
       "       Residuals    predictions  y_test  \n",
       "16  -2791.966072  151791.966072  149000  \n",
       "24   9968.762218  144031.237782  154000  \n",
       "26  10555.213100  124244.786900  134800  \n",
       "27  -1263.326008  307263.326008  306000  \n",
       "33 -13579.316047  179079.316047  165500  \n",
       "\n",
       "[5 rows x 158 columns]"
      ]
     },
     "execution_count": 55,
     "metadata": {},
     "output_type": "execute_result"
    }
   ],
   "source": [
    "X_test.head()"
   ]
  },
  {
   "cell_type": "code",
   "execution_count": 56,
   "metadata": {},
   "outputs": [
    {
     "name": "stderr",
     "output_type": "stream",
     "text": [
      "C:\\ProgramData\\Anaconda3\\lib\\site-packages\\scipy\\stats\\stats.py:1713: FutureWarning: Using a non-tuple sequence for multidimensional indexing is deprecated; use `arr[tuple(seq)]` instead of `arr[seq]`. In the future this will be interpreted as an array index, `arr[np.array(seq)]`, which will result either in an error or a different result.\n",
      "  return np.add.reduce(sorted[indexer] * weights, axis=axis) / sumval\n"
     ]
    },
    {
     "data": {
      "text/plain": [
       "<seaborn.axisgrid.FacetGrid at 0x17996cef9b0>"
      ]
     },
     "execution_count": 56,
     "metadata": {},
     "output_type": "execute_result"
    },
    {
     "data": {
      "image/png": "[encoded data removed]",
      "text/plain": [
       "<Figure size 360x360 with 1 Axes>"
      ]
     },
     "metadata": {
      "image/png": {
       "height": 352,
       "width": 351
      },
      "needs_background": "light"
     },
     "output_type": "display_data"
    }
   ],
   "source": [
    "import matplotlib.pyplot as plt\n",
    "import seaborn as sns\n",
    "%matplotlib inline\n",
    "\n",
    "sns.lmplot(x='y_test', y='predictions', data=X_test)"
   ]
  },
  {
   "cell_type": "code",
   "execution_count": 57,
   "metadata": {},
   "outputs": [],
   "source": [
    "#the actual and predicted values has linear relationship. \n",
    "#it shows that our model well fitted. "
   ]
  },
  {
   "cell_type": "code",
   "execution_count": 58,
   "metadata": {},
   "outputs": [
    {
     "data": {
      "text/plain": [
       "<matplotlib.axes._subplots.AxesSubplot at 0x179970da1d0>"
      ]
     },
     "execution_count": 58,
     "metadata": {},
     "output_type": "execute_result"
    },
    {
     "data": {
      "image/png": "[encoded data removed]",
      "text/plain": [
       "<Figure size 432x288 with 1 Axes>"
      ]
     },
     "metadata": {
      "image/png": {
       "height": 263,
       "width": 405
      },
      "needs_background": "light"
     },
     "output_type": "display_data"
    }
   ],
   "source": [
    "sns.distplot(X_test['Residuals'])"
   ]
  },
  {
   "cell_type": "code",
   "execution_count": 59,
   "metadata": {},
   "outputs": [],
   "source": [
    "# The errors are more or less skewed to the right, but do show approximate normality otherwise."
   ]
  },
  {
   "cell_type": "markdown",
   "metadata": {},
   "source": [
    "### Summary (Question 1): \n",
    "\n",
    "1. **Validation on Data**\n",
    "    1. Non-residential houses were removed.\n",
    "    2. All Features with Null Values were cleaned in data\n",
    "    3. EDA Analaysis was performed on target feature `SalePrice`\n",
    "2. **Feature Engineering was performed**\n",
    "    1. Id Column was removed\n",
    "    2. **Drop** 1stFlrSF, 2ndFlrSF, and LowQualFinSF because\n",
    "          these fields are the sum of `GrLivArea`.\n",
    "    3. **Drop** BsmtFinSF1, BsmtFinSF2, and BsmtUnfSF because\n",
    "          these fields are the sum of `TotalBSmtSF`\n",
    "    4. **Create** new feature Bathrooms which is the sum of \n",
    "    BsmtFullBath + BsmtHalfBath + FullBath + HalfBath\n",
    "    5. **Drop** BsmtFullBath, BsmtHalfBath, FullBath & HalfBath. \n",
    "    6. **Create** new feature `TotalSqft` which is the sum of\n",
    "    TotalBSmtSF + Bathrooms + GarageArea\n",
    "3. **Create Models and Compare Scores**    \n",
    "    1. Data used only created fixed features.\n",
    "    2. Linear Regression, Ridge & Lasso Models were used on the data.  All Models were trained using pre-2010 data.\n",
    "    3. Compared all three models and Lasso & Ridge Model scored better than Linear Regression.analysis.\n",
    "    4. Lasso Model was used for further analysis.  Based on the model R2 value (0.8031), we can say that the predictor variables for the model could explain 80.3% of variance in the target variable(SalePrice)\n",
    "    5. `GrLivArea` is the feature that could contribute most to the SalePrice. For 1 unit increase in GrLivArea the SalePrice could increase by 21,767\n",
    "    6. The second important feature id is `TotalSqft`, which is the sum of TotalBSmtSF, Bathrooms, & GarageArea.  For 1 unit increase in TotalSqft the SalePrice could increase by 14,091\n",
    "    7. The Basement Quality which corresponds to the height of the basement is the most important factor which accounts for the decrease in the house price. The BaseQuality which is Good and Typical shows decrease of SalePrice about 11,2236 to 11,243.\n",
    "    \n",
    "\n",
    "          \n"
   ]
  },
  {
   "cell_type": "markdown",
   "metadata": {},
   "source": [
    "<img src=\"http://imgur.com/l5NasQj.png\" style=\"float: left; margin: 25px 15px 0px 0px; height: 25px\">\n",
    "\n",
    "## 2. Determine any value of *changeable* property characteristics unexplained by the *fixed* ones.\n",
    "\n",
    "---\n",
    "\n",
    "Now that you have a model that estimates the price of a house based on its static characteristics, we can move forward with part 2 and 3 of the plan: what are the costs/benefits of quality, condition, and renovations?\n",
    "\n",
    "There are two specific requirements for these estimates:\n",
    "1. The estimates of effects must be in terms of dollars added or subtracted from the house value. \n",
    "2. The effects must be on the variance in price remaining from the first model.\n",
    "\n",
    "The residuals from the first model (training and testing) represent the variance in price unexplained by the fixed characteristics. Of that variance in price remaining, how much of it can be explained by the easy-to-change aspects of the property?\n",
    "\n",
    "---\n",
    "\n",
    "**Your goals:**\n",
    "1. Evaluate the effect in dollars of the renovate-able features. \n",
    "- How would your company use this second model and its coefficients to determine whether they should buy a property or not? Explain how the company can use the two models you have built to determine if they can make money. \n",
    "- Investigate how much of the variance in price remaining is explained by these features.\n",
    "- Do you trust your model? Should it be used to evaluate which properties to buy and fix up?"
   ]
  },
  {
   "cell_type": "code",
   "execution_count": 60,
   "metadata": {},
   "outputs": [],
   "source": [
    "## renovate columns (For reference only...)\n",
    "reno =['OverallQual', 'OverallCond', 'YearRemodAdd',\n",
    "       'RoofStyle', 'RoofMatl', 'Exterior1st', 'Exterior2nd', 'MasVnrType',\n",
    "       'ExterQual', 'ExterCond', 'Heating', 'HeatingQC', 'CentralAir', \n",
    "       'Electrical', 'KitchenQual', 'FireplaceQu',\n",
    "       'GarageFinish', 'GarageQual', 'GarageCond',  'Fence', 'MiscVal' ]\n"
   ]
  },
  {
   "cell_type": "code",
   "execution_count": 61,
   "metadata": {},
   "outputs": [],
   "source": [
    "## list fields to be dummyfied.\n",
    "dummy_cols=['MSSubClass', 'MSZoning','Street','LotShape','LandContour',\n",
    "       'LotConfig', 'LandSlope', 'Neighborhood', 'Condition1', 'Condition2',\n",
    "       'BldgType', 'HouseStyle','Foundation', 'BsmtQual',\n",
    "       'BsmtCond', 'BsmtExposure', 'BsmtFinType1', 'BsmtFinType2', 'Functional',\n",
    "       'GarageType','PavedDrive', 'Fence', \n",
    "       'SaleType', 'SaleCondition','OverallQual', 'OverallCond','RoofStyle', \n",
    "       'RoofMatl', 'Exterior1st', 'Exterior2nd',\n",
    "       'MasVnrType', 'ExterQual', 'ExterCond','Heating','HeatingQC', \n",
    "       'CentralAir', 'Electrical', \n",
    "       'KitchenQual','FireplaceQu','GarageQual','GarageFinish', 'GarageCond',\n",
    "       'Fence']"
   ]
  },
  {
   "cell_type": "code",
   "execution_count": 62,
   "metadata": {},
   "outputs": [
    {
     "name": "stdout",
     "output_type": "stream",
     "text": [
      "(1450, 277)\n"
     ]
    }
   ],
   "source": [
    "house_dummy= pd.get_dummies(house,columns=dummy_cols,drop_first=True)\n",
    "print(house_dummy.shape)\n",
    "#house_dummy.head(3)"
   ]
  },
  {
   "cell_type": "code",
   "execution_count": 63,
   "metadata": {},
   "outputs": [],
   "source": [
    "## Remove these categorical features\n",
    "drop_list=['Alley', 'Utilities','PoolQC','MiscFeature']\n",
    "house_dummy.drop(drop_list, axis=1, inplace=True)"
   ]
  },
  {
   "cell_type": "code",
   "execution_count": 64,
   "metadata": {},
   "outputs": [
    {
     "data": {
      "text/html": [
       "<div>\n",
       "<style scoped>\n",
       "    .dataframe tbody tr th:only-of-type {\n",
       "        vertical-align: middle;\n",
       "    }\n",
       "\n",
       "    .dataframe tbody tr th {\n",
       "        vertical-align: top;\n",
       "    }\n",
       "\n",
       "    .dataframe thead th {\n",
       "        text-align: right;\n",
       "    }\n",
       "</style>\n",
       "<table border=\"1\" class=\"dataframe\">\n",
       "  <thead>\n",
       "    <tr style=\"text-align: right;\">\n",
       "      <th></th>\n",
       "      <th>MSSubClass</th>\n",
       "      <th>MSZoning</th>\n",
       "      <th>LotFrontage</th>\n",
       "      <th>LotArea</th>\n",
       "      <th>Street</th>\n",
       "      <th>Alley</th>\n",
       "      <th>LotShape</th>\n",
       "      <th>LandContour</th>\n",
       "      <th>Utilities</th>\n",
       "      <th>LotConfig</th>\n",
       "      <th>...</th>\n",
       "      <th>Fence</th>\n",
       "      <th>MiscFeature</th>\n",
       "      <th>MiscVal</th>\n",
       "      <th>MoSold</th>\n",
       "      <th>YrSold</th>\n",
       "      <th>SaleType</th>\n",
       "      <th>SaleCondition</th>\n",
       "      <th>SalePrice</th>\n",
       "      <th>Bathrooms</th>\n",
       "      <th>TotalSqft</th>\n",
       "    </tr>\n",
       "  </thead>\n",
       "  <tbody>\n",
       "    <tr>\n",
       "      <th>5</th>\n",
       "      <td>50</td>\n",
       "      <td>RL</td>\n",
       "      <td>85.0</td>\n",
       "      <td>14115</td>\n",
       "      <td>Pave</td>\n",
       "      <td>NA</td>\n",
       "      <td>IR1</td>\n",
       "      <td>Lvl</td>\n",
       "      <td>AllPub</td>\n",
       "      <td>Inside</td>\n",
       "      <td>...</td>\n",
       "      <td>MnPrv</td>\n",
       "      <td>Shed</td>\n",
       "      <td>700</td>\n",
       "      <td>10</td>\n",
       "      <td>2009</td>\n",
       "      <td>WD</td>\n",
       "      <td>Normal</td>\n",
       "      <td>143000</td>\n",
       "      <td>2.5</td>\n",
       "      <td>2638</td>\n",
       "    </tr>\n",
       "    <tr>\n",
       "      <th>7</th>\n",
       "      <td>60</td>\n",
       "      <td>RL</td>\n",
       "      <td>70.0</td>\n",
       "      <td>10382</td>\n",
       "      <td>Pave</td>\n",
       "      <td>NA</td>\n",
       "      <td>IR1</td>\n",
       "      <td>Lvl</td>\n",
       "      <td>AllPub</td>\n",
       "      <td>Corner</td>\n",
       "      <td>...</td>\n",
       "      <td>NA</td>\n",
       "      <td>Shed</td>\n",
       "      <td>350</td>\n",
       "      <td>11</td>\n",
       "      <td>2009</td>\n",
       "      <td>WD</td>\n",
       "      <td>Normal</td>\n",
       "      <td>200000</td>\n",
       "      <td>3.5</td>\n",
       "      <td>3681</td>\n",
       "    </tr>\n",
       "    <tr>\n",
       "      <th>19</th>\n",
       "      <td>20</td>\n",
       "      <td>RL</td>\n",
       "      <td>70.0</td>\n",
       "      <td>7560</td>\n",
       "      <td>Pave</td>\n",
       "      <td>NA</td>\n",
       "      <td>Reg</td>\n",
       "      <td>Lvl</td>\n",
       "      <td>AllPub</td>\n",
       "      <td>Inside</td>\n",
       "      <td>...</td>\n",
       "      <td>MnPrv</td>\n",
       "      <td>NA</td>\n",
       "      <td>0</td>\n",
       "      <td>5</td>\n",
       "      <td>2009</td>\n",
       "      <td>COD</td>\n",
       "      <td>Abnorml</td>\n",
       "      <td>139000</td>\n",
       "      <td>1.0</td>\n",
       "      <td>2662</td>\n",
       "    </tr>\n",
       "  </tbody>\n",
       "</table>\n",
       "<p>3 rows × 72 columns</p>\n",
       "</div>"
      ],
      "text/plain": [
       "    MSSubClass MSZoning  LotFrontage  LotArea Street Alley LotShape  \\\n",
       "5           50       RL         85.0    14115   Pave    NA      IR1   \n",
       "7           60       RL         70.0    10382   Pave    NA      IR1   \n",
       "19          20       RL         70.0     7560   Pave    NA      Reg   \n",
       "\n",
       "   LandContour Utilities LotConfig    ...      Fence MiscFeature MiscVal  \\\n",
       "5          Lvl    AllPub    Inside    ...      MnPrv        Shed     700   \n",
       "7          Lvl    AllPub    Corner    ...         NA        Shed     350   \n",
       "19         Lvl    AllPub    Inside    ...      MnPrv          NA       0   \n",
       "\n",
       "   MoSold YrSold SaleType  SaleCondition  SalePrice  Bathrooms  TotalSqft  \n",
       "5      10   2009       WD         Normal     143000        2.5       2638  \n",
       "7      11   2009       WD         Normal     200000        3.5       3681  \n",
       "19      5   2009      COD        Abnorml     139000        1.0       2662  \n",
       "\n",
       "[3 rows x 72 columns]"
      ]
     },
     "execution_count": 64,
     "metadata": {},
     "output_type": "execute_result"
    }
   ],
   "source": [
    "house.YrSold.unique()\n",
    "house[house['YrSold']==2009].head(3)"
   ]
  },
  {
   "cell_type": "code",
   "execution_count": 65,
   "metadata": {},
   "outputs": [
    {
     "name": "stdout",
     "output_type": "stream",
     "text": [
      " X_train_2 shape: (1278, 272) \n",
      " y_train_2 shape: (1278,) \n",
      "\n",
      " X_test_2 shape : (172, 272) \n",
      " y_test_2 shape : (172,)\n"
     ]
    }
   ],
   "source": [
    "#Train data with data from yrSold 2006,2007 and 2008. \n",
    "#Test data is with data from YrSold 2010\n",
    "\n",
    "df2=house_dummy\n",
    "X_full=df2.iloc[:, df2.columns != 'SalePrice']\n",
    "\n",
    "X_train_2=X_full[X_full['YrSold'] < 2010]\n",
    "X_test_2 =X_full[X_full['YrSold'] == 2010]\n",
    "\n",
    "y_train_2=house['SalePrice'][house['YrSold'] < 2010]\n",
    "y_test_2=house['SalePrice'][house['YrSold'] == 2010]\n",
    "\n",
    "print(' X_train_2 shape:', X_train_2.shape, '\\n', 'y_train_2 shape:', y_train_2.shape, '\\n')\n",
    "print(' X_test_2 shape :', X_test_2.shape, '\\n',  'y_test_2 shape :', y_test_2.shape )"
   ]
  },
  {
   "cell_type": "code",
   "execution_count": 66,
   "metadata": {},
   "outputs": [
    {
     "name": "stderr",
     "output_type": "stream",
     "text": [
      "C:\\ProgramData\\Anaconda3\\lib\\site-packages\\sklearn\\preprocessing\\data.py:625: DataConversionWarning: Data with input dtype uint8, int64, float64 were all converted to float64 by StandardScaler.\n",
      "  return self.partial_fit(X, y)\n",
      "C:\\ProgramData\\Anaconda3\\lib\\site-packages\\sklearn\\base.py:462: DataConversionWarning: Data with input dtype uint8, int64, float64 were all converted to float64 by StandardScaler.\n",
      "  return self.fit(X, **fit_params).transform(X)\n",
      "C:\\ProgramData\\Anaconda3\\lib\\site-packages\\ipykernel_launcher.py:8: DataConversionWarning: Data with input dtype uint8, int64, float64 were all converted to float64 by StandardScaler.\n",
      "  \n"
     ]
    }
   ],
   "source": [
    "from sklearn.preprocessing import StandardScaler\n",
    "from sklearn.linear_model import Ridge, Lasso, ElasticNet, LinearRegression, RidgeCV, LassoCV, ElasticNetCV\n",
    "from sklearn.model_selection import cross_val_score\n",
    "\n",
    "\n",
    "ss = StandardScaler()\n",
    "Xs_train_2 = ss.fit_transform(X_train_2)\n",
    "Xs_test_2=ss.transform(X_test_2)"
   ]
  },
  {
   "cell_type": "markdown",
   "metadata": {},
   "source": [
    "##### 1. Extract Best Alpha Values:"
   ]
  },
  {
   "cell_type": "code",
   "execution_count": 67,
   "metadata": {},
   "outputs": [
    {
     "name": "stdout",
     "output_type": "stream",
     "text": [
      "Best alpha(Ridge): 596.3623316594649\n"
     ]
    }
   ],
   "source": [
    "## Extract best alpha\n",
    "alpha_range = np.logspace(-2, 7, 50)\n",
    "\n",
    "# select the best alpha with RidgeCV\n",
    "optimal_ridge = RidgeCV(alphas=alpha_range, cv=10)\n",
    "optimal_ridge.fit(Xs_train_2, y_train_2)\n",
    "\n",
    "print('Best alpha(Ridge): {}'.format(optimal_ridge.alpha_))"
   ]
  },
  {
   "cell_type": "code",
   "execution_count": 68,
   "metadata": {
    "scrolled": true
   },
   "outputs": [
    {
     "name": "stderr",
     "output_type": "stream",
     "text": [
      "[Parallel(n_jobs=1)]: Using backend SequentialBackend with 1 concurrent workers.\n",
      "........................................................................................................................................................................................................................................................................................................................................................................................................................................................................................................................................................................................................................................................................................................................................................................................................................................................................................................................................................................................................................................................................................................................................................................................................................................................................................................................................................................................................................................................................................................................................................................................................................................................................................................................................................................................................................................................................................................................................................................................................................................................................................................................................................................................................................................................................................................................................................................................................................................................................................................................................................................................................................................................................................................................................................................................................................................................................................................................................................................................................................................................................................................................................................................................................................................................................................................................................................................................................................................................................................................................................................................................................................................................................................................................................................................................................................................................................................................................................................................................................................................................................................................................................................................................................................................................................................................................................................................................................................................................................................................................................................................................................................................................................................................................................................................................................................................................................................................................................................................................................................................................................................................................................................................................................[Parallel(n_jobs=1)]: Done  10 out of  10 | elapsed:   10.3s finished\n"
     ]
    },
    {
     "name": "stdout",
     "output_type": "stream",
     "text": [
      "Best alpha(Lasso): 1097.5123985130283\n"
     ]
    }
   ],
   "source": [
    "optimal_lasso = LassoCV(n_alphas=500, cv=10, verbose=1)\n",
    "optimal_lasso.fit(Xs_train_2, y_train_2)\n",
    "\n",
    "#print(optimal_lasso.alpha_)\n",
    "print('Best alpha(Lasso): {}'.format(optimal_lasso.alpha_))"
   ]
  },
  {
   "cell_type": "code",
   "execution_count": 69,
   "metadata": {},
   "outputs": [
    {
     "name": "stdout",
     "output_type": "stream",
     "text": [
      "Linear Regression (5 Folds) \n",
      "\n",
      "Cross-validated scores:\n",
      " [-9.59232310e+17 -7.40022251e+20 -1.27897025e+24 -4.70682495e+21\n",
      " -1.91997421e+24]\n",
      "Mean CV R2: -6.408784529506023e+23\n",
      "Std  CV R2: 8.085125360414878e+23\n"
     ]
    }
   ],
   "source": [
    "print('Linear Regression (5 Folds) \\n')\n",
    "#print('Folds: 5 \\n')\n",
    "\n",
    "model=LinearRegression()\n",
    "scores = cross_val_score(model, Xs_train_2, y_train_2, cv=5)\n",
    "print(\"Cross-validated scores:\\n\", scores)\n",
    "print(\"Mean CV R2:\", np.mean(scores))\n",
    "print('Std  CV R2:', np.std(scores))"
   ]
  },
  {
   "cell_type": "code",
   "execution_count": 70,
   "metadata": {},
   "outputs": [
    {
     "name": "stdout",
     "output_type": "stream",
     "text": [
      "Ridge Regression (5 Folds) \n",
      "\n",
      "Cross-validated scores:\n",
      " [0.90398947 0.84425503 0.83511965 0.8823419  0.71564664]\n",
      "Mean CV R2: 0.8362705381471723\n",
      "Std  CV R2: 0.06530486205211429\n"
     ]
    }
   ],
   "source": [
    "print('Ridge Regression (5 Folds) \\n')\n",
    "#print('Folds: 5 \\n')\n",
    "\n",
    "model=Ridge(alpha=optimal_ridge.alpha_)\n",
    "scores = cross_val_score(model, Xs_train_2, y_train_2, cv=5)\n",
    "print(\"Cross-validated scores:\\n\", scores)\n",
    "print(\"Mean CV R2:\", np.mean(scores))\n",
    "print('Std  CV R2:', np.std(scores))"
   ]
  },
  {
   "cell_type": "code",
   "execution_count": 71,
   "metadata": {},
   "outputs": [
    {
     "name": "stdout",
     "output_type": "stream",
     "text": [
      "Lasso Regression (5 Folds) \n",
      "\n",
      "Cross-validated scores:\n",
      " [0.91048577 0.83202196 0.8416152  0.88134885 0.7013128 ]\n",
      "Mean CV R2: 0.8333569151454183\n",
      "Std  CV R2: 0.07177425290699106\n"
     ]
    }
   ],
   "source": [
    "print('Lasso Regression (5 Folds) \\n')\n",
    "#print('Folds: 5 \\n')\n",
    "\n",
    "model=Lasso(alpha=optimal_lasso.alpha_)\n",
    "scores = cross_val_score(model, Xs_train_2, y_train_2, cv=5)\n",
    "print(\"Cross-validated scores:\\n\", scores)\n",
    "print(\"Mean CV R2:\", np.mean(scores))\n",
    "print('Std  CV R2:', np.std(scores))"
   ]
  },
  {
   "cell_type": "markdown",
   "metadata": {},
   "source": [
    "### Coefficient from lasso model"
   ]
  },
  {
   "cell_type": "code",
   "execution_count": 72,
   "metadata": {},
   "outputs": [
    {
     "name": "stdout",
     "output_type": "stream",
     "text": [
      "[0.90176062 0.91539424 0.89310994 0.75762868 0.8694962  0.779288\n",
      " 0.90765038 0.86125664 0.59334789 0.88406475]\n",
      "0.8362997342519704\n"
     ]
    }
   ],
   "source": [
    "lasso = Lasso(alpha=optimal_lasso.alpha_)\n",
    "\n",
    "lasso_scores = cross_val_score(lasso, Xs_train_2, y_train_2, cv=10)\n",
    "\n",
    "print(lasso_scores)\n",
    "print(np.mean(lasso_scores))"
   ]
  },
  {
   "cell_type": "code",
   "execution_count": 73,
   "metadata": {},
   "outputs": [
    {
     "data": {
      "text/html": [
       "<div>\n",
       "<style scoped>\n",
       "    .dataframe tbody tr th:only-of-type {\n",
       "        vertical-align: middle;\n",
       "    }\n",
       "\n",
       "    .dataframe tbody tr th {\n",
       "        vertical-align: top;\n",
       "    }\n",
       "\n",
       "    .dataframe thead th {\n",
       "        text-align: right;\n",
       "    }\n",
       "</style>\n",
       "<table border=\"1\" class=\"dataframe\">\n",
       "  <thead>\n",
       "    <tr style=\"text-align: right;\">\n",
       "      <th></th>\n",
       "      <th>variable</th>\n",
       "      <th>coef</th>\n",
       "      <th>abs_coef</th>\n",
       "    </tr>\n",
       "  </thead>\n",
       "  <tbody>\n",
       "    <tr>\n",
       "      <th>6</th>\n",
       "      <td>GrLivArea</td>\n",
       "      <td>18243.015901</td>\n",
       "      <td>18243.015901</td>\n",
       "    </tr>\n",
       "    <tr>\n",
       "      <th>172</th>\n",
       "      <td>OverallQual_9</td>\n",
       "      <td>13345.935580</td>\n",
       "      <td>13345.935580</td>\n",
       "    </tr>\n",
       "    <tr>\n",
       "      <th>173</th>\n",
       "      <td>OverallQual_10</td>\n",
       "      <td>12581.681765</td>\n",
       "      <td>12581.681765</td>\n",
       "    </tr>\n",
       "    <tr>\n",
       "      <th>171</th>\n",
       "      <td>OverallQual_8</td>\n",
       "      <td>9159.366219</td>\n",
       "      <td>9159.366219</td>\n",
       "    </tr>\n",
       "    <tr>\n",
       "      <th>24</th>\n",
       "      <td>TotalSqft</td>\n",
       "      <td>8145.048571</td>\n",
       "      <td>8145.048571</td>\n",
       "    </tr>\n",
       "    <tr>\n",
       "      <th>12</th>\n",
       "      <td>GarageCars</td>\n",
       "      <td>6682.182514</td>\n",
       "      <td>6682.182514</td>\n",
       "    </tr>\n",
       "    <tr>\n",
       "      <th>23</th>\n",
       "      <td>Bathrooms</td>\n",
       "      <td>6344.479910</td>\n",
       "      <td>6344.479910</td>\n",
       "    </tr>\n",
       "    <tr>\n",
       "      <th>69</th>\n",
       "      <td>Neighborhood_NoRidge</td>\n",
       "      <td>6302.176238</td>\n",
       "      <td>6302.176238</td>\n",
       "    </tr>\n",
       "    <tr>\n",
       "      <th>70</th>\n",
       "      <td>Neighborhood_NridgHt</td>\n",
       "      <td>6150.274368</td>\n",
       "      <td>6150.274368</td>\n",
       "    </tr>\n",
       "    <tr>\n",
       "      <th>90</th>\n",
       "      <td>Condition2_PosN</td>\n",
       "      <td>-6143.843172</td>\n",
       "      <td>6143.843172</td>\n",
       "    </tr>\n",
       "    <tr>\n",
       "      <th>157</th>\n",
       "      <td>SaleType_New</td>\n",
       "      <td>5450.680742</td>\n",
       "      <td>5450.680742</td>\n",
       "    </tr>\n",
       "    <tr>\n",
       "      <th>3</th>\n",
       "      <td>YearRemodAdd</td>\n",
       "      <td>4408.502259</td>\n",
       "      <td>4408.502259</td>\n",
       "    </tr>\n",
       "    <tr>\n",
       "      <th>193</th>\n",
       "      <td>RoofMatl_WdShngl</td>\n",
       "      <td>4398.767136</td>\n",
       "      <td>4398.767136</td>\n",
       "    </tr>\n",
       "    <tr>\n",
       "      <th>76</th>\n",
       "      <td>Neighborhood_StoneBr</td>\n",
       "      <td>4150.648579</td>\n",
       "      <td>4150.648579</td>\n",
       "    </tr>\n",
       "    <tr>\n",
       "      <th>2</th>\n",
       "      <td>YearBuilt</td>\n",
       "      <td>4050.142384</td>\n",
       "      <td>4050.142384</td>\n",
       "    </tr>\n",
       "    <tr>\n",
       "      <th>118</th>\n",
       "      <td>BsmtExposure_Gd</td>\n",
       "      <td>3924.341279</td>\n",
       "      <td>3924.341279</td>\n",
       "    </tr>\n",
       "    <tr>\n",
       "      <th>8</th>\n",
       "      <td>KitchenAbvGr</td>\n",
       "      <td>-3673.002606</td>\n",
       "      <td>3673.002606</td>\n",
       "    </tr>\n",
       "    <tr>\n",
       "      <th>60</th>\n",
       "      <td>Neighborhood_Crawfor</td>\n",
       "      <td>3535.926655</td>\n",
       "      <td>3535.926655</td>\n",
       "    </tr>\n",
       "    <tr>\n",
       "      <th>228</th>\n",
       "      <td>ExterQual_TA</td>\n",
       "      <td>-3016.653223</td>\n",
       "      <td>3016.653223</td>\n",
       "    </tr>\n",
       "    <tr>\n",
       "      <th>139</th>\n",
       "      <td>Functional_Typ</td>\n",
       "      <td>2711.071779</td>\n",
       "      <td>2711.071779</td>\n",
       "    </tr>\n",
       "  </tbody>\n",
       "</table>\n",
       "</div>"
      ],
      "text/plain": [
       "                 variable          coef      abs_coef\n",
       "6               GrLivArea  18243.015901  18243.015901\n",
       "172         OverallQual_9  13345.935580  13345.935580\n",
       "173        OverallQual_10  12581.681765  12581.681765\n",
       "171         OverallQual_8   9159.366219   9159.366219\n",
       "24              TotalSqft   8145.048571   8145.048571\n",
       "12             GarageCars   6682.182514   6682.182514\n",
       "23              Bathrooms   6344.479910   6344.479910\n",
       "69   Neighborhood_NoRidge   6302.176238   6302.176238\n",
       "70   Neighborhood_NridgHt   6150.274368   6150.274368\n",
       "90        Condition2_PosN  -6143.843172   6143.843172\n",
       "157          SaleType_New   5450.680742   5450.680742\n",
       "3            YearRemodAdd   4408.502259   4408.502259\n",
       "193      RoofMatl_WdShngl   4398.767136   4398.767136\n",
       "76   Neighborhood_StoneBr   4150.648579   4150.648579\n",
       "2               YearBuilt   4050.142384   4050.142384\n",
       "118       BsmtExposure_Gd   3924.341279   3924.341279\n",
       "8            KitchenAbvGr  -3673.002606   3673.002606\n",
       "60   Neighborhood_Crawfor   3535.926655   3535.926655\n",
       "228          ExterQual_TA  -3016.653223   3016.653223\n",
       "139        Functional_Typ   2711.071779   2711.071779"
      ]
     },
     "execution_count": 73,
     "metadata": {},
     "output_type": "execute_result"
    }
   ],
   "source": [
    "col2_lasso=X_train_2.columns\n",
    "\n",
    "model2_lasso=lasso.fit(Xs_train_2, y_train_2)\n",
    "\n",
    "lasso_coefs_ = pd.DataFrame({'variable':col2_lasso,\n",
    "                            'coef':(lasso.coef_),\n",
    "                            'abs_coef':np.abs(lasso.coef_)})\n",
    "\n",
    "lasso_coefs_.sort_values('abs_coef', inplace=True, ascending=False)\n",
    "\n",
    "lasso_coefs_.head(20)"
   ]
  },
  {
   "cell_type": "code",
   "execution_count": 74,
   "metadata": {},
   "outputs": [
    {
     "name": "stdout",
     "output_type": "stream",
     "text": [
      "Percent variables zeroed out: 0.7095588235294118\n"
     ]
    }
   ],
   "source": [
    "print('Percent variables zeroed out:', np.sum((lasso.coef_ == 0))/float(len(lasso.coef_)))"
   ]
  },
  {
   "cell_type": "code",
   "execution_count": 75,
   "metadata": {},
   "outputs": [],
   "source": [
    "predictions_mod2=model2_lasso.predict(Xs_test_2)\n",
    "\n",
    "Residuals_mod2=y_test_2-predictions_mod2"
   ]
  },
  {
   "cell_type": "code",
   "execution_count": 76,
   "metadata": {},
   "outputs": [
    {
     "name": "stderr",
     "output_type": "stream",
     "text": [
      "C:\\ProgramData\\Anaconda3\\lib\\site-packages\\ipykernel_launcher.py:1: SettingWithCopyWarning: \n",
      "A value is trying to be set on a copy of a slice from a DataFrame.\n",
      "Try using .loc[row_indexer,col_indexer] = value instead\n",
      "\n",
      "See the caveats in the documentation: http://pandas.pydata.org/pandas-docs/stable/indexing.html#indexing-view-versus-copy\n",
      "  \"\"\"Entry point for launching an IPython kernel.\n",
      "C:\\ProgramData\\Anaconda3\\lib\\site-packages\\ipykernel_launcher.py:2: SettingWithCopyWarning: \n",
      "A value is trying to be set on a copy of a slice from a DataFrame.\n",
      "Try using .loc[row_indexer,col_indexer] = value instead\n",
      "\n",
      "See the caveats in the documentation: http://pandas.pydata.org/pandas-docs/stable/indexing.html#indexing-view-versus-copy\n",
      "  \n",
      "C:\\ProgramData\\Anaconda3\\lib\\site-packages\\ipykernel_launcher.py:3: SettingWithCopyWarning: \n",
      "A value is trying to be set on a copy of a slice from a DataFrame.\n",
      "Try using .loc[row_indexer,col_indexer] = value instead\n",
      "\n",
      "See the caveats in the documentation: http://pandas.pydata.org/pandas-docs/stable/indexing.html#indexing-view-versus-copy\n",
      "  This is separate from the ipykernel package so we can avoid doing imports until\n"
     ]
    }
   ],
   "source": [
    "X_test_2['predictions_mod2']=predictions_mod2\n",
    "X_test_2['Residuals_mod2']=Residuals_mod2\n",
    "X_test_2['y_test_2']=y_test_2"
   ]
  },
  {
   "cell_type": "code",
   "execution_count": 77,
   "metadata": {},
   "outputs": [
    {
     "data": {
      "text/html": [
       "<div>\n",
       "<style scoped>\n",
       "    .dataframe tbody tr th:only-of-type {\n",
       "        vertical-align: middle;\n",
       "    }\n",
       "\n",
       "    .dataframe tbody tr th {\n",
       "        vertical-align: top;\n",
       "    }\n",
       "\n",
       "    .dataframe thead th {\n",
       "        text-align: right;\n",
       "    }\n",
       "</style>\n",
       "<table border=\"1\" class=\"dataframe\">\n",
       "  <thead>\n",
       "    <tr style=\"text-align: right;\">\n",
       "      <th></th>\n",
       "      <th>predictions_mod2</th>\n",
       "      <th>Residuals_mod2</th>\n",
       "      <th>y_test_2</th>\n",
       "    </tr>\n",
       "  </thead>\n",
       "  <tbody>\n",
       "    <tr>\n",
       "      <th>16</th>\n",
       "      <td>156080.273958</td>\n",
       "      <td>-7080.273958</td>\n",
       "      <td>149000</td>\n",
       "    </tr>\n",
       "    <tr>\n",
       "      <th>24</th>\n",
       "      <td>148390.370484</td>\n",
       "      <td>5609.629516</td>\n",
       "      <td>154000</td>\n",
       "    </tr>\n",
       "    <tr>\n",
       "      <th>26</th>\n",
       "      <td>140327.685451</td>\n",
       "      <td>-5527.685451</td>\n",
       "      <td>134800</td>\n",
       "    </tr>\n",
       "  </tbody>\n",
       "</table>\n",
       "</div>"
      ],
      "text/plain": [
       "    predictions_mod2  Residuals_mod2  y_test_2\n",
       "16     156080.273958    -7080.273958    149000\n",
       "24     148390.370484     5609.629516    154000\n",
       "26     140327.685451    -5527.685451    134800"
      ]
     },
     "execution_count": 77,
     "metadata": {},
     "output_type": "execute_result"
    }
   ],
   "source": [
    "X_test_2[['predictions_mod2','Residuals_mod2','y_test_2']].head(3)"
   ]
  },
  {
   "cell_type": "code",
   "execution_count": 78,
   "metadata": {},
   "outputs": [
    {
     "name": "stderr",
     "output_type": "stream",
     "text": [
      "C:\\ProgramData\\Anaconda3\\lib\\site-packages\\scipy\\stats\\stats.py:1713: FutureWarning: Using a non-tuple sequence for multidimensional indexing is deprecated; use `arr[tuple(seq)]` instead of `arr[seq]`. In the future this will be interpreted as an array index, `arr[np.array(seq)]`, which will result either in an error or a different result.\n",
      "  return np.add.reduce(sorted[indexer] * weights, axis=axis) / sumval\n"
     ]
    },
    {
     "data": {
      "text/plain": [
       "<seaborn.axisgrid.FacetGrid at 0x1799717e940>"
      ]
     },
     "execution_count": 78,
     "metadata": {},
     "output_type": "execute_result"
    },
    {
     "data": {
      "image/png": "[encoded data removed]",
      "text/plain": [
       "<Figure size 360x360 with 1 Axes>"
      ]
     },
     "metadata": {
      "image/png": {
       "height": 352,
       "width": 351
      },
      "needs_background": "light"
     },
     "output_type": "display_data"
    }
   ],
   "source": [
    "sns.lmplot(x='y_test_2', y='predictions_mod2', data=X_test_2) \n",
    "#there is linear relationship between test and predicted data.\n"
   ]
  },
  {
   "cell_type": "code",
   "execution_count": 79,
   "metadata": {},
   "outputs": [
    {
     "data": {
      "text/plain": [
       "<matplotlib.axes._subplots.AxesSubplot at 0x179973824a8>"
      ]
     },
     "execution_count": 79,
     "metadata": {},
     "output_type": "execute_result"
    },
    {
     "data": {
      "image/png": "[encoded data removed]",
      "text/plain": [
       "<Figure size 432x288 with 1 Axes>"
      ]
     },
     "metadata": {
      "image/png": {
       "height": 263,
       "width": 399
      },
      "needs_background": "light"
     },
     "output_type": "display_data"
    }
   ],
   "source": [
    "sns.distplot(X_test_2['Residuals_mod2']) \n",
    "# the residuals shows slight right skew."
   ]
  },
  {
   "cell_type": "markdown",
   "metadata": {},
   "source": [
    "### Summary (Question 2): \n",
    "\n",
    "\n",
    "1. **Create Models and Compare Scores**    \n",
    "    1. Data used only created fixed features.\n",
    "    2. Linear Regression, Ridge & Lasso Models were used on the data. \n",
    "    3. Compared all three models and Lasso & Ridge Model scored better than Linear Regression.analysis.\n",
    "    4. Lasso Model was used for further analysis.  Based on the model R2 value (0.8362), we can say that the predictor variables for the model could explain 83.6% of variance in the target variable(SalePrice)\n",
    "    5. `GrLivArea` is the feature that could contribute most to the SalePrice. For 1 unit increase in GrLivArea the SalePrice could increase by 18,243\n",
    "    6. The second important feature id is The OverallQual which relates the overall material and finish of house could contribute most to the SalePrice. For every increase in overall quality (from Very good to Very excellent quality) there is about 9159 to 13345 increase in SalePrice. If the overall quality of the house increases the SalePrice also increases.\n",
    "    7. The Basement Quality which corresponds to the height of the basement is the most important factor which accounts for the decrease in the house price. The BaseQuality which is Good and Typical shows decrease of SalePrice about 11,2236 to 11,243.\n",
    "    8. From model 2, we can conclude that the renovatable features also important factors that influence SalePrice.  The most important renovatable features are Above grade (ground) living area square feet (a.k.a. GrLivArea), Overall Rating of materials and finish of the house, Roof Material, Remodel Year, and quality of materials in the exterior of the house.\n",
    "    \n",
    "\n",
    "          \n"
   ]
  },
  {
   "cell_type": "markdown",
   "metadata": {},
   "source": [
    "<img src=\"http://imgur.com/GCAf1UX.png\" style=\"float: left; margin: 25px 15px 0px 0px; height: 25px\">\n",
    "\n",
    "## 3. What property characteristics predict an \"abnormal\" sale?\n",
    "\n",
    "---\n",
    "\n",
    "The `SaleCondition` feature indicates the circumstances of the house sale. From the data file, we can see that the possibilities are:\n",
    "\n",
    "       Normal\tNormal Sale\n",
    "       Abnorml\tAbnormal Sale -  trade, foreclosure, short sale\n",
    "       AdjLand\tAdjoining Land Purchase\n",
    "       Alloca\tAllocation - two linked properties with separate deeds, typically condo with a garage unit\t\n",
    "       Family\tSale between family members\n",
    "       Partial\tHome was not completed when last assessed (associated with New Homes)\n",
    "       \n",
    "One of the executives at your company has an \"in\" with higher-ups at the major regional bank. His friends at the bank have made him a proposal: if he can reliably indicate what features, if any, predict \"abnormal\" sales (foreclosures, short sales, etc.), then in return the bank will give him first dibs on the pre-auction purchase of those properties (at a dirt-cheap price).\n",
    "\n",
    "He has tasked you with determining (and adequately validating) which features of a property predict this type of sale. \n",
    "\n",
    "---\n",
    "\n",
    "**Your task:**\n",
    "1. Determine which features predict the `Abnorml` category in the `SaleCondition` feature.\n",
    "- Justify your results.\n",
    "\n",
    "This is a challenging task that tests your ability to perform classification analysis in the face of severe class imbalance. You may find that simply running a classifier on the full dataset to predict the category ends up useless: when there is bad class imbalance classifiers often tend to simply guess the majority class.\n",
    "\n",
    "It is up to you to determine how you will tackle this problem. I recommend doing some research to find out how others have dealt with the problem in the past. Make sure to justify your solution. Don't worry about it being \"the best\" solution, but be rigorous.\n",
    "\n",
    "Be sure to indicate which features are predictive (if any) and whether they are positive or negative predictors of abnormal sales."
   ]
  },
  {
   "cell_type": "code",
   "execution_count": 80,
   "metadata": {},
   "outputs": [],
   "source": [
    "# A: I don't have to energy to answer #3..."
   ]
  },
  {
   "cell_type": "code",
   "execution_count": null,
   "metadata": {},
   "outputs": [],
   "source": []
  }
 ],
 "metadata": {
  "kernelspec": {
   "display_name": "Python 3",
   "language": "python",
   "name": "python3"
  },
  "language_info": {
   "codemirror_mode": {
    "name": "ipython",
    "version": 3
   },
   "file_extension": ".py",
   "mimetype": "text/x-python",
   "name": "python",
   "nbconvert_exporter": "python",
   "pygments_lexer": "ipython3",
   "version": "3.7.1"
  }
 },
 "nbformat": 4,
 "nbformat_minor": 2
}
