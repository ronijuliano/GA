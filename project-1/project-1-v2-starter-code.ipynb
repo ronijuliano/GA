{
 "cells": [
  {
   "cell_type": "markdown",
   "metadata": {},
   "source": [
    "<img src=\"http://imgur.com/1ZcRyrc.png\" style=\"float: left; margin: 15px; height: 80px\">\n",
    "\n",
    "# Project 1\n",
    "\n",
    "### Building \"Pokemon Stay\"\n",
    "\n",
    "---\n",
    "You are an analyst at a \"scrappy\" online gaming company that specializes in remakes of last year's fads.\n",
    "\n",
    "Your boss, who runs the product development team, is convinced that Pokemon Go's fatal flaw was that you had to actually move around outside. She has design mock-ups for a new game called Pokemon Stay: in this version players still need to move, but just from website to website. Pokemon gyms are now popular online destinations, and catching Pokemon in the \"wild\" simply requires browsing the internet for hours in the comfort of your home.\n",
    "\n",
    "She wants you to program a prototype version of the game, and analyze the planned content to help the team calibrate the design."
   ]
  },
  {
   "cell_type": "markdown",
   "metadata": {},
   "source": [
    "#### Package imports\n",
    "\n",
    "The pprint package below is the only package imported here, and it's not even strictly required to do any of the project. Printing python variables and objects with pprint can help to format them in a \"prettier\" way."
   ]
  },
  {
   "cell_type": "code",
   "execution_count": 4,
   "metadata": {},
   "outputs": [],
   "source": [
    "from pprint import pprint"
   ]
  },
  {
   "cell_type": "markdown",
   "metadata": {},
   "source": [
    "<img src=\"http://imgur.com/l5NasQj.png\" style=\"float: left; margin: 25px 15px 0px 0px; height: 25px\">\n",
    "\n",
    "## 1. Defining a player\n",
    "\n",
    "---\n",
    "\n",
    "The player variables are:\n",
    "\n",
    "    player_id : id code unique to each player (integer)\n",
    "    player_name : entered name of the player (string)\n",
    "    time_played : number of time played the game in minutes (float)\n",
    "    player_pokemon: the player's captured pokemon (dictionary)\n",
    "    gyms_visited: ids of the gyms that a player has visited (list)\n",
    "    \n",
    "Create the components for a player object by defining each of these variables. The dictionary and list variables should just be defined as empty; you can use any (correctly typed) values for the others."
   ]
  },
  {
   "cell_type": "code",
   "execution_count": 5,
   "metadata": {},
   "outputs": [],
   "source": [
    "player_id   = 1\n",
    "player_name = 'John'\n",
    "time_played = 1.0\n",
    "player_pokemon = {}\n",
    "gyms_visited   = []\n"
   ]
  },
  {
   "cell_type": "markdown",
   "metadata": {},
   "source": [
    "<img src=\"http://imgur.com/l5NasQj.png\" style=\"float: left; margin: 25px 15px 0px 0px; height: 25px\">\n",
    "\n",
    "## 2. Defining \"gym\" locations\n",
    "\n",
    "---\n",
    "\n",
    "As the sole programmer, Pokemon Stay will have to start small. To begin, there will be 10 different gym location websites on the internet. The gym locations are:\n",
    "\n",
    "    1. 'reddit.com'\n",
    "    2. 'amazon.com'\n",
    "    3. 'twitter.com'\n",
    "    4. 'linkedin.com'\n",
    "    5. 'ebay.com'\n",
    "    6. 'netflix.com'\n",
    "    7. 'sporcle.com'\n",
    "    8. 'stackoverflow.com'\n",
    "    9. 'github.com'\n",
    "    10. 'quora.com'\n",
    "\n",
    "1. Set up a list of all the gym locations. This will be a list of strings.\n",
    "2. Append two of these locations to your player's list of visited gyms.\n",
    "3. Print the list."
   ]
  },
  {
   "cell_type": "code",
   "execution_count": 11,
   "metadata": {},
   "outputs": [
    {
     "name": "stdout",
     "output_type": "stream",
     "text": [
      "['reddit.com', 'amazon.com', 'twitter.com', 'linkedin.com', 'ebay.com', 'netflix.com', 'sporcle.com', 'stackoverflow.com', 'github.com', 'quora.com']\n",
      "\n",
      "gyms_visited before: ['reddit.com', 'quora.com']\n",
      "========\n",
      "gyms_visited after: ['reddit.com', 'quora.com', 'reddit.com', 'quora.com']\n"
     ]
    }
   ],
   "source": [
    "gym_locations = ['reddit.com','amazon.com','twitter.com','linkedin.com','ebay.com','netflix.com','sporcle.com','stackoverflow.com','github.com','quora.com']\n",
    "\n",
    "print(gym_locations)\n",
    "print('')\n",
    "print('gyms_visited before:',gyms_visited)\n",
    "print('========')\n",
    "\n",
    "gyms_visited.append(gym_locations[0])\n",
    "gyms_visited.append(gym_locations[-1])\n",
    "\n",
    "print('gyms_visited after:',gyms_visited)\n"
   ]
  },
  {
   "cell_type": "markdown",
   "metadata": {},
   "source": [
    "<img src=\"http://imgur.com/l5NasQj.png\" style=\"float: left; margin: 25px 15px 0px 0px; height: 25px\">\n",
    "\n",
    "## 3. Create a pokedex\n",
    "\n",
    "---\n",
    "\n",
    "We also need to create some pokemon to catch. Each pokemon will be defined by these variables:\n",
    "\n",
    "    pokemon_id : unique identifier for each pokemon (integer)\n",
    "    name : the name of the pokemon (string)\n",
    "    type : the category of pokemon (string)\n",
    "    hp : base hitpoints (integer)\n",
    "    attack : base attack (integer)\n",
    "    defense : base defense (integer)\n",
    "    special_attack : base special attack (integer)\n",
    "    special_defense : base sepecial defense (integer)\n",
    "    speed : base speed (integer)\n",
    "\n",
    "We are only going to create 3 different pokemon with these `pokemon_id` and `pokemon_name` values:\n",
    "\n",
    "    1 : 'charmander'\n",
    "    2 : 'squirtle'\n",
    "    3 : 'bulbasaur'\n",
    "\n",
    "Create a dictionary that will contain the pokemon. The keys of the dictionary will be the `pokemon_id` and the values will themselves dictionaries that contain the other pokemon variables. The structure of the pokedex dictionary will start like so:\n",
    "     \n",
    "     {\n",
    "         1: {\n",
    "                 'name':'charmander',\n",
    "                 'type':'fire',\n",
    "                 ...\n",
    "                 \n",
    "The `type` of charmander, squirtle, and bulbasaur should be `'fire'`, `'water'`, and `'poison'` respectively. The other values are up to you, make them anything you like!\n",
    "\n",
    "Print (or pretty print) the pokedex dictionary with the 3 pokemon."
   ]
  },
  {
   "cell_type": "code",
   "execution_count": 12,
   "metadata": {},
   "outputs": [
    {
     "name": "stdout",
     "output_type": "stream",
     "text": [
      "{1: {'attack': 3000,\n",
      "     'defense': 2000,\n",
      "     'hp': 5000,\n",
      "     'name': 'charmander',\n",
      "     'special_attack': 400,\n",
      "     'special_defense': 300,\n",
      "     'speed': 20,\n",
      "     'type': 'fire'},\n",
      " 2: {'attack': 2000,\n",
      "     'defense': 1000,\n",
      "     'hp': 3000,\n",
      "     'name': 'squirtle',\n",
      "     'special_attack': 200,\n",
      "     'special_defense': 200,\n",
      "     'speed': 15,\n",
      "     'type': 'water'},\n",
      " 3: {'attack': 3000,\n",
      "     'defense': 1500,\n",
      "     'hp': 3500,\n",
      "     'name': 'bublasaur',\n",
      "     'special_attack': 200,\n",
      "     'special_defense': 500,\n",
      "     'speed': 18,\n",
      "     'type': 'poison'}}\n"
     ]
    }
   ],
   "source": [
    "pokedex = {\n",
    "    1:{'name':'charmander', \n",
    "        'type':'fire', \n",
    "        'hp':5000, \n",
    "        'attack':3000, \n",
    "        'defense':2000, \n",
    "        'special_attack':400, \n",
    "        'special_defense':300, \n",
    "        'speed':20},\n",
    "    2: {'name':'squirtle', \n",
    "        'type':'water', \n",
    "        'hp':3000, \n",
    "        'attack':2000, \n",
    "        'defense':1000, \n",
    "        'special_attack':200, \n",
    "        'special_defense':200, \n",
    "        'speed':15},\n",
    "    3: {'name':'bublasaur', \n",
    "        'type':'poison', \n",
    "        'hp':3500, \n",
    "        'attack':3000, \n",
    "        'defense':1500, \n",
    "        'special_attack':200, \n",
    "        'special_defense':500, \n",
    "        'speed':18}\n",
    "}\n",
    "\n",
    "pprint(pokedex)"
   ]
  },
  {
   "cell_type": "markdown",
   "metadata": {},
   "source": [
    "<img src=\"http://imgur.com/l5NasQj.png\" style=\"float: left; margin: 25px 15px 0px 0px; height: 25px\">\n",
    "\n",
    "## 4. Create a data structure for players\n",
    "\n",
    "---\n",
    "\n",
    "### 4.1 \n",
    "\n",
    "In order to maintain a database of multiple players, create a dictionary that keeps track of players indexed by `player_id`. \n",
    "\n",
    "The keys of the dictionary will be `player_id` and values will be dictionaries containing each player's variables (from question 1). \n",
    "\n",
    "Construct the `players` dictionary and insert the player that you defined in question 1, then print `players`."
   ]
  },
  {
   "cell_type": "code",
   "execution_count": 13,
   "metadata": {},
   "outputs": [
    {
     "name": "stdout",
     "output_type": "stream",
     "text": [
      "{1: {'gyms_visited': [],\n",
      "     'player_name': 'John',\n",
      "     'player_pokemon': {},\n",
      "     'time_played': 1.0}}\n"
     ]
    }
   ],
   "source": [
    "players= {\n",
    "    1:{'player_name':'John', \n",
    "       'time_played': 1.0,\n",
    "       'player_pokemon':{}, \n",
    "       'gyms_visited':[]\n",
    "      }\n",
    "}\n",
    "#print(players.items())\n",
    "pprint(players)\n"
   ]
  },
  {
   "cell_type": "markdown",
   "metadata": {},
   "source": [
    "---\n",
    "\n",
    "### 4.2\n",
    "\n",
    "Create a new player with `player_id = 2` in the `players` dictionary. Leave the `'player_pokemon'` dictionary empty. Append `'alcatraz'` and `'pacific_beach'` to the `'gyms_visited'` list for player 2.\n",
    "\n",
    "The `'player_name'` and `'time_played'` values are up to you, but must be a string and float, respectively.\n",
    "\n",
    "Remember, the player_id is the key for the player in the players dictionary.\n",
    "\n",
    "Print the `players` dictionary with the new player inserted."
   ]
  },
  {
   "cell_type": "code",
   "execution_count": 15,
   "metadata": {},
   "outputs": [
    {
     "name": "stdout",
     "output_type": "stream",
     "text": [
      "{1: {'gyms_visited': [],\n",
      "     'player_name': 'John',\n",
      "     'player_pokemon': {},\n",
      "     'time_played': 1.0},\n",
      " 2: {'gyms_visited': [],\n",
      "     'player_name': 'John',\n",
      "     'player_pokemon': {},\n",
      "     'time_played': 2.0}}\n"
     ]
    }
   ],
   "source": [
    "#Create Player 2\n",
    "players.update({2:{'player_name':'John', \n",
    "                   'time_played': 2.0,\n",
    "                   'player_pokemon':{},\n",
    "                   'gyms_visited':[] \n",
    "      }})\n",
    "pprint(players)"
   ]
  },
  {
   "cell_type": "code",
   "execution_count": 16,
   "metadata": {},
   "outputs": [
    {
     "name": "stdout",
     "output_type": "stream",
     "text": [
      "['reddit.com', 'amazon.com', 'twitter.com', 'linkedin.com', 'ebay.com', 'netflix.com', 'sporcle.com', 'stackoverflow.com', 'github.com', 'quora.com', 'alcatraz', 'pacific_beach']\n"
     ]
    }
   ],
   "source": [
    "#Append 2 new rows in gym_locations dictionary\n",
    "gym_locations.append('alcatraz')\n",
    "gym_locations.append('pacific_beach')\n",
    "print(gym_locations)"
   ]
  },
  {
   "cell_type": "code",
   "execution_count": 17,
   "metadata": {},
   "outputs": [],
   "source": [
    "#Update gym_visited in player2\n",
    "players[2]['gyms_visited'].append(gym_locations[-2])\n",
    "players[2]['gyms_visited'].append(gym_locations[-1])"
   ]
  },
  {
   "cell_type": "code",
   "execution_count": 18,
   "metadata": {},
   "outputs": [
    {
     "name": "stdout",
     "output_type": "stream",
     "text": [
      "{1: {'gyms_visited': [],\n",
      "     'player_name': 'John',\n",
      "     'player_pokemon': {},\n",
      "     'time_played': 1.0},\n",
      " 2: {'gyms_visited': ['alcatraz', 'pacific_beach'],\n",
      "     'player_name': 'John',\n",
      "     'player_pokemon': {},\n",
      "     'time_played': 2.0}}\n"
     ]
    }
   ],
   "source": [
    "pprint(players)"
   ]
  },
  {
   "cell_type": "markdown",
   "metadata": {},
   "source": [
    "<img src=\"http://imgur.com/l5NasQj.png\" style=\"float: left; margin: 25px 15px 0px 0px; height: 25px\">\n",
    "\n",
    "## 5. Add captured pokemon for each player\n",
    "\n",
    "---\n",
    "\n",
    "The `'player_pokemon'` keyed dictionaries for each player keep track of which of the pokemon each player has.\n",
    "\n",
    "The keys of the `'player_pokemon'` dictionaries are the pokemon ids that correspond to the ids in the `pokedex` dictionary you created earlier. The values are integers specifying the stats for the pokemon.\n",
    "\n",
    "Give player 1 a squirtle. Give player 2 charmander and a bulbasaur.\n",
    "\n",
    "Print the players dictionary after adding the pokemon for each player.\n"
   ]
  },
  {
   "cell_type": "code",
   "execution_count": 19,
   "metadata": {},
   "outputs": [],
   "source": [
    "players[1]['player_pokemon'].update({2:pokedex[2]})\n",
    "\n",
    "players[2]['player_pokemon'].update({1:pokedex[1]})\n",
    "players[2]['player_pokemon'].update({3:pokedex[3]})\n"
   ]
  },
  {
   "cell_type": "code",
   "execution_count": 20,
   "metadata": {},
   "outputs": [
    {
     "name": "stdout",
     "output_type": "stream",
     "text": [
      "{1: {'gyms_visited': [],\n",
      "     'player_name': 'John',\n",
      "     'player_pokemon': {2: {'attack': 2000,\n",
      "                            'defense': 1000,\n",
      "                            'hp': 3000,\n",
      "                            'name': 'squirtle',\n",
      "                            'special_attack': 200,\n",
      "                            'special_defense': 200,\n",
      "                            'speed': 15,\n",
      "                            'type': 'water'}},\n",
      "     'time_played': 1.0},\n",
      " 2: {'gyms_visited': ['alcatraz', 'pacific_beach'],\n",
      "     'player_name': 'John',\n",
      "     'player_pokemon': {1: {'attack': 3000,\n",
      "                            'defense': 2000,\n",
      "                            'hp': 5000,\n",
      "                            'name': 'charmander',\n",
      "                            'special_attack': 400,\n",
      "                            'special_defense': 300,\n",
      "                            'speed': 20,\n",
      "                            'type': 'fire'},\n",
      "                        3: {'attack': 3000,\n",
      "                            'defense': 1500,\n",
      "                            'hp': 3500,\n",
      "                            'name': 'bublasaur',\n",
      "                            'special_attack': 200,\n",
      "                            'special_defense': 500,\n",
      "                            'speed': 18,\n",
      "                            'type': 'poison'}},\n",
      "     'time_played': 2.0}}\n"
     ]
    }
   ],
   "source": [
    "pprint(players)"
   ]
  },
  {
   "cell_type": "markdown",
   "metadata": {},
   "source": [
    "<img src=\"http://imgur.com/l5NasQj.png\" style=\"float: left; margin: 25px 15px 0px 0px; height: 25px\">\n",
    "\n",
    "## 7. Calculate player \"power\".\n",
    "\n",
    "---\n",
    "\n",
    "Define a function that will calculate a player's \"power\". Player power is defined as the sum of the base statistics all of their pokemon.\n",
    "\n",
    "Your function will:\n",
    "\n",
    "1. Accept the `players` dictionary, `pokedex` dictionary, and a player_id as arguments.\n",
    "2. For the specified player_id, look up that player's pokemon and their level(s).\n",
    "3. Find and aggregate the attack and defense values for each of the player's pokemon from the `pokedex` dictionary.\n",
    "4. Print \"[player name]'s power is [player power].\", where the player power is the sum of the base statistics for all of their pokemon.\n",
    "5. Return the player's power value.\n",
    "\n",
    "Print out the pokemon power for each of your players."
   ]
  },
  {
   "cell_type": "code",
   "execution_count": 21,
   "metadata": {},
   "outputs": [],
   "source": [
    "#1. Accept the `players` dictionary, `pokedex` dictionary, and a player_id as arguments.\n",
    "#2. For the specified player_id, look up that player's pokemon and their level(s).\n",
    "#3. Find and aggregate the attack and defense values for each of the player's pokemon from the `pokedex` dictionary.\n",
    "#4. Print \"[player name]'s power is [player power].\", \n",
    "#   where the player power is the sum of the base statistics for all of their pokemon.\n",
    "#5. Return the player's power value.\n",
    "\n",
    "# parameters: \n",
    "#    1.  players (dictionary) = dictionary of players\n",
    "#    2.  pokedex (dictionary) = dictionary of pokemon monsters\n",
    "#    3.  player_id (interger) = key used to search player's dictionary\n",
    "#\n",
    "# returns:\n",
    "#    1. if key is not found in players dictionary, return -1\n",
    "#    2. if pokemon key in player_pokemon is not found in pokedex dictionary, \n",
    "#          attack and def are automatically zero.\n",
    "#    3. if keys are found in both players and pokedex dictionary, \n",
    "#          compute power and return the computed value.\n",
    "\n",
    "def calc_power(players,pokedex,player_id):\n",
    "    sum_att=0\n",
    "    sum_def=0\n",
    "     \n",
    "    # search player_id in players\n",
    "    if player_id not in players: \n",
    "        print('Error!!! player_id key not found in players:',player_id)\n",
    "        return -1\n",
    "    \n",
    "    # extract pokemon key from player and search in pokedex dictionary \n",
    "    for mykey in players[player_id]['player_pokemon'].keys():       \n",
    "        if mykey in pokedex:\n",
    "            sum_att = sum_att + pokedex[mykey]['attack']\n",
    "            sum_def = sum_def + pokedex[mykey]['defense']\n",
    "        else:    \n",
    "            print('Warning!!! monster key not found in pokedex:',mykey)\n",
    "            \n",
    "        \n",
    "    #print(players[player_id]['player_name'],'power is', sum_att+sum_def )   \n",
    " \n",
    "    return sum_att+sum_def     "
   ]
  },
  {
   "cell_type": "code",
   "execution_count": 25,
   "metadata": {},
   "outputs": [
    {
     "name": "stdout",
     "output_type": "stream",
     "text": [
      "3000\n",
      "-----------------\n",
      "9500\n",
      "-----------------\n",
      "Error!!! player_id key not found in players: 3\n",
      "-1\n"
     ]
    }
   ],
   "source": [
    "print(calc_power(players,pokedex,1))\n",
    "print('-----------------')\n",
    "print(calc_power(players,pokedex,2))\n",
    "print('-----------------')\n",
    "print(calc_power(players,pokedex,3))"
   ]
  },
  {
   "cell_type": "markdown",
   "metadata": {
    "collapsed": true
   },
   "source": [
    "<img src=\"http://imgur.com/l5NasQj.png\" style=\"float: left; margin: 25px 15px 0px 0px; height: 25px\">\n",
    "\n",
    "## 8. Load a pokedex file containing all the pokemon\n",
    "\n",
    "---\n",
    "\n",
    "### 8.1\n",
    "\n",
    "While you were putting together the prototype code, your colleagues were preparing a dataset of Pokemon and their attributes. (This was a rush job, so they may have picked some crazy values for some...)\n",
    "\n",
    "The code below loads information from a comma separated value (csv) file. You need to parse this string into a more useable format. The format of the string is:\n",
    "\n",
    "- Rows are separated by newline characters: \\n\n",
    "- Columns are separated by commas: ,\n",
    "- All cells in the csv are double quoted. Ex: \"PokedexNumber\" is the first cell of the first row.\n",
    "\n",
    "\n",
    "Using for-loops, create a list of lists where each list within the overall list is a row of the csv/matrix, and each element in that list is a cell in that row. Additional criteria:\n",
    "\n",
    "1. Quotes are removed from each cell item.\n",
    "2. Numeric column values are converted to floats.\n",
    "3. There are some cells that are empty and have no information. For these cells put a -1 value in place.\n",
    "\n",
    "Your end result is effectively a matrix. Each list in the outer list is a row, and the *j*th elements of list together form the *j*th column, which represents a data attribute. The first three lists in your pokedex list should look like this:\n",
    "\n",
    "    ['PokedexNumber', 'Name', 'Type', 'Total', 'HP', 'Attack', 'Defense', 'SpecialAttack', 'SpecialDefense', 'Speed']\n",
    "    [1.0, 'Bulbasaur', 'GrassPoison', 318.0, 45.0, 49.0, 49.0, 65.0, 65.0, 45.0]\n",
    "    [2.0, 'Ivysaur', 'GrassPoison', 405.0, 60.0, 62.0, 63.0, 80.0, 80.0, 60.0]"
   ]
  },
  {
   "cell_type": "code",
   "execution_count": 90,
   "metadata": {},
   "outputs": [],
   "source": [
    "# Code to read in pokedex info\n",
    "raw_pd = ''\n",
    "pokedex_file = 'pokedex_basic.csv'\n",
    "with open(pokedex_file, 'r') as f:\n",
    "    raw_pd = f.read()\n",
    "    #print(raw_pd)   "
   ]
  },
  {
   "cell_type": "code",
   "execution_count": 91,
   "metadata": {},
   "outputs": [],
   "source": [
    "# the pokedex string is assigned to the raw_pd variable\n",
    "clean1 = raw_pd.splitlines()"
   ]
  },
  {
   "cell_type": "code",
   "execution_count": 41,
   "metadata": {},
   "outputs": [],
   "source": [
    "clean1"
   ]
  },
  {
   "cell_type": "code",
   "execution_count": null,
   "metadata": {},
   "outputs": [],
   "source": [
    "for line in clean1:\n",
    "    print (line)"
   ]
  },
  {
   "cell_type": "code",
   "execution_count": 92,
   "metadata": {},
   "outputs": [],
   "source": [
    "# extract n recs  (FOR TESTING!!!)\n",
    "#clean1 = clean1[:30]   \n",
    "    \n",
    "# remove double quotes\n",
    "clean2=[]\n",
    "for rec in clean1:\n",
    "    #print(rec)\n",
    "    #rec=rec.replace('\"', \"'\")  ##this is wrong!!!\n",
    "    rec=rec.replace('\"', \"\")\n",
    "    #print(rec)\n",
    "    #print('----------------')\n",
    "    clean2.append(rec)\n",
    "\n",
    "# split list \n",
    "clean3=[]\n",
    "for rec in clean2:\n",
    "    #print(rec)\n",
    "    rec=rec.split(',')\n",
    "    clean3.append(rec)                   "
   ]
  },
  {
   "cell_type": "code",
   "execution_count": 93,
   "metadata": {},
   "outputs": [],
   "source": [
    "# Check for null field values\n",
    "\n",
    "for row in clean3:\n",
    "    #print(row)\n",
    "    for i in range(len(row)) :\n",
    "        if row[i] == '':\n",
    "            print(row[0], 'has null values')\n",
    "            #row[i] = -1           "
   ]
  },
  {
   "cell_type": "code",
   "execution_count": 94,
   "metadata": {},
   "outputs": [],
   "source": [
    "# convert numeric columns to float\n",
    "for row in clean3:\n",
    "#    print(row)\n",
    "    for index in range(len(row)):\n",
    "        #print(row[index])\n",
    "        if row[index].isdigit() == True:\n",
    "            row[index]=float(row[index])"
   ]
  },
  {
   "cell_type": "code",
   "execution_count": 95,
   "metadata": {},
   "outputs": [],
   "source": [
    "# move clean3 to pokedex_data\n",
    "pokedex_data=[row for row in clean3]"
   ]
  },
  {
   "cell_type": "code",
   "execution_count": null,
   "metadata": {},
   "outputs": [],
   "source": [
    "# -------------------------------------------------------------------------      \n",
    "# pokedex_data is the Final list with valid values\n",
    "# -------------------------------------------------------------------------"
   ]
  },
  {
   "cell_type": "code",
   "execution_count": 97,
   "metadata": {},
   "outputs": [],
   "source": [
    "pprint(pokedex_data)"
   ]
  },
  {
   "cell_type": "code",
   "execution_count": null,
   "metadata": {},
   "outputs": [],
   "source": [
    "#--------------------------------------------------"
   ]
  },
  {
   "cell_type": "markdown",
   "metadata": {},
   "source": [
    "<img src=\"http://imgur.com/xDpSobf.png\" style=\"float: left; margin: 25px 15px 0px 0px; height: 25px\">\n",
    "\n",
    "### 8.2 Parse the raw pokedex with list comprehensions\n",
    "\n",
    "---\n",
    "\n",
    "Perform the same parsing as above, but **using only a single list comprehension** instead of for loops. You may have nested list comprehensions within the main list comprehension! The output should be exactly the same."
   ]
  },
  {
   "cell_type": "code",
   "execution_count": 98,
   "metadata": {},
   "outputs": [],
   "source": [
    "# Code to read in pokedex info\n",
    "raw_pd = ''\n",
    "pokedex_file = 'pokedex_basic.csv'\n",
    "with open(pokedex_file, 'r') as f:\n",
    "    raw_pd = f.read()\n",
    "    #print(raw_pd)\n",
    "    \n",
    "# the pokedex string is assigned to the raw_pd variable\n",
    "clean1 = raw_pd.splitlines()\n",
    "\n",
    "# extract n recs  (FOR TESTING!!!)\n",
    "#clean1 = clean1[:4]   \n",
    "      "
   ]
  },
  {
   "cell_type": "code",
   "execution_count": 99,
   "metadata": {},
   "outputs": [],
   "source": [
    "# -------------------------------------------\n",
    "# Single List Comprehension\n",
    "# -------------------------------------------\n",
    "\n",
    "# remove double quotes\n",
    "clean2x=[(rec.replace('\"', \"\")) for rec in clean1]  \n",
    "\n",
    "#for rec in clean1:\n",
    "#    #print(rec)\n",
    "#    rec=rec.replace('\"', \"\")\n",
    "#    clean2.append(rec)   "
   ]
  },
  {
   "cell_type": "code",
   "execution_count": 101,
   "metadata": {},
   "outputs": [
    {
     "name": "stdout",
     "output_type": "stream",
     "text": [
      "'----------------'\n"
     ]
    }
   ],
   "source": [
    "pprint(clean2)\n",
    "pprint('----------------')\n",
    "pprint(clean2x)"
   ]
  },
  {
   "cell_type": "code",
   "execution_count": 102,
   "metadata": {},
   "outputs": [],
   "source": [
    "# split list \n",
    "tmp=[row.split(',') for row in clean2x]\n",
    "\n",
    "# Check for null field values\n",
    "tmp2=[[-1 if row[i] == '' else row[i] for i in range(len(row))] for row in tmp]\n",
    "\n",
    "# convert numeric columns to float\n",
    "clean3x=[[float(row[index]) if row[index].isdigit() else row[index] for index in range(len(row))]  for row in tmp2 ]"
   ]
  },
  {
   "cell_type": "code",
   "execution_count": 106,
   "metadata": {},
   "outputs": [
    {
     "name": "stdout",
     "output_type": "stream",
     "text": [
      "'----------------'\n"
     ]
    }
   ],
   "source": [
    "pprint(clean3)\n",
    "pprint('----------------')\n",
    "pprint(clean3x)"
   ]
  },
  {
   "cell_type": "markdown",
   "metadata": {},
   "source": [
    "<img src=\"http://imgur.com/l5NasQj.png\" style=\"float: left; margin: 25px 15px 0px 0px; height: 25px\">\n",
    "\n",
    "## 9. Write a function to generate the full pokedex\n",
    "\n",
    "---\n",
    "\n",
    "Write a function that recreates the pokedex you made before, but with the data read in from the full pokemon file. The `PokedexNumber` should be used as the `pokemon_id` key values for the dictionary of pokemon.\n",
    "\n",
    "Your function should:\n",
    "\n",
    "1. Take the parsed pokedex information you created above as an argument.\n",
    "2. Return a dictionary in the same format as your original pokedex you created before containing the information from the parsed full pokedex file.\n",
    "\n",
    "To test the function, print out the pokemon with id = 100."
   ]
  },
  {
   "cell_type": "code",
   "execution_count": 108,
   "metadata": {
    "scrolled": true
   },
   "outputs": [],
   "source": [
    "def new_pokedex(pokedex_list,pokemon_id):\n",
    "    #pprint(pokedex_list[pokemon_id])\n",
    "    \n",
    "    tmplist=[]                ## filtered list\n",
    "    tmplist2=[]               ## list whose 1st column is removed\n",
    "    tmplist3=[]               ## list of dictionary details\n",
    "    row_header=[]             ## list of dictionary header titles\n",
    "    list_keys=[]              ## list of dictionary keys\n",
    "\n",
    "    # Extract Header and search/filter out Details based on pokemon_id\n",
    "    first_row=True\n",
    "    for row in pokedex_list:\n",
    "        if first_row:\n",
    "            first_row=False\n",
    "            tmplist.append(row)  \n",
    "            \n",
    "        if row[0] == pokemon_id:\n",
    "            tmplist.append(row)  \n",
    "    \n",
    "    #pprint(tmplist)\n",
    "    #pprint('------------------------------')\n",
    "    \n",
    "    # remove 1st column in list\n",
    "    for row in tmplist:\n",
    "        tmplist2.append(row[1:])\n",
    "\n",
    "    #pprint(tmplist2)\n",
    "    #pprint('------------------------------') \n",
    "    \n",
    "    \n",
    "    # use zip to create dictionary detail rows\n",
    "    row_header = tmplist2[0]   ## list of header titles\n",
    "    for row in tmplist2[1:]:    \n",
    "        #pprint(row)\n",
    "        tmplist3.append(dict(zip(row_header, row)))\n",
    "        \n",
    "    #pprint(tmplist3)\n",
    "    #pprint('------------------------------')\n",
    "    \n",
    "    # extract keys of detail recs\n",
    "    list_keys=[key[0] for key in tmplist[1:]]    ## list of keys of the detail records\n",
    "\n",
    "    # create dictionary from loaded csv data\n",
    "    tmp_dict={}\n",
    "    prev_keys=0\n",
    "    dupkey_cnt = 0  ### this will be used in case of  duplicate keys\n",
    "\n",
    "    for index in range(len(list_keys)):\n",
    "        row_keys=list_keys[index]\n",
    "        #print('list_keys:',row_keys)\n",
    "    \n",
    "        # check for dup keys; if duplicate, increment key by 0.1 \n",
    "        # e.g. 1.0 - monser1 ; 1.1 - monster1_levelup_1\n",
    "        \n",
    "        #print('prev_keys:',prev_keys)    \n",
    "        #print('   row_keys:',int(row_keys))\n",
    "        #print('   prev_keys:',int(prev_keys))\n",
    "    \n",
    "        if int(row_keys) != int(prev_keys):\n",
    "            prev_keys=row_keys\n",
    "            dupkey_cnt = 0\n",
    "        else:\n",
    "            dupkey_cnt = dupkey_cnt + .1\n",
    "    \n",
    "        row_keys=row_keys + dupkey_cnt\n",
    "        #print('out key:',row_keys)\n",
    "        tmp_dict[row_keys]=tmplist3[index]\n",
    "        #print('------------------------')\n",
    "        \n",
    "    return tmp_dict\n",
    "    #for key in list_keys[]:\n",
    "    #    tmp_dict[key]=tmplist3"
   ]
  },
  {
   "cell_type": "code",
   "execution_count": 109,
   "metadata": {},
   "outputs": [
    {
     "data": {
      "text/plain": [
       "{100.0: {'Name': 'Voltorb',\n",
       "  'Type': 'Electric',\n",
       "  'Total': 330.0,\n",
       "  'HP': 40.0,\n",
       "  'Attack': 30.0,\n",
       "  'Defense': 50.0,\n",
       "  'SpecialAttack': 55.0,\n",
       "  'SpecialDefense': 55.0,\n",
       "  'Speed': 100.0}}"
      ]
     },
     "execution_count": 109,
     "metadata": {},
     "output_type": "execute_result"
    }
   ],
   "source": [
    "new_pokedex(pokedex_data,100)"
   ]
  },
  {
   "cell_type": "code",
   "execution_count": null,
   "metadata": {},
   "outputs": [],
   "source": [
    "#------------------------------------"
   ]
  },
  {
   "cell_type": "code",
   "execution_count": null,
   "metadata": {},
   "outputs": [],
   "source": [
    "# -------------------------------------------------------------------------"
   ]
  },
  {
   "cell_type": "code",
   "execution_count": 110,
   "metadata": {},
   "outputs": [],
   "source": [
    "# ------------------------\n",
    "# FOR REFERENCE ONLY!!!! DISREGARD THIS AS THIS IS FOR FYI.\n",
    "#-------------------------\n",
    "\n",
    "# Create Dictionary (Manual)\n",
    "# This is a code snippet on how to load the entire pokedex_basic.csv file\n",
    "# to a whole dictionary.   \n",
    "\n",
    "\n",
    "tmplist=pokedex_data      ## extract 1 header and n detail records\n",
    "tmplist2=[]               ## list whose 1st column is removed\n",
    "tmplist3=[]               ## list of dictionary details\n",
    "row_header=[]             ## list of dictionary header titles\n",
    "list_keys=[]              ## list of dictionary keys\n",
    "\n",
    "# remove 1st column in list\n",
    "for row in tmplist:\n",
    "    tmplist2.append(row[1:])\n",
    "\n",
    "# use zip to create dictionary detail rows\n",
    "row_header = tmplist2[0]   ## list of header titles\n",
    "for row in tmplist2[1:]:    \n",
    "    #pprint(row)\n",
    "    tmplist3.append(dict(zip(row_header, row)))\n",
    "        \n",
    "\n",
    "# extract keys of detail recs\n",
    "list_keys=[key[0] for key in tmplist[1:]]    ## list of keys of the detail records\n",
    "\n",
    "# create dictionary from loaded csv data\n",
    "tmp_dict={}\n",
    "prev_keys=0\n",
    "dupkey_cnt = 0  ### this will be used in case of  duplicate keys\n",
    "\n",
    "for index in range(len(list_keys)):\n",
    "    row_keys=list_keys[index]\n",
    "    #print('list_keys:',row_keys)\n",
    "    \n",
    "    # check for dup keys; if duplicate, increment key by 0.1 \n",
    "    # e.g. 1.0 - monser1 ; 1.1 - monster1_levelup_1\n",
    "        \n",
    "    #print('prev_keys:',prev_keys)    \n",
    "    #print('   row_keys:',int(row_keys))\n",
    "    #print('   prev_keys:',int(prev_keys))\n",
    "    \n",
    "    if int(row_keys) != int(prev_keys):\n",
    "        prev_keys=row_keys\n",
    "        dupkey_cnt = 0\n",
    "    else:\n",
    "        dupkey_cnt = dupkey_cnt + .1\n",
    "    \n",
    "    row_keys=row_keys + dupkey_cnt\n",
    "    #print('out key:',row_keys)\n",
    "    tmp_dict[row_keys]=tmplist3[index]\n",
    "    #print('------------------------')\n",
    "        \n",
    "    \n",
    "#for key in list_keys[]:\n",
    "#    tmp_dict[key]=tmplist3\n"
   ]
  },
  {
   "cell_type": "markdown",
   "metadata": {},
   "source": [
    "<img src=\"http://i.imgur.com/GCAf1UX.png\" style=\"float: left; margin: 25px 15px 0px 0px; height: 25px\">\n",
    "\n",
    "## 10. Write a function to generate a \"filtered\" pokedex\n",
    "---\n",
    "Your function should:\n",
    "1. Take the parsed pokedex information you created above as an argument.\n",
    "1. Take a dictionary as a parameter with keys matching the features of the Pokedex, filtering by exact match for string type values, and/or filter continuous variables specified value that is greater than or equal to the dictionary key parameter.\n",
    "1. Return multiple elements from the Pokedex\n",
    "\n",
    "Example:\n",
    "\n",
    "```python\n",
    "\n",
    "# Only filter based on parameters passed\n",
    "filter_options = {\n",
    "    'Attack':   25,\n",
    "    'Defense':  30,\n",
    "    'Type':     'Electric'\n",
    "}\n",
    "\n",
    "# Return records with attack >= 24, defense >= 30, and type == \"Electric\"\n",
    "# Also anticipate that other paramters can also be passed such as \"SpecialAttack\", \"Speed\", etc.\n",
    "filtered_pokedex(pokedex_data, filter=filter_options)\n",
    "\n",
    "# Example output:\n",
    "# [{'Attack': 30.0,\n",
    "#  'Defense': 50.0,\n",
    "#  'HP': 40.0,\n",
    "#  'Name': 'Voltorb',\n",
    "#  'SpecialAttack': 55.0,\n",
    "#  'SpecialDefense': 55.0,\n",
    "#  'Speed': 100.0,\n",
    "#  'Total': 330.0,\n",
    "#  'Type': 'Electric'},\n",
    "#  {'Attack': 30.0,\n",
    "#  'Defense': 33.0,\n",
    "#  'HP': 32.0,\n",
    "#  'Name': 'Pikachu',\n",
    "#  'SpecialAttack': 55.0,\n",
    "#  'SpecialDefense': 55.0,\n",
    "#  'Speed': 100.0,\n",
    "#  'Total': 330.0,\n",
    "#  'Type': 'Electric'},\n",
    "#  ... etc\n",
    "#  ]\n",
    "\n",
    "```\n",
    "\n"
   ]
  },
  {
   "cell_type": "markdown",
   "metadata": {
    "collapsed": true
   },
   "source": [
    "\n",
    "## 9. Descriptive statistics on the prototype pokedex\n",
    "\n",
    "<img src=\"http://imgur.com/l5NasQj.png\" style=\"float: left; margin: 25px 15px 0px 0px; height: 25px\">\n",
    "### 9.1\n",
    "\n",
    "What is the population mean and standard deviation of the \"Total\" attribute for all characters in the Pokedex?\n",
    "\n"
   ]
  },
  {
   "cell_type": "code",
   "execution_count": 112,
   "metadata": {},
   "outputs": [
    {
     "name": "stdout",
     "output_type": "stream",
     "text": [
      "mean: 435.1275\n",
      "median: 450.0\n",
      "ModeResult(mode=array([600.]), count=array([37]))\n",
      "standard deviation: 119.96202000529168\n",
      "+3 of STD: 359.88606001587505\n",
      "-3 of STD: -359.88606001587505\n"
     ]
    }
   ],
   "source": [
    "import numpy as np\n",
    "from scipy import stats\n",
    "\n",
    "test=[row[3] for row in pokedex_data[1:]]\n",
    "print('mean:',np.mean(test))\n",
    "\n",
    "sorted(test)\n",
    "print('median:',np.median(test))\n",
    "print(stats.mode(test))\n",
    "print('standard deviation:',np.std(test))\n",
    "\n",
    "pos_std=3*np.std(test)\n",
    "neg_std=-3*np.std(test)\n",
    "total_mean=np.mean(test)\n",
    "\n",
    "print('+3 of STD:', pos_std)\n",
    "print('-3 of STD:', neg_std)"
   ]
  },
  {
   "cell_type": "code",
   "execution_count": 113,
   "metadata": {},
   "outputs": [
    {
     "name": "stdout",
     "output_type": "stream",
     "text": [
      "max: 800.0\n",
      "min: 180.0\n",
      "range: range(0, 800)\n"
     ]
    }
   ],
   "source": [
    "print('max:',max(test))\n",
    "print('min:',min(test))\n",
    "print('range:',range(len(test)))"
   ]
  },
  {
   "cell_type": "code",
   "execution_count": null,
   "metadata": {},
   "outputs": [],
   "source": [
    "# ----------------------------------------------"
   ]
  },
  {
   "cell_type": "markdown",
   "metadata": {},
   "source": [
    "<img src=\"http://imgur.com/l5NasQj.png\" style=\"float: left; margin: 25px 15px 0px 0px; height: 25px\">\n",
    "### 9.2\n",
    "\n",
    "The game is no fun if the characters are wildly unbalanced! Are any characters \"overpowered\", which we'll define as having a \"Total\" more than three standard deviations from the population mean?"
   ]
  },
  {
   "cell_type": "code",
   "execution_count": 115,
   "metadata": {},
   "outputs": [
    {
     "name": "stdout",
     "output_type": "stream",
     "text": [
      "three standard deviations from the population mean? 795.0135600158751\n"
     ]
    },
    {
     "data": {
      "text/plain": [
       "[[150.0, 'MewtwoMega Mewtwo X', 800.0]]"
      ]
     },
     "execution_count": 115,
     "metadata": {},
     "output_type": "execute_result"
    }
   ],
   "source": [
    "total_mean=np.mean(test)\n",
    "pos_std=3*np.std(test)             ## multiply STD by 3\n",
    "print('three standard deviations from the population mean?',(pos_std+total_mean))\n",
    "\n",
    "[[row[0],row[1],row[3]] for row in pokedex_data[1:] if float(row[3])>=(pos_std+total_mean)]\n"
   ]
  },
  {
   "cell_type": "markdown",
   "metadata": {},
   "source": [
    "<img src=\"http://imgur.com/xDpSobf.png\" style=\"float: left; margin: 25px 15px 0px 0px; height: 25px\">\n",
    "\n",
    "## 10. Calibrate the frequency of Pokemon\n",
    "\n",
    "The design team wants you to make the powerful Pokemon rare, and the weaklings more common. How would you set the probability $p_i$ of finding Pokemon *i* each time a player visits a gym?\n",
    "\n",
    "Write a function that takes in a Pokedex number and returns a value $p_i$ for that character.\n",
    "\n",
    "Hint: there are many ways you could do this. What do _you_ think makes sense? Start with simplifying assumptions: for example, you could assume that the probabilities of encountering any two Pokemon on one visit to a gym are independent of each other."
   ]
  },
  {
   "cell_type": "code",
   "execution_count": 121,
   "metadata": {},
   "outputs": [
    {
     "name": "stdout",
     "output_type": "stream",
     "text": [
      "'-----------------------'\n",
      "record(s) found: [[3.0, 'Venusaur', 525.0], [3.0, 'VenusaurMega Venusaur', 625.0]]\n",
      "# of rows found: 2\n",
      "'-----------------------'\n",
      "[['Venusaur', 0.89375], ['VenusaurMega Venusaur', 0.106225]]\n"
     ]
    }
   ],
   "source": [
    "def get_pokemon_probability(pokedex):\n",
    "    # Assumptions:\n",
    "    # 1. powerful pokemon are pokemons with 'total' attribute >= 600\n",
    "    #    a. 85/800 or number of pokemons with total >= 600 divided by 800(total population)\n",
    "    #    probability = 10.625%  \n",
    "    # \n",
    "    # 2.  weakling pokemon are pokemons with 'total' attribute < 600\n",
    "    #    a. 715/800 or number of pokemons with total < 600 divided by 800(total population)\n",
    "    #    probability = 89.375%\n",
    "    # \n",
    "    # FUNCTION LOGIC:\n",
    "    # 1. Extract Pokemon in pokedex_data List and search based on pokedex key\n",
    "    # 2. Count the Number of rows found in pokedex_data:\n",
    "    #   - If no rows found RETURN 0\n",
    "    #   - If one record found, extract and return the probability\n",
    "    #   - if more than one record found, \n",
    "    #         return a list containing name,and Probability \n",
    "    \n",
    "    \n",
    "    \n",
    "    # Extract Pokemon in pokedex_data List and search based on pokedex key\n",
    "    tmplist=[[row[0],row[1],row[3]] for row in pokedex_data[1:] if row[0]==pokedex]\n",
    "    \n",
    "    pprint('-----------------------')\n",
    "    print('record(s) found:',tmplist)\n",
    "    \n",
    "    row_count=len(tmplist)\n",
    "    print('# of rows found:',row_count)\n",
    "    pprint('-----------------------')\n",
    "    \n",
    "    \n",
    "    #-----------------------------------------------\n",
    "    #   - If no rows found RETURN 0\n",
    "    #   - If one record found, extract and return the probability\n",
    "    #   - if more than one record found, \n",
    "    #         return a list containing name,and Probability \n",
    "    #-----------------------------------------------\n",
    "    if row_count == 0:\n",
    "        return 0\n",
    "    \n",
    "    outlist=[]\n",
    "    for row in tmplist:\n",
    "        if row[2] >= 600:\n",
    "            prob = .106225\n",
    "        else:\n",
    "            prob = .89375\n",
    "            \n",
    "        if row_count == 1:\n",
    "            return prob\n",
    "        else:\n",
    "            outlist.append([row[1],prob])\n",
    "    return outlist\n",
    "\n",
    "pprint(get_pokemon_probability(3))"
   ]
  },
  {
   "cell_type": "code",
   "execution_count": null,
   "metadata": {},
   "outputs": [],
   "source": []
  }
 ],
 "metadata": {
  "anaconda-cloud": {},
  "kernelspec": {
   "display_name": "Python 3",
   "language": "python",
   "name": "python3"
  },
  "language_info": {
   "codemirror_mode": {
    "name": "ipython",
    "version": 3
   },
   "file_extension": ".py",
   "mimetype": "text/x-python",
   "name": "python",
   "nbconvert_exporter": "python",
   "pygments_lexer": "ipython3",
   "version": "3.7.1"
  }
 },
 "nbformat": 4,
 "nbformat_minor": 1
}
